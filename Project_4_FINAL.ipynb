{
 "cells": [
  {
   "cell_type": "markdown",
   "metadata": {},
   "source": [
    "# Анализ тарифов \"Мегалайн\""
   ]
  },
  {
   "cell_type": "markdown",
   "metadata": {},
   "source": [
    "## Описание проекта"
   ]
  },
  {
   "cell_type": "markdown",
   "metadata": {},
   "source": [
    "Мы аналитики компании «Мегалайн» — федерального оператора сотовой связи. \n",
    "\n",
    "Клиентам предлагают два тарифных плана: «Смарт» и «Ультра». \n",
    "\n",
    "Чтобы скорректировать рекламный бюджет, коммерческий департамент хочет понять, какой тариф приносит больше денег.\n",
    "\n",
    "Нам предстоит сделать предварительный анализ тарифов на небольшой выборке клиентов. В нашем распоряжении данные 500 пользователей «Мегалайна»: кто они, откуда, каким тарифом пользуются, сколько звонков и сообщений каждый отправил за 2018 год. Нужно проанализировать поведение клиентов и сделать вывод — какой тариф лучше."
   ]
  },
  {
   "cell_type": "markdown",
   "metadata": {},
   "source": [
    "Будем проводить анализ в несколько этапов.\n",
    "\n",
    "1. [Изучим описание тарифов.](#describe)\n",
    "2. [В нашем распоряжении будет несколько таблиц. Прочитаем их и сделаем обзор каждого столбца каждой таблицы.](#view)\n",
    "3. [Предобработка данных в таблицах. Поиск пропусков, дубликатов, работа с аномалиями в данных, приведение типов данных.](#prepare)<br>\n",
    "    3.1 [Таблица `users`](#users)<br>\n",
    "    3.2 [Таблица `calls`](#calls)<br>\n",
    "    3.3 [Таблица `messages`](#messages)<br>\n",
    "    3.4 [Таблица `internet`](#internet)<br>\n",
    "    3.5 [Таблица `tariffs`](#tariffs)<br>\n",
    "4. [Подсчет показателей и выручки по каждому пользователю.](#count_income)\n",
    "5. [Анализ данных.](#analis)\n",
    "6. [Проверка гипотезы.](#hipotes)\n",
    "7. [Выводы.](#resume)"
   ]
  },
  {
   "cell_type": "markdown",
   "metadata": {},
   "source": [
    "## Описание тарифов <a name='describe'></a>"
   ]
  },
  {
   "cell_type": "markdown",
   "metadata": {},
   "source": [
    "**Тариф «Смарт»**\n",
    "\n",
    "* Ежемесячная плата: 550 рублей\n",
    "* Включено 500 минут разговора, 50 сообщений и 15 Гб интернет-трафика\n",
    "* Стоимость услуг сверх тарифного пакета:\n",
    "    * минута разговора: 3 рубля\n",
    "    * сообщение: 3 рубля\n",
    "    * 1 Гб интернет-трафика: 200 рублей\n",
    "\n",
    "**Тариф «Ультра»**\n",
    "* Ежемесячная плата: 1950 рублей\n",
    "* Включено 3000 минут разговора, 1000 сообщений и 30 Гб интернет-трафика\n",
    "* Стоимость услуг сверх тарифного пакета:\n",
    "    * минута разговора: 1 рубль\n",
    "    * сообщение: 1 рубль\n",
    "    * 1 Гб интернет-трафика: 150 рублей\n",
    "\n",
    "**Примечание:**\n",
    "\n",
    "«Мегалайн» всегда округляет секунды до минут, а мегабайты — до гигабайт. Каждый звонок округляется отдельно: даже если он длился всего 1 секунду, будет засчитан как 1 минута.\n",
    "\n",
    "Для веб-трафика отдельные сессии не считаются. Вместо этого общая сумма за месяц округляется в бо́льшую сторону. Если абонент использует 1025 мегабайт в этом месяце, с него возьмут плату за 2 гигабайта."
   ]
  },
  {
   "cell_type": "markdown",
   "metadata": {},
   "source": [
    "## Обзор данных <a name=\"view\"></a>"
   ]
  },
  {
   "cell_type": "markdown",
   "metadata": {},
   "source": [
    "Импорт библиотек:"
   ]
  },
  {
   "cell_type": "code",
   "execution_count": 1,
   "metadata": {},
   "outputs": [],
   "source": [
    "import pandas as pd        # импортируем библиотеку pandas\n",
    "import seaborn as sps      # импортируем библиотеку seaborn\n",
    "from scipy import stats as st # импортируем библиотеку для статистического анализа\n",
    "from matplotlib import pyplot as plt # импортируем библиотеку для построения графиков\n",
    "import plotly.express as px # импорт библиотеки для построение интерактивных графиков\n",
    "import numpy as np # импортируем библиотеку numpy\n",
    "from datetime import datetime # импортируем библиотеку для работы с типами datetime\n",
    "import os"
   ]
  },
  {
   "cell_type": "code",
   "execution_count": 2,
   "metadata": {},
   "outputs": [],
   "source": [
    "# читаем наши csv-файлы, помещая их содержимое в датафреймы с теми же именами\n",
    "pth1 = '/datasets/users.csv'\n",
    "pth2 = 'users.csv'\n",
    "\n",
    "if os.path.exists(pth1): # если читаем из окружения Яндекса\n",
    "    users = pd.read_csv(pth1)\n",
    "    tariffs = pd.read_csv('/datasets/tariffs.csv')\n",
    "    messages = pd.read_csv('/datasets/messages.csv')\n",
    "    internet = pd.read_csv('/datasets/internet.csv')\n",
    "    calls = pd.read_csv('/datasets/calls.csv')\n",
    "elif os.path.exists(pth2): # если читаем оттуда же, где лежат файлы\n",
    "    users = pd.read_csv(pth2)\n",
    "    tariffs = pd.read_csv('tariffs.csv')\n",
    "    messages = pd.read_csv('messages.csv')\n",
    "    internet = pd.read_csv('internet.csv')\n",
    "    calls = pd.read_csv('calls.csv')\n",
    "else:\n",
    "    print('Не удается прочитать файлы')\n",
    "\n",
    "pd.options.display.max_columns = 40 # столбцов много, поэтому устанавливаем отображение всех, с запасом"
   ]
  },
  {
   "cell_type": "markdown",
   "metadata": {},
   "source": [
    "Посмотим на первые 5 строк каждого датафрейма и информацию по каждой таблице:"
   ]
  },
  {
   "cell_type": "code",
   "execution_count": 3,
   "metadata": {},
   "outputs": [
    {
     "data": {
      "text/html": [
       "<div>\n",
       "<style scoped>\n",
       "    .dataframe tbody tr th:only-of-type {\n",
       "        vertical-align: middle;\n",
       "    }\n",
       "\n",
       "    .dataframe tbody tr th {\n",
       "        vertical-align: top;\n",
       "    }\n",
       "\n",
       "    .dataframe thead th {\n",
       "        text-align: right;\n",
       "    }\n",
       "</style>\n",
       "<table border=\"1\" class=\"dataframe\">\n",
       "  <thead>\n",
       "    <tr style=\"text-align: right;\">\n",
       "      <th></th>\n",
       "      <th>user_id</th>\n",
       "      <th>age</th>\n",
       "      <th>churn_date</th>\n",
       "      <th>city</th>\n",
       "      <th>first_name</th>\n",
       "      <th>last_name</th>\n",
       "      <th>reg_date</th>\n",
       "      <th>tariff</th>\n",
       "    </tr>\n",
       "  </thead>\n",
       "  <tbody>\n",
       "    <tr>\n",
       "      <th>0</th>\n",
       "      <td>1000</td>\n",
       "      <td>52</td>\n",
       "      <td>NaN</td>\n",
       "      <td>Краснодар</td>\n",
       "      <td>Рафаил</td>\n",
       "      <td>Верещагин</td>\n",
       "      <td>2018-05-25</td>\n",
       "      <td>ultra</td>\n",
       "    </tr>\n",
       "    <tr>\n",
       "      <th>1</th>\n",
       "      <td>1001</td>\n",
       "      <td>41</td>\n",
       "      <td>NaN</td>\n",
       "      <td>Москва</td>\n",
       "      <td>Иван</td>\n",
       "      <td>Ежов</td>\n",
       "      <td>2018-11-01</td>\n",
       "      <td>smart</td>\n",
       "    </tr>\n",
       "    <tr>\n",
       "      <th>2</th>\n",
       "      <td>1002</td>\n",
       "      <td>59</td>\n",
       "      <td>NaN</td>\n",
       "      <td>Стерлитамак</td>\n",
       "      <td>Евгений</td>\n",
       "      <td>Абрамович</td>\n",
       "      <td>2018-06-17</td>\n",
       "      <td>smart</td>\n",
       "    </tr>\n",
       "    <tr>\n",
       "      <th>3</th>\n",
       "      <td>1003</td>\n",
       "      <td>23</td>\n",
       "      <td>NaN</td>\n",
       "      <td>Москва</td>\n",
       "      <td>Белла</td>\n",
       "      <td>Белякова</td>\n",
       "      <td>2018-08-17</td>\n",
       "      <td>ultra</td>\n",
       "    </tr>\n",
       "    <tr>\n",
       "      <th>4</th>\n",
       "      <td>1004</td>\n",
       "      <td>68</td>\n",
       "      <td>NaN</td>\n",
       "      <td>Новокузнецк</td>\n",
       "      <td>Татьяна</td>\n",
       "      <td>Авдеенко</td>\n",
       "      <td>2018-05-14</td>\n",
       "      <td>ultra</td>\n",
       "    </tr>\n",
       "  </tbody>\n",
       "</table>\n",
       "</div>"
      ],
      "text/plain": [
       "   user_id  age churn_date         city first_name  last_name    reg_date  \\\n",
       "0     1000   52        NaN    Краснодар     Рафаил  Верещагин  2018-05-25   \n",
       "1     1001   41        NaN       Москва       Иван       Ежов  2018-11-01   \n",
       "2     1002   59        NaN  Стерлитамак    Евгений  Абрамович  2018-06-17   \n",
       "3     1003   23        NaN       Москва      Белла   Белякова  2018-08-17   \n",
       "4     1004   68        NaN  Новокузнецк    Татьяна   Авдеенко  2018-05-14   \n",
       "\n",
       "  tariff  \n",
       "0  ultra  \n",
       "1  smart  \n",
       "2  smart  \n",
       "3  ultra  \n",
       "4  ultra  "
      ]
     },
     "execution_count": 3,
     "metadata": {},
     "output_type": "execute_result"
    }
   ],
   "source": [
    "users.head()"
   ]
  },
  {
   "cell_type": "code",
   "execution_count": 4,
   "metadata": {},
   "outputs": [
    {
     "name": "stdout",
     "output_type": "stream",
     "text": [
      "<class 'pandas.core.frame.DataFrame'>\n",
      "RangeIndex: 500 entries, 0 to 499\n",
      "Data columns (total 8 columns):\n",
      " #   Column      Non-Null Count  Dtype \n",
      "---  ------      --------------  ----- \n",
      " 0   user_id     500 non-null    int64 \n",
      " 1   age         500 non-null    int64 \n",
      " 2   churn_date  38 non-null     object\n",
      " 3   city        500 non-null    object\n",
      " 4   first_name  500 non-null    object\n",
      " 5   last_name   500 non-null    object\n",
      " 6   reg_date    500 non-null    object\n",
      " 7   tariff      500 non-null    object\n",
      "dtypes: int64(2), object(6)\n",
      "memory usage: 31.4+ KB\n"
     ]
    }
   ],
   "source": [
    "users.info()"
   ]
  },
  {
   "cell_type": "code",
   "execution_count": 5,
   "metadata": {},
   "outputs": [
    {
     "data": {
      "text/html": [
       "<div>\n",
       "<style scoped>\n",
       "    .dataframe tbody tr th:only-of-type {\n",
       "        vertical-align: middle;\n",
       "    }\n",
       "\n",
       "    .dataframe tbody tr th {\n",
       "        vertical-align: top;\n",
       "    }\n",
       "\n",
       "    .dataframe thead th {\n",
       "        text-align: right;\n",
       "    }\n",
       "</style>\n",
       "<table border=\"1\" class=\"dataframe\">\n",
       "  <thead>\n",
       "    <tr style=\"text-align: right;\">\n",
       "      <th></th>\n",
       "      <th>messages_included</th>\n",
       "      <th>mb_per_month_included</th>\n",
       "      <th>minutes_included</th>\n",
       "      <th>rub_monthly_fee</th>\n",
       "      <th>rub_per_gb</th>\n",
       "      <th>rub_per_message</th>\n",
       "      <th>rub_per_minute</th>\n",
       "      <th>tariff_name</th>\n",
       "    </tr>\n",
       "  </thead>\n",
       "  <tbody>\n",
       "    <tr>\n",
       "      <th>0</th>\n",
       "      <td>50</td>\n",
       "      <td>15360</td>\n",
       "      <td>500</td>\n",
       "      <td>550</td>\n",
       "      <td>200</td>\n",
       "      <td>3</td>\n",
       "      <td>3</td>\n",
       "      <td>smart</td>\n",
       "    </tr>\n",
       "    <tr>\n",
       "      <th>1</th>\n",
       "      <td>1000</td>\n",
       "      <td>30720</td>\n",
       "      <td>3000</td>\n",
       "      <td>1950</td>\n",
       "      <td>150</td>\n",
       "      <td>1</td>\n",
       "      <td>1</td>\n",
       "      <td>ultra</td>\n",
       "    </tr>\n",
       "  </tbody>\n",
       "</table>\n",
       "</div>"
      ],
      "text/plain": [
       "   messages_included  mb_per_month_included  minutes_included  \\\n",
       "0                 50                  15360               500   \n",
       "1               1000                  30720              3000   \n",
       "\n",
       "   rub_monthly_fee  rub_per_gb  rub_per_message  rub_per_minute tariff_name  \n",
       "0              550         200                3               3       smart  \n",
       "1             1950         150                1               1       ultra  "
      ]
     },
     "execution_count": 5,
     "metadata": {},
     "output_type": "execute_result"
    }
   ],
   "source": [
    "tariffs.head()"
   ]
  },
  {
   "cell_type": "code",
   "execution_count": 6,
   "metadata": {},
   "outputs": [
    {
     "name": "stdout",
     "output_type": "stream",
     "text": [
      "<class 'pandas.core.frame.DataFrame'>\n",
      "RangeIndex: 2 entries, 0 to 1\n",
      "Data columns (total 8 columns):\n",
      " #   Column                 Non-Null Count  Dtype \n",
      "---  ------                 --------------  ----- \n",
      " 0   messages_included      2 non-null      int64 \n",
      " 1   mb_per_month_included  2 non-null      int64 \n",
      " 2   minutes_included       2 non-null      int64 \n",
      " 3   rub_monthly_fee        2 non-null      int64 \n",
      " 4   rub_per_gb             2 non-null      int64 \n",
      " 5   rub_per_message        2 non-null      int64 \n",
      " 6   rub_per_minute         2 non-null      int64 \n",
      " 7   tariff_name            2 non-null      object\n",
      "dtypes: int64(7), object(1)\n",
      "memory usage: 256.0+ bytes\n"
     ]
    }
   ],
   "source": [
    "tariffs.info()"
   ]
  },
  {
   "cell_type": "code",
   "execution_count": 7,
   "metadata": {},
   "outputs": [
    {
     "data": {
      "text/html": [
       "<div>\n",
       "<style scoped>\n",
       "    .dataframe tbody tr th:only-of-type {\n",
       "        vertical-align: middle;\n",
       "    }\n",
       "\n",
       "    .dataframe tbody tr th {\n",
       "        vertical-align: top;\n",
       "    }\n",
       "\n",
       "    .dataframe thead th {\n",
       "        text-align: right;\n",
       "    }\n",
       "</style>\n",
       "<table border=\"1\" class=\"dataframe\">\n",
       "  <thead>\n",
       "    <tr style=\"text-align: right;\">\n",
       "      <th></th>\n",
       "      <th>id</th>\n",
       "      <th>message_date</th>\n",
       "      <th>user_id</th>\n",
       "    </tr>\n",
       "  </thead>\n",
       "  <tbody>\n",
       "    <tr>\n",
       "      <th>0</th>\n",
       "      <td>1000_0</td>\n",
       "      <td>2018-06-27</td>\n",
       "      <td>1000</td>\n",
       "    </tr>\n",
       "    <tr>\n",
       "      <th>1</th>\n",
       "      <td>1000_1</td>\n",
       "      <td>2018-10-08</td>\n",
       "      <td>1000</td>\n",
       "    </tr>\n",
       "    <tr>\n",
       "      <th>2</th>\n",
       "      <td>1000_2</td>\n",
       "      <td>2018-08-04</td>\n",
       "      <td>1000</td>\n",
       "    </tr>\n",
       "    <tr>\n",
       "      <th>3</th>\n",
       "      <td>1000_3</td>\n",
       "      <td>2018-06-16</td>\n",
       "      <td>1000</td>\n",
       "    </tr>\n",
       "    <tr>\n",
       "      <th>4</th>\n",
       "      <td>1000_4</td>\n",
       "      <td>2018-12-05</td>\n",
       "      <td>1000</td>\n",
       "    </tr>\n",
       "  </tbody>\n",
       "</table>\n",
       "</div>"
      ],
      "text/plain": [
       "       id message_date  user_id\n",
       "0  1000_0   2018-06-27     1000\n",
       "1  1000_1   2018-10-08     1000\n",
       "2  1000_2   2018-08-04     1000\n",
       "3  1000_3   2018-06-16     1000\n",
       "4  1000_4   2018-12-05     1000"
      ]
     },
     "execution_count": 7,
     "metadata": {},
     "output_type": "execute_result"
    }
   ],
   "source": [
    "messages.head()"
   ]
  },
  {
   "cell_type": "code",
   "execution_count": 8,
   "metadata": {},
   "outputs": [
    {
     "name": "stdout",
     "output_type": "stream",
     "text": [
      "<class 'pandas.core.frame.DataFrame'>\n",
      "RangeIndex: 123036 entries, 0 to 123035\n",
      "Data columns (total 3 columns):\n",
      " #   Column        Non-Null Count   Dtype \n",
      "---  ------        --------------   ----- \n",
      " 0   id            123036 non-null  object\n",
      " 1   message_date  123036 non-null  object\n",
      " 2   user_id       123036 non-null  int64 \n",
      "dtypes: int64(1), object(2)\n",
      "memory usage: 2.8+ MB\n"
     ]
    }
   ],
   "source": [
    "messages.info()"
   ]
  },
  {
   "cell_type": "code",
   "execution_count": 9,
   "metadata": {},
   "outputs": [
    {
     "data": {
      "text/html": [
       "<div>\n",
       "<style scoped>\n",
       "    .dataframe tbody tr th:only-of-type {\n",
       "        vertical-align: middle;\n",
       "    }\n",
       "\n",
       "    .dataframe tbody tr th {\n",
       "        vertical-align: top;\n",
       "    }\n",
       "\n",
       "    .dataframe thead th {\n",
       "        text-align: right;\n",
       "    }\n",
       "</style>\n",
       "<table border=\"1\" class=\"dataframe\">\n",
       "  <thead>\n",
       "    <tr style=\"text-align: right;\">\n",
       "      <th></th>\n",
       "      <th>Unnamed: 0</th>\n",
       "      <th>id</th>\n",
       "      <th>mb_used</th>\n",
       "      <th>session_date</th>\n",
       "      <th>user_id</th>\n",
       "    </tr>\n",
       "  </thead>\n",
       "  <tbody>\n",
       "    <tr>\n",
       "      <th>0</th>\n",
       "      <td>0</td>\n",
       "      <td>1000_0</td>\n",
       "      <td>112.95</td>\n",
       "      <td>2018-11-25</td>\n",
       "      <td>1000</td>\n",
       "    </tr>\n",
       "    <tr>\n",
       "      <th>1</th>\n",
       "      <td>1</td>\n",
       "      <td>1000_1</td>\n",
       "      <td>1052.81</td>\n",
       "      <td>2018-09-07</td>\n",
       "      <td>1000</td>\n",
       "    </tr>\n",
       "    <tr>\n",
       "      <th>2</th>\n",
       "      <td>2</td>\n",
       "      <td>1000_2</td>\n",
       "      <td>1197.26</td>\n",
       "      <td>2018-06-25</td>\n",
       "      <td>1000</td>\n",
       "    </tr>\n",
       "    <tr>\n",
       "      <th>3</th>\n",
       "      <td>3</td>\n",
       "      <td>1000_3</td>\n",
       "      <td>550.27</td>\n",
       "      <td>2018-08-22</td>\n",
       "      <td>1000</td>\n",
       "    </tr>\n",
       "    <tr>\n",
       "      <th>4</th>\n",
       "      <td>4</td>\n",
       "      <td>1000_4</td>\n",
       "      <td>302.56</td>\n",
       "      <td>2018-09-24</td>\n",
       "      <td>1000</td>\n",
       "    </tr>\n",
       "  </tbody>\n",
       "</table>\n",
       "</div>"
      ],
      "text/plain": [
       "   Unnamed: 0      id  mb_used session_date  user_id\n",
       "0           0  1000_0   112.95   2018-11-25     1000\n",
       "1           1  1000_1  1052.81   2018-09-07     1000\n",
       "2           2  1000_2  1197.26   2018-06-25     1000\n",
       "3           3  1000_3   550.27   2018-08-22     1000\n",
       "4           4  1000_4   302.56   2018-09-24     1000"
      ]
     },
     "execution_count": 9,
     "metadata": {},
     "output_type": "execute_result"
    }
   ],
   "source": [
    "internet.head()"
   ]
  },
  {
   "cell_type": "code",
   "execution_count": 10,
   "metadata": {},
   "outputs": [
    {
     "name": "stdout",
     "output_type": "stream",
     "text": [
      "<class 'pandas.core.frame.DataFrame'>\n",
      "RangeIndex: 149396 entries, 0 to 149395\n",
      "Data columns (total 5 columns):\n",
      " #   Column        Non-Null Count   Dtype  \n",
      "---  ------        --------------   -----  \n",
      " 0   Unnamed: 0    149396 non-null  int64  \n",
      " 1   id            149396 non-null  object \n",
      " 2   mb_used       149396 non-null  float64\n",
      " 3   session_date  149396 non-null  object \n",
      " 4   user_id       149396 non-null  int64  \n",
      "dtypes: float64(1), int64(2), object(2)\n",
      "memory usage: 5.7+ MB\n"
     ]
    }
   ],
   "source": [
    "internet.info()"
   ]
  },
  {
   "cell_type": "code",
   "execution_count": 11,
   "metadata": {},
   "outputs": [
    {
     "data": {
      "text/html": [
       "<div>\n",
       "<style scoped>\n",
       "    .dataframe tbody tr th:only-of-type {\n",
       "        vertical-align: middle;\n",
       "    }\n",
       "\n",
       "    .dataframe tbody tr th {\n",
       "        vertical-align: top;\n",
       "    }\n",
       "\n",
       "    .dataframe thead th {\n",
       "        text-align: right;\n",
       "    }\n",
       "</style>\n",
       "<table border=\"1\" class=\"dataframe\">\n",
       "  <thead>\n",
       "    <tr style=\"text-align: right;\">\n",
       "      <th></th>\n",
       "      <th>id</th>\n",
       "      <th>call_date</th>\n",
       "      <th>duration</th>\n",
       "      <th>user_id</th>\n",
       "    </tr>\n",
       "  </thead>\n",
       "  <tbody>\n",
       "    <tr>\n",
       "      <th>0</th>\n",
       "      <td>1000_0</td>\n",
       "      <td>2018-07-25</td>\n",
       "      <td>0.00</td>\n",
       "      <td>1000</td>\n",
       "    </tr>\n",
       "    <tr>\n",
       "      <th>1</th>\n",
       "      <td>1000_1</td>\n",
       "      <td>2018-08-17</td>\n",
       "      <td>0.00</td>\n",
       "      <td>1000</td>\n",
       "    </tr>\n",
       "    <tr>\n",
       "      <th>2</th>\n",
       "      <td>1000_2</td>\n",
       "      <td>2018-06-11</td>\n",
       "      <td>2.85</td>\n",
       "      <td>1000</td>\n",
       "    </tr>\n",
       "    <tr>\n",
       "      <th>3</th>\n",
       "      <td>1000_3</td>\n",
       "      <td>2018-09-21</td>\n",
       "      <td>13.80</td>\n",
       "      <td>1000</td>\n",
       "    </tr>\n",
       "    <tr>\n",
       "      <th>4</th>\n",
       "      <td>1000_4</td>\n",
       "      <td>2018-12-15</td>\n",
       "      <td>5.18</td>\n",
       "      <td>1000</td>\n",
       "    </tr>\n",
       "  </tbody>\n",
       "</table>\n",
       "</div>"
      ],
      "text/plain": [
       "       id   call_date  duration  user_id\n",
       "0  1000_0  2018-07-25      0.00     1000\n",
       "1  1000_1  2018-08-17      0.00     1000\n",
       "2  1000_2  2018-06-11      2.85     1000\n",
       "3  1000_3  2018-09-21     13.80     1000\n",
       "4  1000_4  2018-12-15      5.18     1000"
      ]
     },
     "execution_count": 11,
     "metadata": {},
     "output_type": "execute_result"
    }
   ],
   "source": [
    "calls.head()"
   ]
  },
  {
   "cell_type": "code",
   "execution_count": 12,
   "metadata": {},
   "outputs": [
    {
     "name": "stdout",
     "output_type": "stream",
     "text": [
      "<class 'pandas.core.frame.DataFrame'>\n",
      "RangeIndex: 202607 entries, 0 to 202606\n",
      "Data columns (total 4 columns):\n",
      " #   Column     Non-Null Count   Dtype  \n",
      "---  ------     --------------   -----  \n",
      " 0   id         202607 non-null  object \n",
      " 1   call_date  202607 non-null  object \n",
      " 2   duration   202607 non-null  float64\n",
      " 3   user_id    202607 non-null  int64  \n",
      "dtypes: float64(1), int64(1), object(2)\n",
      "memory usage: 6.2+ MB\n"
     ]
    }
   ],
   "source": [
    "calls.info()"
   ]
  },
  {
   "cell_type": "markdown",
   "metadata": {},
   "source": [
    "### Описание данных\n",
    "Таблица `users` (информация о пользователях):\n",
    "* user_id — уникальный идентификатор пользователя\n",
    "* first_name — имя пользователя\n",
    "* last_name — фамилия пользователя\n",
    "* age — возраст пользователя (годы)\n",
    "* reg_date — дата подключения тарифа (день, месяц, год)\n",
    "* churn_date — дата прекращения пользования тарифом (если значение пропущено, то тариф ещё действовал на момент выгрузки данных)\n",
    "* city — город проживания пользователя\n",
    "* tariff — название тарифного плана\n",
    "\n",
    "Таблица `calls` (информация о звонках):\n",
    "* id — уникальный номер звонка\n",
    "* call_date — дата звонка\n",
    "* duration — длительность звонка в минутах\n",
    "* user_id — идентификатор пользователя, сделавшего звонок\n",
    "\n",
    "Таблица `messages` (информация о сообщениях):\n",
    "* id — уникальный номер сообщения\n",
    "* message_date — дата сообщения\n",
    "* user_id — идентификатор пользователя, отправившего сообщение\n",
    "\n",
    "Таблица `internet` (информация об интернет-сессиях):\n",
    "* id — уникальный номер сессии\n",
    "* mb_used — объём потраченного за сессию интернет-трафика (в мегабайтах)\n",
    "* session_date — дата интернет-сессии\n",
    "* user_id — идентификатор пользователя\n",
    "\n",
    "Таблица `tariffs` (информация о тарифах):\n",
    "* tariff_name — название тарифа\n",
    "* rub_monthly_fee — ежемесячная абонентская плата в рублях\n",
    "* minutes_included — количество минут разговора в месяц, включённых в абонентскую плату\n",
    "* messages_included — количество сообщений в месяц, включённых в абонентскую плату\n",
    "* mb_per_month_included — объём интернет-трафика, включённого в абонентскую плату (в мегабайтах)\n",
    "* rub_per_minute — стоимость минуты разговора сверх тарифного пакета (например, если в тарифе 100 минут разговора в месяц, то со 101 минуты будет взиматься плата)\n",
    "* rub_per_message — стоимость отправки сообщения сверх тарифного пакета\n",
    "* rub_per_gb — стоимость дополнительного гигабайта интернет-трафика сверх тарифного пакета (1 гигабайт = 1024 мегабайта)"
   ]
  },
  {
   "cell_type": "markdown",
   "metadata": {},
   "source": [
    "**Выводы:**\n",
    "\n",
    "В нашем распоряжении 5 таблиц: информация о пользователях, их звонках, сообщениях, интернет-сессиях и тарифах.\n",
    "Нарушений стилей заголовков не обнаружено.\n",
    "\n",
    "Пропущенные значения есть только в таблице `users` в столбце `churn_date` - дата прекращения пользования тарифом. NaN означает, что тарифом еще пользовались на момент выгрузки данных. Формат дат в каждой таблице имеет тип `object`, нужно будет привести тип данных к `datetime`. \n",
    "\n",
    "Кроме того, в дальнейшем нужно будет округлить время разговоров до минут вверх. Для интернет-трафика приводить каждое отдельное значение не будем - нужно будет считать помесячно для каждого пользователя и только затем округлять до гигабайт в бо́льшую сторону."
   ]
  },
  {
   "cell_type": "markdown",
   "metadata": {},
   "source": [
    "## Предобработка данных <a name=\"prepare\"></a>"
   ]
  },
  {
   "cell_type": "markdown",
   "metadata": {},
   "source": [
    "### Таблица `users` <a name=\"users\"></a>"
   ]
  },
  {
   "cell_type": "markdown",
   "metadata": {},
   "source": [
    "Поскольку пропуски есть только в табилце `users` в столбце `churn_date` и эти пропуски обоснованы, оставим их как есть.\n",
    "\n",
    "Приведем типы данных всех дат во всех таблицах к необходимым:"
   ]
  },
  {
   "cell_type": "code",
   "execution_count": 13,
   "metadata": {},
   "outputs": [],
   "source": [
    "\n",
    "users['churn_date'] = pd.to_datetime(users['churn_date'], format='%Y-%m-%d')\n",
    "users['reg_date'] = pd.to_datetime(users['reg_date'], format='%Y-%m-%d')\n",
    "calls['call_date'] = pd.to_datetime(calls['call_date'], format='%Y-%m-%d')\n",
    "messages['message_date'] = pd.to_datetime(messages['message_date'], format='%Y-%m-%d')\n",
    "internet['session_date'] = pd.to_datetime(internet['session_date'], format='%Y-%m-%d')\n"
   ]
  },
  {
   "cell_type": "markdown",
   "metadata": {},
   "source": [
    "Проверим корректность приведения типов:"
   ]
  },
  {
   "cell_type": "code",
   "execution_count": 14,
   "metadata": {},
   "outputs": [
    {
     "data": {
      "text/plain": [
       "183   NaT\n",
       "207   NaT\n",
       "75    NaT\n",
       "Name: churn_date, dtype: datetime64[ns]"
      ]
     },
     "metadata": {},
     "output_type": "display_data"
    },
    {
     "data": {
      "text/plain": [
       "dtype('<M8[ns]')"
      ]
     },
     "metadata": {},
     "output_type": "display_data"
    },
    {
     "data": {
      "text/plain": [
       "423   2018-01-23\n",
       "Name: reg_date, dtype: datetime64[ns]"
      ]
     },
     "metadata": {},
     "output_type": "display_data"
    },
    {
     "data": {
      "text/plain": [
       "dtype('<M8[ns]')"
      ]
     },
     "metadata": {},
     "output_type": "display_data"
    },
    {
     "data": {
      "text/plain": [
       "59474   2018-07-28\n",
       "Name: call_date, dtype: datetime64[ns]"
      ]
     },
     "metadata": {},
     "output_type": "display_data"
    },
    {
     "data": {
      "text/plain": [
       "dtype('<M8[ns]')"
      ]
     },
     "metadata": {},
     "output_type": "display_data"
    },
    {
     "data": {
      "text/plain": [
       "27547   2018-07-26\n",
       "Name: message_date, dtype: datetime64[ns]"
      ]
     },
     "metadata": {},
     "output_type": "display_data"
    },
    {
     "data": {
      "text/plain": [
       "dtype('<M8[ns]')"
      ]
     },
     "metadata": {},
     "output_type": "display_data"
    },
    {
     "data": {
      "text/plain": [
       "122528   2018-07-01\n",
       "Name: session_date, dtype: datetime64[ns]"
      ]
     },
     "metadata": {},
     "output_type": "display_data"
    },
    {
     "data": {
      "text/plain": [
       "dtype('<M8[ns]')"
      ]
     },
     "metadata": {},
     "output_type": "display_data"
    }
   ],
   "source": [
    "display(users['churn_date'].sample(3), users['churn_date'].dtype,\n",
    "users['reg_date'].sample(), users['reg_date'].dtype,\n",
    "calls['call_date'].sample(), calls['call_date'].dtype,\n",
    "messages['message_date'].sample(), messages['message_date'].dtype,\n",
    "internet['session_date'].sample(), internet['session_date'].dtype)"
   ]
  },
  {
   "cell_type": "markdown",
   "metadata": {},
   "source": [
    "Посмотри на возможные аномалии в данных. Начнем с `users`:"
   ]
  },
  {
   "cell_type": "code",
   "execution_count": 15,
   "metadata": {},
   "outputs": [
    {
     "data": {
      "text/plain": [
       "True"
      ]
     },
     "execution_count": 15,
     "metadata": {},
     "output_type": "execute_result"
    }
   ],
   "source": [
    "users['user_id'].is_unique # проверяем, все ли user_id уникальны"
   ]
  },
  {
   "cell_type": "code",
   "execution_count": 16,
   "metadata": {},
   "outputs": [
    {
     "data": {
      "text/plain": [
       "array(['ultra', 'smart'], dtype=object)"
      ]
     },
     "execution_count": 16,
     "metadata": {},
     "output_type": "execute_result"
    }
   ],
   "source": [
    "users['tariff'].unique() # проверяем все тарифы, которые есть у пользователей"
   ]
  },
  {
   "cell_type": "code",
   "execution_count": 17,
   "metadata": {},
   "outputs": [
    {
     "data": {
      "text/plain": [
       "array(['Краснодар', 'Москва', 'Стерлитамак', 'Новокузнецк',\n",
       "       'Набережные Челны', 'Ульяновск', 'Челябинск', 'Пермь', 'Тюмень',\n",
       "       'Самара', 'Санкт-Петербург', 'Иваново', 'Чебоксары', 'Омск', 'Уфа',\n",
       "       'Томск', 'Чита', 'Мурманск', 'Петрозаводск', 'Тверь',\n",
       "       'Екатеринбург', 'Махачкала', 'Вологда', 'Череповец', 'Ярославль',\n",
       "       'Сочи', 'Хабаровск', 'Ставрополь', 'Рязань', 'Улан-Удэ', 'Тула',\n",
       "       'Саратов', 'Ростов-на-Дону', 'Казань', 'Иркутск', 'Курск',\n",
       "       'Калуга', 'Якутск', 'Астрахань', 'Химки', 'Владикавказ',\n",
       "       'Волгоград', 'Саранск', 'Ижевск', 'Новосибирск', 'Брянск',\n",
       "       'Тольятти', 'Нижний Тагил', 'Орёл', 'Белгород', 'Воронеж',\n",
       "       'Волжский', 'Курган', 'Барнаул', 'Красноярск', 'Архангельск',\n",
       "       'Липецк', 'Кемерово', 'Киров', 'Сургут', 'Пенза', 'Магнитогорск',\n",
       "       'Нижний Новгород', 'Кострома', 'Владивосток', 'Тамбов', 'Балашиха',\n",
       "       'Севастополь', 'Калининград', 'Оренбург', 'Смоленск',\n",
       "       'Нижневартовск', 'Владимир', 'Новороссийск', 'Грозный', 'Подольск'],\n",
       "      dtype=object)"
      ]
     },
     "execution_count": 17,
     "metadata": {},
     "output_type": "execute_result"
    }
   ],
   "source": [
    "users['city'].unique() # посмотрим на уникальные города"
   ]
  },
  {
   "cell_type": "code",
   "execution_count": 18,
   "metadata": {},
   "outputs": [
    {
     "data": {
      "text/plain": [
       "array([18, 19, 20, 21, 22, 23, 24, 25, 26, 27, 28, 29, 30, 31, 32, 33, 34,\n",
       "       35, 36, 37, 38, 39, 40, 41, 42, 43, 44, 45, 46, 47, 48, 49, 50, 51,\n",
       "       52, 53, 54, 55, 56, 57, 58, 59, 60, 61, 62, 63, 64, 65, 66, 67, 68,\n",
       "       69, 70, 71, 72, 73, 74, 75], dtype=int64)"
      ]
     },
     "execution_count": 18,
     "metadata": {},
     "output_type": "execute_result"
    }
   ],
   "source": [
    "users['age'].sort_values().unique() # посмотрим возможные аномалии в возрасте"
   ]
  },
  {
   "cell_type": "code",
   "execution_count": 19,
   "metadata": {},
   "outputs": [
    {
     "data": {
      "image/png": "[encoded data removed]",
      "text/plain": [
       "<Figure size 720x216 with 1 Axes>"
      ]
     },
     "metadata": {
      "needs_background": "light"
     },
     "output_type": "display_data"
    }
   ],
   "source": [
    "users['reg_date'].hist(bins=30, figsize=(10,3)) # строим гистограмму распределения\n",
    "plt.title('Распределение подключения тарифов по датам')\n",
    "None"
   ]
  },
  {
   "cell_type": "code",
   "execution_count": 20,
   "metadata": {},
   "outputs": [
    {
     "data": {
      "image/png": "[encoded data removed]",
      "text/plain": [
       "<Figure size 1080x216 with 1 Axes>"
      ]
     },
     "metadata": {
      "needs_background": "light"
     },
     "output_type": "display_data"
    }
   ],
   "source": [
    "users['churn_date'].hist(bins=50, figsize=(15,3)) # строим гистограмму распределения\n",
    "plt.title('Распределение прекращения пользования тарифом по датам')\n",
    "None"
   ]
  },
  {
   "cell_type": "code",
   "execution_count": 21,
   "metadata": {},
   "outputs": [
    {
     "data": {
      "text/plain": [
       "92.4"
      ]
     },
     "execution_count": 21,
     "metadata": {},
     "output_type": "execute_result"
    }
   ],
   "source": [
    "# процент пользователей, которые на конец 2018 года продолжали пользоваться тарифом\n",
    "users['churn_date'].isna().sum() / len(users) * 100 "
   ]
  },
  {
   "cell_type": "markdown",
   "metadata": {},
   "source": [
    "Аномалий не выявлено. Интересно, что пользователи прекращали пользоваться тарифом, начиная с 22 августа 2018, до этого тарифом пользовались непрерывно. Возможно, это пригодится для дальнейшего анализа."
   ]
  },
  {
   "cell_type": "markdown",
   "metadata": {},
   "source": [
    "### Таблица `calls` <a name=\"calls\"></a>"
   ]
  },
  {
   "cell_type": "code",
   "execution_count": 22,
   "metadata": {},
   "outputs": [
    {
     "data": {
      "text/plain": [
       "True"
      ]
     },
     "execution_count": 22,
     "metadata": {},
     "output_type": "execute_result"
    }
   ],
   "source": [
    "calls['id'].is_unique # проверяем, все ли вызовы уникальны"
   ]
  },
  {
   "cell_type": "code",
   "execution_count": 23,
   "metadata": {},
   "outputs": [
    {
     "data": {
      "text/plain": [
       "492"
      ]
     },
     "execution_count": 23,
     "metadata": {},
     "output_type": "execute_result"
    }
   ],
   "source": [
    "len(calls['user_id'].unique()) # считаем количество уникальных user_id"
   ]
  },
  {
   "cell_type": "markdown",
   "metadata": {},
   "source": [
    "Из 500 пользователей вызовы делали только 492."
   ]
  },
  {
   "cell_type": "code",
   "execution_count": 24,
   "metadata": {},
   "outputs": [
    {
     "data": {
      "image/png": "[encoded data removed]",
      "text/plain": [
       "<Figure size 720x216 with 1 Axes>"
      ]
     },
     "metadata": {
      "needs_background": "light"
     },
     "output_type": "display_data"
    }
   ],
   "source": [
    "calls['call_date'].hist(bins=50, figsize=(10,3)) # строим гистограмму распределения\n",
    "plt.title('Распределение количества вызовов по датам')\n",
    "None"
   ]
  },
  {
   "cell_type": "markdown",
   "metadata": {},
   "source": [
    "Всё логично, люди примерно равномерно подключались в течение года, иногда отказываясь от тарифа (в 8% случаев).\n",
    "\n",
    "То есть, с увеличением общего числа пользователей тарифов в течение года росло и количество вызовов. Тарифы явно успешны с точки зрения голосового трафика.\n",
    "\n",
    "Посмотрим на длительность вызовов:"
   ]
  },
  {
   "cell_type": "code",
   "execution_count": 25,
   "metadata": {},
   "outputs": [
    {
     "data": {
      "image/png": "[encoded data removed]",
      "text/plain": [
       "<Figure size 720x216 with 1 Axes>"
      ]
     },
     "metadata": {
      "needs_background": "light"
     },
     "output_type": "display_data"
    }
   ],
   "source": [
    "calls['duration'].hist(bins=50, figsize=(10,3)) # строим гистограмму распределения\n",
    "plt.title('Распределение длительности вызовов')\n",
    "None"
   ]
  },
  {
   "cell_type": "markdown",
   "metadata": {},
   "source": [
    "Есть очевидные выбросы около нуля. Это недозвоны до абонента, они не тарифицируются. Посмотрим, много ли таких вызовов:"
   ]
  },
  {
   "cell_type": "code",
   "execution_count": 26,
   "metadata": {},
   "outputs": [
    {
     "name": "stdout",
     "output_type": "stream",
     "text": [
      "39613 что составляет 19.55 %\n"
     ]
    }
   ],
   "source": [
    "print(calls.query('duration == 0')['duration'].count(),'что составляет',\n",
    "      round(calls.query('duration == 0')['duration'].count() / len(calls) * 100,2),'%')\n"
   ]
  },
  {
   "cell_type": "markdown",
   "metadata": {},
   "source": [
    "19% пропущенных вызовов - это очень много. Но их наличие не зависит от выбранного тарифа.\n",
    "Посмотрим на распределение продолжительности вызовов, длительностью больше 0:"
   ]
  },
  {
   "cell_type": "code",
   "execution_count": 27,
   "metadata": {},
   "outputs": [
    {
     "data": {
      "image/png": "[encoded data removed]",
      "text/plain": [
       "<Figure size 720x216 with 1 Axes>"
      ]
     },
     "metadata": {
      "needs_background": "light"
     },
     "output_type": "display_data"
    }
   ],
   "source": [
    "calls.query('duration > 0')['duration'].hist(bins=100, figsize=(10,3)) # строим гистограмму распределения\n",
    "plt.title('Распределение длительности вызовов')\n",
    "None"
   ]
  },
  {
   "cell_type": "markdown",
   "metadata": {},
   "source": [
    "Теперь похоже на нормальное распределение, смещенное влево (со скошенностью вправо). Это наверняка пригодится дальше."
   ]
  },
  {
   "cell_type": "markdown",
   "metadata": {},
   "source": [
    "### Таблица `messages`<a name=\"messages\"></a>"
   ]
  },
  {
   "cell_type": "code",
   "execution_count": 28,
   "metadata": {},
   "outputs": [
    {
     "data": {
      "text/plain": [
       "True"
      ]
     },
     "execution_count": 28,
     "metadata": {},
     "output_type": "execute_result"
    }
   ],
   "source": [
    "messages['id'].is_unique # проверяем, все ли сообщения уникальны"
   ]
  },
  {
   "cell_type": "code",
   "execution_count": 29,
   "metadata": {},
   "outputs": [
    {
     "data": {
      "text/plain": [
       "426"
      ]
     },
     "execution_count": 29,
     "metadata": {},
     "output_type": "execute_result"
    }
   ],
   "source": [
    "len(messages['user_id'].unique()) # считаем уникальных пользователей"
   ]
  },
  {
   "cell_type": "code",
   "execution_count": 30,
   "metadata": {},
   "outputs": [
    {
     "data": {
      "image/png": "[encoded data removed]",
      "text/plain": [
       "<Figure size 720x216 with 1 Axes>"
      ]
     },
     "metadata": {
      "needs_background": "light"
     },
     "output_type": "display_data"
    }
   ],
   "source": [
    "messages['message_date'].hist(bins=100, figsize=(10,3)) # строим гистограмму распределения\n",
    "plt.title('Распределение сообщений по датам')\n",
    "None"
   ]
  },
  {
   "cell_type": "markdown",
   "metadata": {},
   "source": [
    "Все сообщения в таблице `messages` уникальны.\n",
    "\n",
    "Всего 426 пользователей из 500 пользовались сообщениями. \n",
    "\n",
    "Равномерный рост колчиества сообщений в течение года предсказуем в связи с увеличением суммарного числа пользователей тарифов."
   ]
  },
  {
   "cell_type": "markdown",
   "metadata": {},
   "source": [
    "### Таблица `internet`<a name=\"internet\"></a>"
   ]
  },
  {
   "cell_type": "code",
   "execution_count": 31,
   "metadata": {},
   "outputs": [
    {
     "data": {
      "text/plain": [
       "True"
      ]
     },
     "execution_count": 31,
     "metadata": {},
     "output_type": "execute_result"
    }
   ],
   "source": [
    "internet['id'].is_unique # проверяем, все ли события уникальны"
   ]
  },
  {
   "cell_type": "code",
   "execution_count": 32,
   "metadata": {},
   "outputs": [
    {
     "data": {
      "image/png": "[encoded data removed]",
      "text/plain": [
       "<Figure size 720x216 with 1 Axes>"
      ]
     },
     "metadata": {
      "needs_background": "light"
     },
     "output_type": "display_data"
    }
   ],
   "source": [
    "internet['mb_used'].hist(bins=100, figsize=(10,3)) # строим гистограмму распределения\n",
    "plt.title('Распределение потраченного интернет-трафика, МБ')\n",
    "None"
   ]
  },
  {
   "cell_type": "code",
   "execution_count": 33,
   "metadata": {},
   "outputs": [
    {
     "data": {
      "image/png": "[encoded data removed]",
      "text/plain": [
       "<Figure size 720x216 with 1 Axes>"
      ]
     },
     "metadata": {
      "needs_background": "light"
     },
     "output_type": "display_data"
    }
   ],
   "source": [
    "# строим гистограмму распределения без нулевых сессий\n",
    "internet.query('mb_used > 0')['mb_used'].hist(bins=100, figsize=(10,3)) \n",
    "plt.title('Распределение потраченного интернет-трафика без нулевых значений, МБ')\n",
    "None"
   ]
  },
  {
   "cell_type": "markdown",
   "metadata": {},
   "source": [
    "Распределение соотествтует нормальному с положительной скошенностью."
   ]
  },
  {
   "cell_type": "code",
   "execution_count": 34,
   "metadata": {},
   "outputs": [
    {
     "data": {
      "image/png": "[encoded data removed]",
      "text/plain": [
       "<Figure size 720x216 with 1 Axes>"
      ]
     },
     "metadata": {
      "needs_background": "light"
     },
     "output_type": "display_data"
    }
   ],
   "source": [
    "internet['session_date'].hist(bins=100, figsize=(10,3)) # строим гистограмму распределения\n",
    "plt.title('Распределение интернет-сессий по датам')\n",
    "None"
   ]
  },
  {
   "cell_type": "markdown",
   "metadata": {},
   "source": [
    "По таблице `internet` можно сделать выводы:\n",
    "\n",
    "* все события об интернет-сессиях уникальны;\n",
    "* много веб-сессий с нулевым объемом трафика (это не является аномалией - нулевые сессии бывают на сетях передачи данных и могут относиться к техническим процессам, инициируемыми различными сетевыми службами пользовательского устройства или [сетевого оборудования](https://habr.com/ru/post/136844/#SNMP)). Оставим эти данные без изменения;\n",
    "* распределение потребления трафика растет равномерно в течение года, также как голосовые вызовы и сообщения."
   ]
  },
  {
   "cell_type": "markdown",
   "metadata": {},
   "source": [
    "В таблице `tariffs`<a name=\"tariffs\"></a> нет аномалий - она содержит всего две строки с описанием двух тарифов, которые нам необходимо сравнить между собой."
   ]
  },
  {
   "cell_type": "markdown",
   "metadata": {},
   "source": [
    "Поскольку ранее мы выявили, что все события в таблицах `calls`, `messages`, `internet` и пользователи таблицы `users` уникальные, то дубликатов в этих таблицах нет."
   ]
  },
  {
   "cell_type": "markdown",
   "metadata": {},
   "source": [
    "## Подсчет показателей и выручки по каждому пользователю<a name=\"count_income\"></a>"
   ]
  },
  {
   "cell_type": "markdown",
   "metadata": {},
   "source": [
    "Теперь подсчитаем для каждого пользователя:\n",
    "\n",
    "* количество сделанных звонков и израсходованных минут разговора по месяцам;\n",
    "* количество отправленных сообщений по месяцам;\n",
    "* объем израсходованного интернет-трафика по месяцам;\n",
    "* помесячную выручку с каждого пользователя (вычтем бесплатный лимит из суммарного количества звонков, сообщений и интернет-трафика; остаток умножим на значение из тарифного плана; прибавим абонентскую плату, соответствующую тарифному плану)."
   ]
  },
  {
   "cell_type": "markdown",
   "metadata": {},
   "source": [
    "Для определения количества сделанных звонков по месяцам создадим в `calls` столбец `call_month` с месяцем и годом, который соответствует `call_date`"
   ]
  },
  {
   "cell_type": "code",
   "execution_count": 35,
   "metadata": {},
   "outputs": [],
   "source": [
    "calls['call_month'] = calls['call_date'].dt.month # добавляем столбец с месяцем (если надо месяц с годом - использовать dt.to_period('M'))"
   ]
  },
  {
   "cell_type": "markdown",
   "metadata": {},
   "source": [
    "В соответствии с условием задачи каждый звонок округляется отдельно до 1 минуты вверх. Округлим все необходимые значения в столбце `duration` таблицы `calls`:"
   ]
  },
  {
   "cell_type": "code",
   "execution_count": 36,
   "metadata": {},
   "outputs": [],
   "source": [
    "calls['duration'] = calls['duration'].apply(np.ceil)"
   ]
  },
  {
   "cell_type": "markdown",
   "metadata": {},
   "source": [
    "Теперь создадим отдельную таблицу `calls_pivot`, где будут храниться все необходимые значения вызовов по каждому пользователю:"
   ]
  },
  {
   "cell_type": "code",
   "execution_count": 37,
   "metadata": {},
   "outputs": [
    {
     "data": {
      "text/html": [
       "<div>\n",
       "<style scoped>\n",
       "    .dataframe tbody tr th:only-of-type {\n",
       "        vertical-align: middle;\n",
       "    }\n",
       "\n",
       "    .dataframe tbody tr th {\n",
       "        vertical-align: top;\n",
       "    }\n",
       "\n",
       "    .dataframe thead tr th {\n",
       "        text-align: left;\n",
       "    }\n",
       "\n",
       "    .dataframe thead tr:last-of-type th {\n",
       "        text-align: right;\n",
       "    }\n",
       "</style>\n",
       "<table border=\"1\" class=\"dataframe\">\n",
       "  <thead>\n",
       "    <tr>\n",
       "      <th></th>\n",
       "      <th colspan=\"12\" halign=\"left\">count</th>\n",
       "      <th colspan=\"12\" halign=\"left\">sum</th>\n",
       "    </tr>\n",
       "    <tr>\n",
       "      <th>call_month</th>\n",
       "      <th>1</th>\n",
       "      <th>2</th>\n",
       "      <th>3</th>\n",
       "      <th>4</th>\n",
       "      <th>5</th>\n",
       "      <th>6</th>\n",
       "      <th>7</th>\n",
       "      <th>8</th>\n",
       "      <th>9</th>\n",
       "      <th>10</th>\n",
       "      <th>11</th>\n",
       "      <th>12</th>\n",
       "      <th>1</th>\n",
       "      <th>2</th>\n",
       "      <th>3</th>\n",
       "      <th>4</th>\n",
       "      <th>5</th>\n",
       "      <th>6</th>\n",
       "      <th>7</th>\n",
       "      <th>8</th>\n",
       "      <th>9</th>\n",
       "      <th>10</th>\n",
       "      <th>11</th>\n",
       "      <th>12</th>\n",
       "    </tr>\n",
       "    <tr>\n",
       "      <th>user_id</th>\n",
       "      <th></th>\n",
       "      <th></th>\n",
       "      <th></th>\n",
       "      <th></th>\n",
       "      <th></th>\n",
       "      <th></th>\n",
       "      <th></th>\n",
       "      <th></th>\n",
       "      <th></th>\n",
       "      <th></th>\n",
       "      <th></th>\n",
       "      <th></th>\n",
       "      <th></th>\n",
       "      <th></th>\n",
       "      <th></th>\n",
       "      <th></th>\n",
       "      <th></th>\n",
       "      <th></th>\n",
       "      <th></th>\n",
       "      <th></th>\n",
       "      <th></th>\n",
       "      <th></th>\n",
       "      <th></th>\n",
       "      <th></th>\n",
       "    </tr>\n",
       "  </thead>\n",
       "  <tbody>\n",
       "    <tr>\n",
       "      <th>1431</th>\n",
       "      <td>NaN</td>\n",
       "      <td>NaN</td>\n",
       "      <td>16.0</td>\n",
       "      <td>36.0</td>\n",
       "      <td>25.0</td>\n",
       "      <td>40.0</td>\n",
       "      <td>42.0</td>\n",
       "      <td>29.0</td>\n",
       "      <td>33.0</td>\n",
       "      <td>43.0</td>\n",
       "      <td>36.0</td>\n",
       "      <td>40.0</td>\n",
       "      <td>NaN</td>\n",
       "      <td>NaN</td>\n",
       "      <td>89.0</td>\n",
       "      <td>266.0</td>\n",
       "      <td>163.0</td>\n",
       "      <td>318.0</td>\n",
       "      <td>299.0</td>\n",
       "      <td>196.0</td>\n",
       "      <td>214.0</td>\n",
       "      <td>358.0</td>\n",
       "      <td>278.0</td>\n",
       "      <td>265.0</td>\n",
       "    </tr>\n",
       "    <tr>\n",
       "      <th>1165</th>\n",
       "      <td>NaN</td>\n",
       "      <td>NaN</td>\n",
       "      <td>NaN</td>\n",
       "      <td>NaN</td>\n",
       "      <td>NaN</td>\n",
       "      <td>NaN</td>\n",
       "      <td>NaN</td>\n",
       "      <td>NaN</td>\n",
       "      <td>NaN</td>\n",
       "      <td>16.0</td>\n",
       "      <td>34.0</td>\n",
       "      <td>37.0</td>\n",
       "      <td>NaN</td>\n",
       "      <td>NaN</td>\n",
       "      <td>NaN</td>\n",
       "      <td>NaN</td>\n",
       "      <td>NaN</td>\n",
       "      <td>NaN</td>\n",
       "      <td>NaN</td>\n",
       "      <td>NaN</td>\n",
       "      <td>NaN</td>\n",
       "      <td>138.0</td>\n",
       "      <td>232.0</td>\n",
       "      <td>278.0</td>\n",
       "    </tr>\n",
       "    <tr>\n",
       "      <th>1183</th>\n",
       "      <td>NaN</td>\n",
       "      <td>NaN</td>\n",
       "      <td>NaN</td>\n",
       "      <td>NaN</td>\n",
       "      <td>NaN</td>\n",
       "      <td>NaN</td>\n",
       "      <td>40.0</td>\n",
       "      <td>69.0</td>\n",
       "      <td>81.0</td>\n",
       "      <td>63.0</td>\n",
       "      <td>55.0</td>\n",
       "      <td>82.0</td>\n",
       "      <td>NaN</td>\n",
       "      <td>NaN</td>\n",
       "      <td>NaN</td>\n",
       "      <td>NaN</td>\n",
       "      <td>NaN</td>\n",
       "      <td>NaN</td>\n",
       "      <td>326.0</td>\n",
       "      <td>579.0</td>\n",
       "      <td>536.0</td>\n",
       "      <td>421.0</td>\n",
       "      <td>369.0</td>\n",
       "      <td>564.0</td>\n",
       "    </tr>\n",
       "    <tr>\n",
       "      <th>1001</th>\n",
       "      <td>NaN</td>\n",
       "      <td>NaN</td>\n",
       "      <td>NaN</td>\n",
       "      <td>NaN</td>\n",
       "      <td>NaN</td>\n",
       "      <td>NaN</td>\n",
       "      <td>NaN</td>\n",
       "      <td>NaN</td>\n",
       "      <td>NaN</td>\n",
       "      <td>NaN</td>\n",
       "      <td>59.0</td>\n",
       "      <td>63.0</td>\n",
       "      <td>NaN</td>\n",
       "      <td>NaN</td>\n",
       "      <td>NaN</td>\n",
       "      <td>NaN</td>\n",
       "      <td>NaN</td>\n",
       "      <td>NaN</td>\n",
       "      <td>NaN</td>\n",
       "      <td>NaN</td>\n",
       "      <td>NaN</td>\n",
       "      <td>NaN</td>\n",
       "      <td>430.0</td>\n",
       "      <td>414.0</td>\n",
       "    </tr>\n",
       "    <tr>\n",
       "      <th>1319</th>\n",
       "      <td>NaN</td>\n",
       "      <td>NaN</td>\n",
       "      <td>NaN</td>\n",
       "      <td>NaN</td>\n",
       "      <td>NaN</td>\n",
       "      <td>NaN</td>\n",
       "      <td>NaN</td>\n",
       "      <td>37.0</td>\n",
       "      <td>121.0</td>\n",
       "      <td>127.0</td>\n",
       "      <td>104.0</td>\n",
       "      <td>126.0</td>\n",
       "      <td>NaN</td>\n",
       "      <td>NaN</td>\n",
       "      <td>NaN</td>\n",
       "      <td>NaN</td>\n",
       "      <td>NaN</td>\n",
       "      <td>NaN</td>\n",
       "      <td>NaN</td>\n",
       "      <td>305.0</td>\n",
       "      <td>729.0</td>\n",
       "      <td>1005.0</td>\n",
       "      <td>706.0</td>\n",
       "      <td>868.0</td>\n",
       "    </tr>\n",
       "  </tbody>\n",
       "</table>\n",
       "</div>"
      ],
      "text/plain": [
       "           count                                                               \\\n",
       "call_month    1   2     3     4     5     6     7     8      9      10     11   \n",
       "user_id                                                                         \n",
       "1431         NaN NaN  16.0  36.0  25.0  40.0  42.0  29.0   33.0   43.0   36.0   \n",
       "1165         NaN NaN   NaN   NaN   NaN   NaN   NaN   NaN    NaN   16.0   34.0   \n",
       "1183         NaN NaN   NaN   NaN   NaN   NaN  40.0  69.0   81.0   63.0   55.0   \n",
       "1001         NaN NaN   NaN   NaN   NaN   NaN   NaN   NaN    NaN    NaN   59.0   \n",
       "1319         NaN NaN   NaN   NaN   NaN   NaN   NaN  37.0  121.0  127.0  104.0   \n",
       "\n",
       "                  sum                                                      \\\n",
       "call_month     12  1   2     3      4      5      6      7      8      9    \n",
       "user_id                                                                     \n",
       "1431         40.0 NaN NaN  89.0  266.0  163.0  318.0  299.0  196.0  214.0   \n",
       "1165         37.0 NaN NaN   NaN    NaN    NaN    NaN    NaN    NaN    NaN   \n",
       "1183         82.0 NaN NaN   NaN    NaN    NaN    NaN  326.0  579.0  536.0   \n",
       "1001         63.0 NaN NaN   NaN    NaN    NaN    NaN    NaN    NaN    NaN   \n",
       "1319        126.0 NaN NaN   NaN    NaN    NaN    NaN    NaN  305.0  729.0   \n",
       "\n",
       "                                  \n",
       "call_month      10     11     12  \n",
       "user_id                           \n",
       "1431         358.0  278.0  265.0  \n",
       "1165         138.0  232.0  278.0  \n",
       "1183         421.0  369.0  564.0  \n",
       "1001           NaN  430.0  414.0  \n",
       "1319        1005.0  706.0  868.0  "
      ]
     },
     "execution_count": 37,
     "metadata": {},
     "output_type": "execute_result"
    }
   ],
   "source": [
    "# создаем сводную таблицу с подсчетом количества сделанных звонков и израсходованных минут (сумму)\n",
    "calls_pivot = calls.pivot_table(\n",
    "    index='user_id',\n",
    "    columns='call_month',\n",
    "    values='duration',\n",
    "    aggfunc=['count', 'sum']\n",
    ") \n",
    "\n",
    "calls_pivot.sample(5) # выводим 5 случайных строк полученной таблицы"
   ]
  },
  {
   "cell_type": "markdown",
   "metadata": {},
   "source": [
    "Для подсчета количества отправленных сообщений по месяцам создадим в таблице `messages` столбец `message_month` с месяцем и годом события:"
   ]
  },
  {
   "cell_type": "code",
   "execution_count": 38,
   "metadata": {},
   "outputs": [],
   "source": [
    "messages['message_month'] = messages['message_date'].dt.month # добавляем столбец с месяцем"
   ]
  },
  {
   "cell_type": "markdown",
   "metadata": {},
   "source": [
    "Теперь создадим отдельную таблицу `messages_pivot`, где будут храниться все необходимые значения сообщений по каждому пользователю:"
   ]
  },
  {
   "cell_type": "code",
   "execution_count": 39,
   "metadata": {},
   "outputs": [
    {
     "data": {
      "text/html": [
       "<div>\n",
       "<style scoped>\n",
       "    .dataframe tbody tr th:only-of-type {\n",
       "        vertical-align: middle;\n",
       "    }\n",
       "\n",
       "    .dataframe tbody tr th {\n",
       "        vertical-align: top;\n",
       "    }\n",
       "\n",
       "    .dataframe thead th {\n",
       "        text-align: right;\n",
       "    }\n",
       "</style>\n",
       "<table border=\"1\" class=\"dataframe\">\n",
       "  <thead>\n",
       "    <tr style=\"text-align: right;\">\n",
       "      <th>message_month</th>\n",
       "      <th>1</th>\n",
       "      <th>2</th>\n",
       "      <th>3</th>\n",
       "      <th>4</th>\n",
       "      <th>5</th>\n",
       "      <th>6</th>\n",
       "      <th>7</th>\n",
       "      <th>8</th>\n",
       "      <th>9</th>\n",
       "      <th>10</th>\n",
       "      <th>11</th>\n",
       "      <th>12</th>\n",
       "    </tr>\n",
       "    <tr>\n",
       "      <th>user_id</th>\n",
       "      <th></th>\n",
       "      <th></th>\n",
       "      <th></th>\n",
       "      <th></th>\n",
       "      <th></th>\n",
       "      <th></th>\n",
       "      <th></th>\n",
       "      <th></th>\n",
       "      <th></th>\n",
       "      <th></th>\n",
       "      <th></th>\n",
       "      <th></th>\n",
       "    </tr>\n",
       "  </thead>\n",
       "  <tbody>\n",
       "    <tr>\n",
       "      <th>1206</th>\n",
       "      <td>NaN</td>\n",
       "      <td>NaN</td>\n",
       "      <td>NaN</td>\n",
       "      <td>NaN</td>\n",
       "      <td>NaN</td>\n",
       "      <td>NaN</td>\n",
       "      <td>NaN</td>\n",
       "      <td>NaN</td>\n",
       "      <td>NaN</td>\n",
       "      <td>NaN</td>\n",
       "      <td>14.0</td>\n",
       "      <td>8.0</td>\n",
       "    </tr>\n",
       "    <tr>\n",
       "      <th>1141</th>\n",
       "      <td>NaN</td>\n",
       "      <td>NaN</td>\n",
       "      <td>NaN</td>\n",
       "      <td>NaN</td>\n",
       "      <td>NaN</td>\n",
       "      <td>NaN</td>\n",
       "      <td>NaN</td>\n",
       "      <td>NaN</td>\n",
       "      <td>NaN</td>\n",
       "      <td>NaN</td>\n",
       "      <td>NaN</td>\n",
       "      <td>1.0</td>\n",
       "    </tr>\n",
       "    <tr>\n",
       "      <th>1399</th>\n",
       "      <td>NaN</td>\n",
       "      <td>NaN</td>\n",
       "      <td>NaN</td>\n",
       "      <td>NaN</td>\n",
       "      <td>NaN</td>\n",
       "      <td>NaN</td>\n",
       "      <td>NaN</td>\n",
       "      <td>NaN</td>\n",
       "      <td>NaN</td>\n",
       "      <td>NaN</td>\n",
       "      <td>72.0</td>\n",
       "      <td>58.0</td>\n",
       "    </tr>\n",
       "    <tr>\n",
       "      <th>1287</th>\n",
       "      <td>NaN</td>\n",
       "      <td>NaN</td>\n",
       "      <td>NaN</td>\n",
       "      <td>NaN</td>\n",
       "      <td>NaN</td>\n",
       "      <td>NaN</td>\n",
       "      <td>NaN</td>\n",
       "      <td>NaN</td>\n",
       "      <td>NaN</td>\n",
       "      <td>11.0</td>\n",
       "      <td>6.0</td>\n",
       "      <td>7.0</td>\n",
       "    </tr>\n",
       "    <tr>\n",
       "      <th>1286</th>\n",
       "      <td>NaN</td>\n",
       "      <td>NaN</td>\n",
       "      <td>NaN</td>\n",
       "      <td>NaN</td>\n",
       "      <td>NaN</td>\n",
       "      <td>NaN</td>\n",
       "      <td>NaN</td>\n",
       "      <td>NaN</td>\n",
       "      <td>NaN</td>\n",
       "      <td>NaN</td>\n",
       "      <td>12.0</td>\n",
       "      <td>68.0</td>\n",
       "    </tr>\n",
       "  </tbody>\n",
       "</table>\n",
       "</div>"
      ],
      "text/plain": [
       "message_month  1   2   3   4   5   6   7   8   9     10    11    12\n",
       "user_id                                                            \n",
       "1206          NaN NaN NaN NaN NaN NaN NaN NaN NaN   NaN  14.0   8.0\n",
       "1141          NaN NaN NaN NaN NaN NaN NaN NaN NaN   NaN   NaN   1.0\n",
       "1399          NaN NaN NaN NaN NaN NaN NaN NaN NaN   NaN  72.0  58.0\n",
       "1287          NaN NaN NaN NaN NaN NaN NaN NaN NaN  11.0   6.0   7.0\n",
       "1286          NaN NaN NaN NaN NaN NaN NaN NaN NaN   NaN  12.0  68.0"
      ]
     },
     "execution_count": 39,
     "metadata": {},
     "output_type": "execute_result"
    }
   ],
   "source": [
    "# создаем сводную таблицу с подсчетом количества сообщений,\n",
    "messages_pivot = messages.pivot_table(\n",
    "    index='user_id',\n",
    "    columns='message_month',\n",
    "    values='id',\n",
    "    aggfunc='count'\n",
    ") \n",
    "\n",
    "messages_pivot.sample(5) # выводим 5 случайных строк полученной таблицы"
   ]
  },
  {
   "cell_type": "markdown",
   "metadata": {},
   "source": [
    "Подсчитаем объем израсходованного интренет-трафика по месяцам - таблица `internet`:"
   ]
  },
  {
   "cell_type": "code",
   "execution_count": 40,
   "metadata": {},
   "outputs": [],
   "source": [
    "internet['session_month'] = internet['session_date'].dt.month # добавляем столбец с месяцем"
   ]
  },
  {
   "cell_type": "markdown",
   "metadata": {},
   "source": [
    "Создадим сводную таблицу `internet_pivot`, в которой будет содержаться информация о ежемесячном объеме трафика каждым пользователем.\n",
    "По условию задачи, для интернет-трафика отдельные сессии не считаются. Вместо этого общая сумма за месяц округляется в бо́льшую сторону. Если абонент использует 1025 мегабайт в этом месяце, с него возьмут плату за 2 гигабайта. \n",
    "В одном ГБ содержится 1024 МБ данных. После подсчета ежемесятного объема трафика, разделим его на 1024, затем округлим вверх до ГБ и снова умножим на 1024, чтобы сохранить единицы измерения."
   ]
  },
  {
   "cell_type": "code",
   "execution_count": 41,
   "metadata": {},
   "outputs": [
    {
     "data": {
      "text/html": [
       "<div>\n",
       "<style scoped>\n",
       "    .dataframe tbody tr th:only-of-type {\n",
       "        vertical-align: middle;\n",
       "    }\n",
       "\n",
       "    .dataframe tbody tr th {\n",
       "        vertical-align: top;\n",
       "    }\n",
       "\n",
       "    .dataframe thead th {\n",
       "        text-align: right;\n",
       "    }\n",
       "</style>\n",
       "<table border=\"1\" class=\"dataframe\">\n",
       "  <thead>\n",
       "    <tr style=\"text-align: right;\">\n",
       "      <th>session_month</th>\n",
       "      <th>1</th>\n",
       "      <th>2</th>\n",
       "      <th>3</th>\n",
       "      <th>4</th>\n",
       "      <th>5</th>\n",
       "      <th>6</th>\n",
       "      <th>7</th>\n",
       "      <th>8</th>\n",
       "      <th>9</th>\n",
       "      <th>10</th>\n",
       "      <th>11</th>\n",
       "      <th>12</th>\n",
       "    </tr>\n",
       "    <tr>\n",
       "      <th>user_id</th>\n",
       "      <th></th>\n",
       "      <th></th>\n",
       "      <th></th>\n",
       "      <th></th>\n",
       "      <th></th>\n",
       "      <th></th>\n",
       "      <th></th>\n",
       "      <th></th>\n",
       "      <th></th>\n",
       "      <th></th>\n",
       "      <th></th>\n",
       "      <th></th>\n",
       "    </tr>\n",
       "  </thead>\n",
       "  <tbody>\n",
       "    <tr>\n",
       "      <th>1240</th>\n",
       "      <td>NaN</td>\n",
       "      <td>1024.0</td>\n",
       "      <td>28672.0</td>\n",
       "      <td>36864.0</td>\n",
       "      <td>44032.0</td>\n",
       "      <td>35840.0</td>\n",
       "      <td>41984.0</td>\n",
       "      <td>49152.0</td>\n",
       "      <td>31744.0</td>\n",
       "      <td>34816.0</td>\n",
       "      <td>32768.0</td>\n",
       "      <td>44032.0</td>\n",
       "    </tr>\n",
       "    <tr>\n",
       "      <th>1436</th>\n",
       "      <td>NaN</td>\n",
       "      <td>NaN</td>\n",
       "      <td>NaN</td>\n",
       "      <td>25600.0</td>\n",
       "      <td>23552.0</td>\n",
       "      <td>23552.0</td>\n",
       "      <td>21504.0</td>\n",
       "      <td>30720.0</td>\n",
       "      <td>23552.0</td>\n",
       "      <td>31744.0</td>\n",
       "      <td>16384.0</td>\n",
       "      <td>26624.0</td>\n",
       "    </tr>\n",
       "    <tr>\n",
       "      <th>1192</th>\n",
       "      <td>NaN</td>\n",
       "      <td>NaN</td>\n",
       "      <td>NaN</td>\n",
       "      <td>NaN</td>\n",
       "      <td>NaN</td>\n",
       "      <td>NaN</td>\n",
       "      <td>NaN</td>\n",
       "      <td>NaN</td>\n",
       "      <td>NaN</td>\n",
       "      <td>NaN</td>\n",
       "      <td>NaN</td>\n",
       "      <td>9216.0</td>\n",
       "    </tr>\n",
       "    <tr>\n",
       "      <th>1312</th>\n",
       "      <td>NaN</td>\n",
       "      <td>NaN</td>\n",
       "      <td>NaN</td>\n",
       "      <td>NaN</td>\n",
       "      <td>NaN</td>\n",
       "      <td>NaN</td>\n",
       "      <td>5120.0</td>\n",
       "      <td>20480.0</td>\n",
       "      <td>23552.0</td>\n",
       "      <td>23552.0</td>\n",
       "      <td>13312.0</td>\n",
       "      <td>22528.0</td>\n",
       "    </tr>\n",
       "    <tr>\n",
       "      <th>1157</th>\n",
       "      <td>NaN</td>\n",
       "      <td>4096.0</td>\n",
       "      <td>16384.0</td>\n",
       "      <td>27648.0</td>\n",
       "      <td>22528.0</td>\n",
       "      <td>25600.0</td>\n",
       "      <td>19456.0</td>\n",
       "      <td>18432.0</td>\n",
       "      <td>20480.0</td>\n",
       "      <td>27648.0</td>\n",
       "      <td>19456.0</td>\n",
       "      <td>28672.0</td>\n",
       "    </tr>\n",
       "  </tbody>\n",
       "</table>\n",
       "</div>"
      ],
      "text/plain": [
       "session_month  1       2        3        4        5        6        7   \\\n",
       "user_id                                                                  \n",
       "1240          NaN  1024.0  28672.0  36864.0  44032.0  35840.0  41984.0   \n",
       "1436          NaN     NaN      NaN  25600.0  23552.0  23552.0  21504.0   \n",
       "1192          NaN     NaN      NaN      NaN      NaN      NaN      NaN   \n",
       "1312          NaN     NaN      NaN      NaN      NaN      NaN   5120.0   \n",
       "1157          NaN  4096.0  16384.0  27648.0  22528.0  25600.0  19456.0   \n",
       "\n",
       "session_month       8        9        10       11       12  \n",
       "user_id                                                     \n",
       "1240           49152.0  31744.0  34816.0  32768.0  44032.0  \n",
       "1436           30720.0  23552.0  31744.0  16384.0  26624.0  \n",
       "1192               NaN      NaN      NaN      NaN   9216.0  \n",
       "1312           20480.0  23552.0  23552.0  13312.0  22528.0  \n",
       "1157           18432.0  20480.0  27648.0  19456.0  28672.0  "
      ]
     },
     "execution_count": 41,
     "metadata": {},
     "output_type": "execute_result"
    }
   ],
   "source": [
    "# создаем сводную таблицу с подсчетом объема трафика (сумму mb_used),\n",
    "internet_pivot = internet.pivot_table(\n",
    "    index='user_id',\n",
    "    columns='session_month',\n",
    "    values='mb_used',\n",
    "    aggfunc='sum'\n",
    ") \n",
    "    \n",
    "# переводим МБ в ГБ, округляем ГБ вверх и обратно делим до МБ\n",
    "internet_pivot = internet_pivot.apply(lambda x: np.ceil(x / 1024) * 1024) \n",
    "internet_pivot.sample(5) # выводим 5 случайных строк полученной таблицы"
   ]
  },
  {
   "cell_type": "markdown",
   "metadata": {},
   "source": [
    "Теперь подсчитаем помесячную выручку с каждого пользователя. Для этого:\n",
    "* вычтем бесплатный лимит из суммарного количества звонков, сообщений и интернет-трафика;\n",
    "* остаток умнижим на значение из тарифного плана;\n",
    "* прибавим абонентскую плату, соответствующую тарифному плану."
   ]
  },
  {
   "cell_type": "code",
   "execution_count": 42,
   "metadata": {},
   "outputs": [
    {
     "data": {
      "text/html": [
       "<div>\n",
       "<style scoped>\n",
       "    .dataframe tbody tr th:only-of-type {\n",
       "        vertical-align: middle;\n",
       "    }\n",
       "\n",
       "    .dataframe tbody tr th {\n",
       "        vertical-align: top;\n",
       "    }\n",
       "\n",
       "    .dataframe thead th {\n",
       "        text-align: right;\n",
       "    }\n",
       "</style>\n",
       "<table border=\"1\" class=\"dataframe\">\n",
       "  <thead>\n",
       "    <tr style=\"text-align: right;\">\n",
       "      <th></th>\n",
       "      <th>user_id</th>\n",
       "      <th>tariff</th>\n",
       "      <th>minutes_included</th>\n",
       "      <th>rub_per_minute</th>\n",
       "      <th>1</th>\n",
       "      <th>2</th>\n",
       "      <th>3</th>\n",
       "      <th>4</th>\n",
       "      <th>5</th>\n",
       "      <th>6</th>\n",
       "      <th>7</th>\n",
       "      <th>8</th>\n",
       "      <th>9</th>\n",
       "      <th>10</th>\n",
       "      <th>11</th>\n",
       "      <th>12</th>\n",
       "    </tr>\n",
       "  </thead>\n",
       "  <tbody>\n",
       "    <tr>\n",
       "      <th>385</th>\n",
       "      <td>1385</td>\n",
       "      <td>ultra</td>\n",
       "      <td>3000</td>\n",
       "      <td>1</td>\n",
       "      <td>0.0</td>\n",
       "      <td>0.0</td>\n",
       "      <td>0.0</td>\n",
       "      <td>0.0</td>\n",
       "      <td>0.0</td>\n",
       "      <td>0.0</td>\n",
       "      <td>0.0</td>\n",
       "      <td>0.0</td>\n",
       "      <td>0.0</td>\n",
       "      <td>0.0</td>\n",
       "      <td>0.0</td>\n",
       "      <td>0.0</td>\n",
       "    </tr>\n",
       "    <tr>\n",
       "      <th>381</th>\n",
       "      <td>1381</td>\n",
       "      <td>ultra</td>\n",
       "      <td>3000</td>\n",
       "      <td>1</td>\n",
       "      <td>0.0</td>\n",
       "      <td>0.0</td>\n",
       "      <td>0.0</td>\n",
       "      <td>0.0</td>\n",
       "      <td>0.0</td>\n",
       "      <td>0.0</td>\n",
       "      <td>0.0</td>\n",
       "      <td>0.0</td>\n",
       "      <td>0.0</td>\n",
       "      <td>0.0</td>\n",
       "      <td>0.0</td>\n",
       "      <td>0.0</td>\n",
       "    </tr>\n",
       "    <tr>\n",
       "      <th>417</th>\n",
       "      <td>1417</td>\n",
       "      <td>smart</td>\n",
       "      <td>500</td>\n",
       "      <td>3</td>\n",
       "      <td>0.0</td>\n",
       "      <td>0.0</td>\n",
       "      <td>0.0</td>\n",
       "      <td>0.0</td>\n",
       "      <td>0.0</td>\n",
       "      <td>0.0</td>\n",
       "      <td>0.0</td>\n",
       "      <td>0.0</td>\n",
       "      <td>0.0</td>\n",
       "      <td>0.0</td>\n",
       "      <td>0.0</td>\n",
       "      <td>0.0</td>\n",
       "    </tr>\n",
       "    <tr>\n",
       "      <th>413</th>\n",
       "      <td>1413</td>\n",
       "      <td>smart</td>\n",
       "      <td>500</td>\n",
       "      <td>3</td>\n",
       "      <td>0.0</td>\n",
       "      <td>0.0</td>\n",
       "      <td>0.0</td>\n",
       "      <td>0.0</td>\n",
       "      <td>0.0</td>\n",
       "      <td>0.0</td>\n",
       "      <td>0.0</td>\n",
       "      <td>0.0</td>\n",
       "      <td>0.0</td>\n",
       "      <td>0.0</td>\n",
       "      <td>0.0</td>\n",
       "      <td>0.0</td>\n",
       "    </tr>\n",
       "    <tr>\n",
       "      <th>13</th>\n",
       "      <td>1013</td>\n",
       "      <td>ultra</td>\n",
       "      <td>3000</td>\n",
       "      <td>1</td>\n",
       "      <td>0.0</td>\n",
       "      <td>0.0</td>\n",
       "      <td>0.0</td>\n",
       "      <td>0.0</td>\n",
       "      <td>0.0</td>\n",
       "      <td>0.0</td>\n",
       "      <td>0.0</td>\n",
       "      <td>0.0</td>\n",
       "      <td>0.0</td>\n",
       "      <td>0.0</td>\n",
       "      <td>0.0</td>\n",
       "      <td>0.0</td>\n",
       "    </tr>\n",
       "  </tbody>\n",
       "</table>\n",
       "</div>"
      ],
      "text/plain": [
       "     user_id tariff  minutes_included  rub_per_minute    1    2    3    4  \\\n",
       "385     1385  ultra              3000               1  0.0  0.0  0.0  0.0   \n",
       "381     1381  ultra              3000               1  0.0  0.0  0.0  0.0   \n",
       "417     1417  smart               500               3  0.0  0.0  0.0  0.0   \n",
       "413     1413  smart               500               3  0.0  0.0  0.0  0.0   \n",
       "13      1013  ultra              3000               1  0.0  0.0  0.0  0.0   \n",
       "\n",
       "       5    6    7    8    9   10   11   12  \n",
       "385  0.0  0.0  0.0  0.0  0.0  0.0  0.0  0.0  \n",
       "381  0.0  0.0  0.0  0.0  0.0  0.0  0.0  0.0  \n",
       "417  0.0  0.0  0.0  0.0  0.0  0.0  0.0  0.0  \n",
       "413  0.0  0.0  0.0  0.0  0.0  0.0  0.0  0.0  \n",
       "13   0.0  0.0  0.0  0.0  0.0  0.0  0.0  0.0  "
      ]
     },
     "execution_count": 42,
     "metadata": {},
     "output_type": "execute_result"
    }
   ],
   "source": [
    "# присоединяем таблицу users для получения информации о тарифах каждого user_id\n",
    "calls_pay = users.join(calls_pivot['sum'], on='user_id') \n",
    "# присоединяем таблицу с описанием тарифов\n",
    "calls_pay = calls_pay.merge(tariffs, left_on='tariff', right_on='tariff_name', how='left') \n",
    "# оставляем только те столбцы, которые нужны для подсчета\n",
    "calls_pay = calls_pay[['user_id', 'tariff', 'minutes_included', 'rub_per_minute', 1, 2, 3, 4, 5, 6, 7, 8, 9, 10, 11, 12]] \n",
    "\n",
    "# напишем функцию, которая будет считать в таблице table по месяцам (range(1,13)) стоимость каждой минуты/сообщения/гигабайта для каждого пользователя\n",
    "\n",
    "# в цикле по каждому пользователю, далее по каждому месяцу проверяем, если количество потраченных единиц больше бесплатного лимита, включенного в тариф,\n",
    "# то количество потраченных сверх лимита (разность общей длительности за месяц и бесплатного лимита), умножаем результат на стоимость одной единицы сверх лимита\n",
    "# иначе - ноль, то есть клиент не потратил бесплатный лимит и ничего платить не должен (все отицательные становятся нулями)\n",
    "def pay_count(table, limit_value, rub_above_limit):\n",
    "    for user in range(len(table)):\n",
    "        for month in range(1,13):        \n",
    "            if table.loc[user, month] > table.loc[user, limit_value]:\n",
    "                table.loc[user, month] = (table.loc[user, month] - table.loc[user, limit_value]) * table.loc[user, rub_above_limit]\n",
    "            else:\n",
    "                table.loc[user, month] = 0\n",
    "\n",
    "pay_count(calls_pay, 'minutes_included', 'rub_per_minute') # вызываем функцию подсчета выручки\n",
    "\n",
    "calls_pay.sample(5) # выводим 5 случайных строчки"
   ]
  },
  {
   "cell_type": "markdown",
   "metadata": {},
   "source": [
    "Сделаем тоже самое для сообщений - `messages`. Подсчитаем по каждому пользователю по своему тарифу выручку при использовании сообщений:"
   ]
  },
  {
   "cell_type": "code",
   "execution_count": 43,
   "metadata": {},
   "outputs": [
    {
     "data": {
      "text/html": [
       "<div>\n",
       "<style scoped>\n",
       "    .dataframe tbody tr th:only-of-type {\n",
       "        vertical-align: middle;\n",
       "    }\n",
       "\n",
       "    .dataframe tbody tr th {\n",
       "        vertical-align: top;\n",
       "    }\n",
       "\n",
       "    .dataframe thead th {\n",
       "        text-align: right;\n",
       "    }\n",
       "</style>\n",
       "<table border=\"1\" class=\"dataframe\">\n",
       "  <thead>\n",
       "    <tr style=\"text-align: right;\">\n",
       "      <th></th>\n",
       "      <th>user_id</th>\n",
       "      <th>tariff</th>\n",
       "      <th>messages_included</th>\n",
       "      <th>rub_per_message</th>\n",
       "      <th>1</th>\n",
       "      <th>2</th>\n",
       "      <th>3</th>\n",
       "      <th>4</th>\n",
       "      <th>5</th>\n",
       "      <th>6</th>\n",
       "      <th>7</th>\n",
       "      <th>8</th>\n",
       "      <th>9</th>\n",
       "      <th>10</th>\n",
       "      <th>11</th>\n",
       "      <th>12</th>\n",
       "    </tr>\n",
       "  </thead>\n",
       "  <tbody>\n",
       "    <tr>\n",
       "      <th>102</th>\n",
       "      <td>1102</td>\n",
       "      <td>smart</td>\n",
       "      <td>50</td>\n",
       "      <td>3</td>\n",
       "      <td>0.0</td>\n",
       "      <td>0.0</td>\n",
       "      <td>0.0</td>\n",
       "      <td>0.0</td>\n",
       "      <td>0.0</td>\n",
       "      <td>0.0</td>\n",
       "      <td>0.0</td>\n",
       "      <td>0.0</td>\n",
       "      <td>0.0</td>\n",
       "      <td>0.0</td>\n",
       "      <td>0.0</td>\n",
       "      <td>0.0</td>\n",
       "    </tr>\n",
       "    <tr>\n",
       "      <th>27</th>\n",
       "      <td>1027</td>\n",
       "      <td>smart</td>\n",
       "      <td>50</td>\n",
       "      <td>3</td>\n",
       "      <td>0.0</td>\n",
       "      <td>0.0</td>\n",
       "      <td>0.0</td>\n",
       "      <td>0.0</td>\n",
       "      <td>0.0</td>\n",
       "      <td>0.0</td>\n",
       "      <td>0.0</td>\n",
       "      <td>0.0</td>\n",
       "      <td>0.0</td>\n",
       "      <td>0.0</td>\n",
       "      <td>0.0</td>\n",
       "      <td>0.0</td>\n",
       "    </tr>\n",
       "    <tr>\n",
       "      <th>194</th>\n",
       "      <td>1194</td>\n",
       "      <td>smart</td>\n",
       "      <td>50</td>\n",
       "      <td>3</td>\n",
       "      <td>0.0</td>\n",
       "      <td>0.0</td>\n",
       "      <td>0.0</td>\n",
       "      <td>0.0</td>\n",
       "      <td>0.0</td>\n",
       "      <td>0.0</td>\n",
       "      <td>0.0</td>\n",
       "      <td>0.0</td>\n",
       "      <td>0.0</td>\n",
       "      <td>0.0</td>\n",
       "      <td>0.0</td>\n",
       "      <td>12.0</td>\n",
       "    </tr>\n",
       "    <tr>\n",
       "      <th>44</th>\n",
       "      <td>1044</td>\n",
       "      <td>smart</td>\n",
       "      <td>50</td>\n",
       "      <td>3</td>\n",
       "      <td>0.0</td>\n",
       "      <td>0.0</td>\n",
       "      <td>0.0</td>\n",
       "      <td>0.0</td>\n",
       "      <td>0.0</td>\n",
       "      <td>0.0</td>\n",
       "      <td>0.0</td>\n",
       "      <td>0.0</td>\n",
       "      <td>0.0</td>\n",
       "      <td>0.0</td>\n",
       "      <td>0.0</td>\n",
       "      <td>0.0</td>\n",
       "    </tr>\n",
       "    <tr>\n",
       "      <th>404</th>\n",
       "      <td>1404</td>\n",
       "      <td>smart</td>\n",
       "      <td>50</td>\n",
       "      <td>3</td>\n",
       "      <td>0.0</td>\n",
       "      <td>0.0</td>\n",
       "      <td>0.0</td>\n",
       "      <td>0.0</td>\n",
       "      <td>0.0</td>\n",
       "      <td>21.0</td>\n",
       "      <td>0.0</td>\n",
       "      <td>0.0</td>\n",
       "      <td>0.0</td>\n",
       "      <td>27.0</td>\n",
       "      <td>27.0</td>\n",
       "      <td>42.0</td>\n",
       "    </tr>\n",
       "  </tbody>\n",
       "</table>\n",
       "</div>"
      ],
      "text/plain": [
       "     user_id tariff  messages_included  rub_per_message    1    2    3    4  \\\n",
       "102     1102  smart                 50                3  0.0  0.0  0.0  0.0   \n",
       "27      1027  smart                 50                3  0.0  0.0  0.0  0.0   \n",
       "194     1194  smart                 50                3  0.0  0.0  0.0  0.0   \n",
       "44      1044  smart                 50                3  0.0  0.0  0.0  0.0   \n",
       "404     1404  smart                 50                3  0.0  0.0  0.0  0.0   \n",
       "\n",
       "       5     6    7    8    9    10    11    12  \n",
       "102  0.0   0.0  0.0  0.0  0.0   0.0   0.0   0.0  \n",
       "27   0.0   0.0  0.0  0.0  0.0   0.0   0.0   0.0  \n",
       "194  0.0   0.0  0.0  0.0  0.0   0.0   0.0  12.0  \n",
       "44   0.0   0.0  0.0  0.0  0.0   0.0   0.0   0.0  \n",
       "404  0.0  21.0  0.0  0.0  0.0  27.0  27.0  42.0  "
      ]
     },
     "execution_count": 43,
     "metadata": {},
     "output_type": "execute_result"
    }
   ],
   "source": [
    "# присоединяем таблицу users для получения информации о тарифах каждого user_id\n",
    "messages_pay = users.join(messages_pivot, on='user_id') \n",
    "# присоединяем таблицу с описанием тарифов\n",
    "messages_pay = messages_pay.merge(tariffs, left_on='tariff', right_on='tariff_name', how='left') \n",
    "# оставляем только те столбцы, которые нужны для подсчета.\n",
    "messages_pay = messages_pay[['user_id', 'tariff', 'messages_included', 'rub_per_message', 1, 2, 3, 4, 5, 6, 7, 8, 9, 10, 11, 12]] \n",
    "# вызываем функцию подсчета выручки\n",
    "pay_count(messages_pay, 'messages_included', 'rub_per_message') \n",
    "\n",
    "messages_pay.sample(5) # выводим 5 случайных строчки"
   ]
  },
  {
   "cell_type": "markdown",
   "metadata": {},
   "source": [
    "Перейдем к интернет-трафику - `internet`. Подсчитаем выручку по каждому пользователю с учетом его тарифа при использовании мобильного интернета:\n"
   ]
  },
  {
   "cell_type": "code",
   "execution_count": 44,
   "metadata": {},
   "outputs": [
    {
     "data": {
      "text/html": [
       "<div>\n",
       "<style scoped>\n",
       "    .dataframe tbody tr th:only-of-type {\n",
       "        vertical-align: middle;\n",
       "    }\n",
       "\n",
       "    .dataframe tbody tr th {\n",
       "        vertical-align: top;\n",
       "    }\n",
       "\n",
       "    .dataframe thead th {\n",
       "        text-align: right;\n",
       "    }\n",
       "</style>\n",
       "<table border=\"1\" class=\"dataframe\">\n",
       "  <thead>\n",
       "    <tr style=\"text-align: right;\">\n",
       "      <th></th>\n",
       "      <th>user_id</th>\n",
       "      <th>tariff</th>\n",
       "      <th>mb_per_month_included</th>\n",
       "      <th>rub_per_gb</th>\n",
       "      <th>1</th>\n",
       "      <th>2</th>\n",
       "      <th>3</th>\n",
       "      <th>4</th>\n",
       "      <th>5</th>\n",
       "      <th>6</th>\n",
       "      <th>7</th>\n",
       "      <th>8</th>\n",
       "      <th>9</th>\n",
       "      <th>10</th>\n",
       "      <th>11</th>\n",
       "      <th>12</th>\n",
       "      <th>rub_per_mb</th>\n",
       "    </tr>\n",
       "  </thead>\n",
       "  <tbody>\n",
       "    <tr>\n",
       "      <th>384</th>\n",
       "      <td>1384</td>\n",
       "      <td>smart</td>\n",
       "      <td>15360</td>\n",
       "      <td>200</td>\n",
       "      <td>0.0</td>\n",
       "      <td>0.0</td>\n",
       "      <td>0.0</td>\n",
       "      <td>0.0</td>\n",
       "      <td>1600.0</td>\n",
       "      <td>1400.0</td>\n",
       "      <td>600.0</td>\n",
       "      <td>600.0</td>\n",
       "      <td>1400.0</td>\n",
       "      <td>2200.0</td>\n",
       "      <td>600.0</td>\n",
       "      <td>1000.0</td>\n",
       "      <td>0.195312</td>\n",
       "    </tr>\n",
       "    <tr>\n",
       "      <th>284</th>\n",
       "      <td>1284</td>\n",
       "      <td>smart</td>\n",
       "      <td>15360</td>\n",
       "      <td>200</td>\n",
       "      <td>0.0</td>\n",
       "      <td>0.0</td>\n",
       "      <td>0.0</td>\n",
       "      <td>0.0</td>\n",
       "      <td>1000.0</td>\n",
       "      <td>400.0</td>\n",
       "      <td>0.0</td>\n",
       "      <td>0.0</td>\n",
       "      <td>0.0</td>\n",
       "      <td>1400.0</td>\n",
       "      <td>1000.0</td>\n",
       "      <td>200.0</td>\n",
       "      <td>0.195312</td>\n",
       "    </tr>\n",
       "    <tr>\n",
       "      <th>255</th>\n",
       "      <td>1255</td>\n",
       "      <td>ultra</td>\n",
       "      <td>30720</td>\n",
       "      <td>150</td>\n",
       "      <td>0.0</td>\n",
       "      <td>0.0</td>\n",
       "      <td>150.0</td>\n",
       "      <td>1050.0</td>\n",
       "      <td>1800.0</td>\n",
       "      <td>1050.0</td>\n",
       "      <td>2250.0</td>\n",
       "      <td>1650.0</td>\n",
       "      <td>0.0</td>\n",
       "      <td>0.0</td>\n",
       "      <td>0.0</td>\n",
       "      <td>0.0</td>\n",
       "      <td>0.146484</td>\n",
       "    </tr>\n",
       "    <tr>\n",
       "      <th>184</th>\n",
       "      <td>1184</td>\n",
       "      <td>smart</td>\n",
       "      <td>15360</td>\n",
       "      <td>200</td>\n",
       "      <td>0.0</td>\n",
       "      <td>0.0</td>\n",
       "      <td>0.0</td>\n",
       "      <td>0.0</td>\n",
       "      <td>0.0</td>\n",
       "      <td>0.0</td>\n",
       "      <td>0.0</td>\n",
       "      <td>0.0</td>\n",
       "      <td>0.0</td>\n",
       "      <td>400.0</td>\n",
       "      <td>0.0</td>\n",
       "      <td>0.0</td>\n",
       "      <td>0.195312</td>\n",
       "    </tr>\n",
       "    <tr>\n",
       "      <th>266</th>\n",
       "      <td>1266</td>\n",
       "      <td>smart</td>\n",
       "      <td>15360</td>\n",
       "      <td>200</td>\n",
       "      <td>0.0</td>\n",
       "      <td>0.0</td>\n",
       "      <td>0.0</td>\n",
       "      <td>0.0</td>\n",
       "      <td>0.0</td>\n",
       "      <td>0.0</td>\n",
       "      <td>0.0</td>\n",
       "      <td>400.0</td>\n",
       "      <td>0.0</td>\n",
       "      <td>1400.0</td>\n",
       "      <td>200.0</td>\n",
       "      <td>0.0</td>\n",
       "      <td>0.195312</td>\n",
       "    </tr>\n",
       "  </tbody>\n",
       "</table>\n",
       "</div>"
      ],
      "text/plain": [
       "     user_id tariff  mb_per_month_included  rub_per_gb    1    2      3  \\\n",
       "384     1384  smart                  15360         200  0.0  0.0    0.0   \n",
       "284     1284  smart                  15360         200  0.0  0.0    0.0   \n",
       "255     1255  ultra                  30720         150  0.0  0.0  150.0   \n",
       "184     1184  smart                  15360         200  0.0  0.0    0.0   \n",
       "266     1266  smart                  15360         200  0.0  0.0    0.0   \n",
       "\n",
       "          4       5       6       7       8       9      10      11      12  \\\n",
       "384     0.0  1600.0  1400.0   600.0   600.0  1400.0  2200.0   600.0  1000.0   \n",
       "284     0.0  1000.0   400.0     0.0     0.0     0.0  1400.0  1000.0   200.0   \n",
       "255  1050.0  1800.0  1050.0  2250.0  1650.0     0.0     0.0     0.0     0.0   \n",
       "184     0.0     0.0     0.0     0.0     0.0     0.0   400.0     0.0     0.0   \n",
       "266     0.0     0.0     0.0     0.0   400.0     0.0  1400.0   200.0     0.0   \n",
       "\n",
       "     rub_per_mb  \n",
       "384    0.195312  \n",
       "284    0.195312  \n",
       "255    0.146484  \n",
       "184    0.195312  \n",
       "266    0.195312  "
      ]
     },
     "execution_count": 44,
     "metadata": {},
     "output_type": "execute_result"
    }
   ],
   "source": [
    "# присоединяем таблицу users для получения информации о тарифах каждого user_id\n",
    "internet_pay = users.join(internet_pivot, on='user_id') \n",
    "# присоединяем таблицу с описанием тарифов\n",
    "internet_pay = internet_pay.merge(tariffs, left_on='tariff', right_on='tariff_name', how='left') \n",
    "# оставляем только те столбцы, которые нужны для подсчета.\n",
    "internet_pay = internet_pay[['user_id', 'tariff', 'mb_per_month_included', 'rub_per_gb', 1, 2, 3, 4, 5, 6, 7, 8, 9, 10, 11, 12]] \n",
    "internet_pay['rub_per_mb'] = internet_pay['rub_per_gb'] / 1024\n",
    "# вызываем функцию подсчета выручки\n",
    "pay_count(internet_pay, 'mb_per_month_included', 'rub_per_mb') \n",
    "\n",
    "internet_pay.sample(5) # выводим 5 случайных строчки"
   ]
  },
  {
   "cell_type": "markdown",
   "metadata": {},
   "source": [
    "Теперь подсчитаем общую выручку по каждому пользователю с учетом тарифа - просуммируем все значения трех таблиц `calls_pay`, `messages_pay` и `internet_pay`, в конце прибавим абонентскую плату за пользование тарифом:"
   ]
  },
  {
   "cell_type": "code",
   "execution_count": 45,
   "metadata": {},
   "outputs": [
    {
     "data": {
      "text/html": [
       "<div>\n",
       "<style scoped>\n",
       "    .dataframe tbody tr th:only-of-type {\n",
       "        vertical-align: middle;\n",
       "    }\n",
       "\n",
       "    .dataframe tbody tr th {\n",
       "        vertical-align: top;\n",
       "    }\n",
       "\n",
       "    .dataframe thead th {\n",
       "        text-align: right;\n",
       "    }\n",
       "</style>\n",
       "<table border=\"1\" class=\"dataframe\">\n",
       "  <thead>\n",
       "    <tr style=\"text-align: right;\">\n",
       "      <th></th>\n",
       "      <th>user_id</th>\n",
       "      <th>tariff</th>\n",
       "      <th>rub_monthly_fee</th>\n",
       "      <th>1</th>\n",
       "      <th>2</th>\n",
       "      <th>3</th>\n",
       "      <th>4</th>\n",
       "      <th>5</th>\n",
       "      <th>6</th>\n",
       "      <th>7</th>\n",
       "      <th>8</th>\n",
       "      <th>9</th>\n",
       "      <th>10</th>\n",
       "      <th>11</th>\n",
       "      <th>12</th>\n",
       "    </tr>\n",
       "  </thead>\n",
       "  <tbody>\n",
       "    <tr>\n",
       "      <th>422</th>\n",
       "      <td>1422</td>\n",
       "      <td>smart</td>\n",
       "      <td>550</td>\n",
       "      <td>550</td>\n",
       "      <td>550</td>\n",
       "      <td>550</td>\n",
       "      <td>550</td>\n",
       "      <td>550</td>\n",
       "      <td>550</td>\n",
       "      <td>550</td>\n",
       "      <td>550</td>\n",
       "      <td>550</td>\n",
       "      <td>550</td>\n",
       "      <td>550</td>\n",
       "      <td>550</td>\n",
       "    </tr>\n",
       "    <tr>\n",
       "      <th>421</th>\n",
       "      <td>1421</td>\n",
       "      <td>smart</td>\n",
       "      <td>550</td>\n",
       "      <td>550</td>\n",
       "      <td>550</td>\n",
       "      <td>2380</td>\n",
       "      <td>550</td>\n",
       "      <td>1550</td>\n",
       "      <td>756</td>\n",
       "      <td>1789</td>\n",
       "      <td>1550</td>\n",
       "      <td>2186</td>\n",
       "      <td>1959</td>\n",
       "      <td>2550</td>\n",
       "      <td>550</td>\n",
       "    </tr>\n",
       "    <tr>\n",
       "      <th>406</th>\n",
       "      <td>1406</td>\n",
       "      <td>smart</td>\n",
       "      <td>550</td>\n",
       "      <td>550</td>\n",
       "      <td>550</td>\n",
       "      <td>550</td>\n",
       "      <td>550</td>\n",
       "      <td>550</td>\n",
       "      <td>550</td>\n",
       "      <td>550</td>\n",
       "      <td>550</td>\n",
       "      <td>550</td>\n",
       "      <td>550</td>\n",
       "      <td>550</td>\n",
       "      <td>550</td>\n",
       "    </tr>\n",
       "    <tr>\n",
       "      <th>129</th>\n",
       "      <td>1129</td>\n",
       "      <td>smart</td>\n",
       "      <td>550</td>\n",
       "      <td>550</td>\n",
       "      <td>550</td>\n",
       "      <td>550</td>\n",
       "      <td>550</td>\n",
       "      <td>550</td>\n",
       "      <td>550</td>\n",
       "      <td>550</td>\n",
       "      <td>550</td>\n",
       "      <td>550</td>\n",
       "      <td>550</td>\n",
       "      <td>550</td>\n",
       "      <td>950</td>\n",
       "    </tr>\n",
       "    <tr>\n",
       "      <th>472</th>\n",
       "      <td>1472</td>\n",
       "      <td>smart</td>\n",
       "      <td>550</td>\n",
       "      <td>550</td>\n",
       "      <td>1440</td>\n",
       "      <td>1489</td>\n",
       "      <td>1450</td>\n",
       "      <td>1240</td>\n",
       "      <td>2704</td>\n",
       "      <td>2705</td>\n",
       "      <td>1055</td>\n",
       "      <td>1566</td>\n",
       "      <td>2252</td>\n",
       "      <td>910</td>\n",
       "      <td>1767</td>\n",
       "    </tr>\n",
       "    <tr>\n",
       "      <th>160</th>\n",
       "      <td>1160</td>\n",
       "      <td>smart</td>\n",
       "      <td>550</td>\n",
       "      <td>550</td>\n",
       "      <td>550</td>\n",
       "      <td>550</td>\n",
       "      <td>550</td>\n",
       "      <td>550</td>\n",
       "      <td>550</td>\n",
       "      <td>550</td>\n",
       "      <td>1150</td>\n",
       "      <td>550</td>\n",
       "      <td>950</td>\n",
       "      <td>550</td>\n",
       "      <td>550</td>\n",
       "    </tr>\n",
       "    <tr>\n",
       "      <th>33</th>\n",
       "      <td>1033</td>\n",
       "      <td>smart</td>\n",
       "      <td>550</td>\n",
       "      <td>550</td>\n",
       "      <td>550</td>\n",
       "      <td>550</td>\n",
       "      <td>550</td>\n",
       "      <td>550</td>\n",
       "      <td>550</td>\n",
       "      <td>550</td>\n",
       "      <td>2031</td>\n",
       "      <td>2831</td>\n",
       "      <td>1640</td>\n",
       "      <td>2616</td>\n",
       "      <td>1816</td>\n",
       "    </tr>\n",
       "    <tr>\n",
       "      <th>296</th>\n",
       "      <td>1296</td>\n",
       "      <td>smart</td>\n",
       "      <td>550</td>\n",
       "      <td>550</td>\n",
       "      <td>550</td>\n",
       "      <td>550</td>\n",
       "      <td>550</td>\n",
       "      <td>550</td>\n",
       "      <td>550</td>\n",
       "      <td>750</td>\n",
       "      <td>550</td>\n",
       "      <td>550</td>\n",
       "      <td>550</td>\n",
       "      <td>750</td>\n",
       "      <td>550</td>\n",
       "    </tr>\n",
       "    <tr>\n",
       "      <th>66</th>\n",
       "      <td>1066</td>\n",
       "      <td>smart</td>\n",
       "      <td>550</td>\n",
       "      <td>550</td>\n",
       "      <td>550</td>\n",
       "      <td>550</td>\n",
       "      <td>550</td>\n",
       "      <td>550</td>\n",
       "      <td>550</td>\n",
       "      <td>2395</td>\n",
       "      <td>4011</td>\n",
       "      <td>1069</td>\n",
       "      <td>873</td>\n",
       "      <td>1705</td>\n",
       "      <td>2362</td>\n",
       "    </tr>\n",
       "    <tr>\n",
       "      <th>334</th>\n",
       "      <td>1334</td>\n",
       "      <td>smart</td>\n",
       "      <td>550</td>\n",
       "      <td>550</td>\n",
       "      <td>550</td>\n",
       "      <td>550</td>\n",
       "      <td>550</td>\n",
       "      <td>550</td>\n",
       "      <td>550</td>\n",
       "      <td>550</td>\n",
       "      <td>550</td>\n",
       "      <td>550</td>\n",
       "      <td>550</td>\n",
       "      <td>550</td>\n",
       "      <td>2750</td>\n",
       "    </tr>\n",
       "  </tbody>\n",
       "</table>\n",
       "</div>"
      ],
      "text/plain": [
       "     user_id tariff  rub_monthly_fee    1     2     3     4     5     6     7  \\\n",
       "422     1422  smart              550  550   550   550   550   550   550   550   \n",
       "421     1421  smart              550  550   550  2380   550  1550   756  1789   \n",
       "406     1406  smart              550  550   550   550   550   550   550   550   \n",
       "129     1129  smart              550  550   550   550   550   550   550   550   \n",
       "472     1472  smart              550  550  1440  1489  1450  1240  2704  2705   \n",
       "160     1160  smart              550  550   550   550   550   550   550   550   \n",
       "33      1033  smart              550  550   550   550   550   550   550   550   \n",
       "296     1296  smart              550  550   550   550   550   550   550   750   \n",
       "66      1066  smart              550  550   550   550   550   550   550  2395   \n",
       "334     1334  smart              550  550   550   550   550   550   550   550   \n",
       "\n",
       "        8     9    10    11    12  \n",
       "422   550   550   550   550   550  \n",
       "421  1550  2186  1959  2550   550  \n",
       "406   550   550   550   550   550  \n",
       "129   550   550   550   550   950  \n",
       "472  1055  1566  2252   910  1767  \n",
       "160  1150   550   950   550   550  \n",
       "33   2031  2831  1640  2616  1816  \n",
       "296   550   550   550   750   550  \n",
       "66   4011  1069   873  1705  2362  \n",
       "334   550   550   550   550  2750  "
      ]
     },
     "execution_count": 45,
     "metadata": {},
     "output_type": "execute_result"
    }
   ],
   "source": [
    "# создаем сводную таблицу total_pay, которя содержит user_id, название тарифа\n",
    "total_income = calls_pay[['user_id', 'tariff']]\n",
    "# присоединяем описание тарифа\n",
    "total_income = total_income.merge(tariffs, left_on='tariff', right_on='tariff_name', how='left')\n",
    "# берем в итог только  user_id, название тарифа и абонетскую плату за месяц\n",
    "total_income = total_income[['user_id', 'tariff', 'rub_monthly_fee']]\n",
    "\n",
    "# для каждого месяца считаем общую сумму по каждому виду услуги, прибавляя абонентскую плату за месяц\n",
    "for month in range(1, 13):\n",
    "    total_income[month] = calls_pay[month] + messages_pay[month] + internet_pay[month] + total_income['rub_monthly_fee']\n",
    "    \n",
    "    total_income[month] = total_income[month].astype(int) # сразу прводим к типу int, чтобы не плодить доп. цикл\n",
    "\n",
    "#выводим 10 случайных строк\n",
    "total_income.sample(10)"
   ]
  },
  {
   "cell_type": "markdown",
   "metadata": {},
   "source": [
    "Мы получили таблицу выручки. Однако, у нас есть несколько пользователей, которые отказались от использования тарифа в течение 2018 года. Нужно вычесть из выручки те ежемесячные суммы, которые клиенты точно не могли платить.\n",
    "\n",
    "Поскольку в условии задачи не указано, в какой день денежные средства списываются со счета пользователя и возвращается ли ему часть средств абонентской платы, возьмем **пессимистичный** сценарий, при котором клиенту возвращаеся вся сумма абонентской платы, если он не израсходовал лимит абонентской платы по своему тарифу."
   ]
  },
  {
   "cell_type": "code",
   "execution_count": 46,
   "metadata": {},
   "outputs": [
    {
     "data": {
      "text/plain": [
       "7.6"
      ]
     },
     "execution_count": 46,
     "metadata": {},
     "output_type": "execute_result"
    }
   ],
   "source": [
    "users.query('churn_date >= \"2018-01-01\"')['user_id'].count() / len(users) * 100\n"
   ]
  },
  {
   "cell_type": "markdown",
   "metadata": {},
   "source": [
    "Поскольку таких клиентов, которые отказались от тарифа, всего 7.6% от всей выборки, возможное некорректное значение выручки за тот месяц, в который клиент отказался от тарифа, на результат исследования это не сильно повлияет."
   ]
  },
  {
   "cell_type": "code",
   "execution_count": 47,
   "metadata": {},
   "outputs": [
    {
     "data": {
      "text/html": [
       "<div>\n",
       "<style scoped>\n",
       "    .dataframe tbody tr th:only-of-type {\n",
       "        vertical-align: middle;\n",
       "    }\n",
       "\n",
       "    .dataframe tbody tr th {\n",
       "        vertical-align: top;\n",
       "    }\n",
       "\n",
       "    .dataframe thead th {\n",
       "        text-align: right;\n",
       "    }\n",
       "</style>\n",
       "<table border=\"1\" class=\"dataframe\">\n",
       "  <thead>\n",
       "    <tr style=\"text-align: right;\">\n",
       "      <th></th>\n",
       "      <th>user_id</th>\n",
       "      <th>churn_date</th>\n",
       "      <th>churn_month</th>\n",
       "    </tr>\n",
       "  </thead>\n",
       "  <tbody>\n",
       "    <tr>\n",
       "      <th>370</th>\n",
       "      <td>1370</td>\n",
       "      <td>2018-10-27</td>\n",
       "      <td>10</td>\n",
       "    </tr>\n",
       "  </tbody>\n",
       "</table>\n",
       "</div>"
      ],
      "text/plain": [
       "     user_id churn_date  churn_month\n",
       "370     1370 2018-10-27           10"
      ]
     },
     "execution_count": 47,
     "metadata": {},
     "output_type": "execute_result"
    }
   ],
   "source": [
    "# создадим временную таблицу, где будут только те пользователи, которые отказалисьот тарифа,\n",
    "# а также дата и месяц их отказа\n",
    "churn_pay = users[['user_id', 'churn_date']].dropna()\n",
    "churn_pay['churn_month'] = churn_pay['churn_date'].dt.month\n",
    "churn_pay.sample()\n"
   ]
  },
  {
   "cell_type": "markdown",
   "metadata": {},
   "source": [
    "Теперь заменим выручку в таблице `total_income` на ноль для тех пользователей и месяцев, где пользователи уже не пользовались тарифом (включая месяц отказа то тарифа, если клиента не вышел за абонентскую плату по тарифу):"
   ]
  },
  {
   "cell_type": "code",
   "execution_count": 48,
   "metadata": {},
   "outputs": [
    {
     "data": {
      "text/html": [
       "<div>\n",
       "<style scoped>\n",
       "    .dataframe tbody tr th:only-of-type {\n",
       "        vertical-align: middle;\n",
       "    }\n",
       "\n",
       "    .dataframe tbody tr th {\n",
       "        vertical-align: top;\n",
       "    }\n",
       "\n",
       "    .dataframe thead th {\n",
       "        text-align: right;\n",
       "    }\n",
       "</style>\n",
       "<table border=\"1\" class=\"dataframe\">\n",
       "  <thead>\n",
       "    <tr style=\"text-align: right;\">\n",
       "      <th></th>\n",
       "      <th>user_id</th>\n",
       "      <th>tariff</th>\n",
       "      <th>rub_monthly_fee</th>\n",
       "      <th>1</th>\n",
       "      <th>2</th>\n",
       "      <th>3</th>\n",
       "      <th>4</th>\n",
       "      <th>5</th>\n",
       "      <th>6</th>\n",
       "      <th>7</th>\n",
       "      <th>8</th>\n",
       "      <th>9</th>\n",
       "      <th>10</th>\n",
       "      <th>11</th>\n",
       "      <th>12</th>\n",
       "    </tr>\n",
       "  </thead>\n",
       "  <tbody>\n",
       "    <tr>\n",
       "      <th>343</th>\n",
       "      <td>1343</td>\n",
       "      <td>ultra</td>\n",
       "      <td>1950</td>\n",
       "      <td>1950</td>\n",
       "      <td>1950</td>\n",
       "      <td>1950</td>\n",
       "      <td>1950</td>\n",
       "      <td>1950</td>\n",
       "      <td>1950</td>\n",
       "      <td>1950</td>\n",
       "      <td>1950</td>\n",
       "      <td>1950</td>\n",
       "      <td>0</td>\n",
       "      <td>0</td>\n",
       "      <td>0</td>\n",
       "    </tr>\n",
       "  </tbody>\n",
       "</table>\n",
       "</div>"
      ],
      "text/plain": [
       "     user_id tariff  rub_monthly_fee     1     2     3     4     5     6  \\\n",
       "343     1343  ultra             1950  1950  1950  1950  1950  1950  1950   \n",
       "\n",
       "        7     8     9  10  11  12  \n",
       "343  1950  1950  1950   0   0   0  "
      ]
     },
     "execution_count": 48,
     "metadata": {},
     "output_type": "execute_result"
    }
   ],
   "source": [
    "# в цикле по всем пользователям, в цикле по каждому месяцу выручки\n",
    "# если пользователь (индекс, потому что индексы мы не перестраивали) прекратил пользование тарифом\n",
    "# при этом текущий месяц выручки больше, либо равен месяцу отказа от тарифа\n",
    "# и абонентская плата равна выручки на этот месяц (больше быть не может, а меньше нам как раз не надо)\n",
    "# то выручка за этот месяц равна нулю\n",
    "for user in total_income.index:\n",
    "    for month in range(1, 13):\n",
    "        if ((user in churn_pay.index) and \n",
    "            (month >= churn_pay.loc[user, 'churn_month']) and \n",
    "            (total_income.loc[user, 'rub_monthly_fee'] == total_income.loc[user, month])):\n",
    "            \n",
    "            total_income.loc[user, month] = 0\n",
    "\n",
    "# выводим пример для одного из пользователей, который оказался в течение года от тарифа            \n",
    "total_income.query('user_id == 1343')"
   ]
  },
  {
   "cell_type": "markdown",
   "metadata": {},
   "source": [
    "**Выводы:**\n",
    "\n",
    "* мы подсчитали для каждого пользователя количество сделанных звонков и израсходованных минут - `calls_pivot`;\n",
    "* количество отправленных сообщений по месяцам - `messages_pivot`;\n",
    "* объем израсходованного интернет-трафика по месяцам - `internet_pivot`;\n",
    "* помесячную выручку с каждого пользователя - `total_income`."
   ]
  },
  {
   "cell_type": "markdown",
   "metadata": {},
   "source": [
    "## Анализ данных<a name=\"analis\"></a>"
   ]
  },
  {
   "cell_type": "markdown",
   "metadata": {},
   "source": [
    "Опишем поведение клиентов оператора, исходя из выборки (сколько минут разговора, сколько сообщений и какой объём интернет-трафика требуется пользователям каждого тарифа в месяц):\n",
    "\n",
    "* посчитаем среднее количество, дисперсию и стандартное отклонение;\n",
    "* построим гистограммы, опишем распределения."
   ]
  },
  {
   "cell_type": "code",
   "execution_count": 49,
   "metadata": {},
   "outputs": [],
   "source": [
    "# создадим отдельную таблицу с user_id и названием тарифа:\n",
    "user_tariff = users[['user_id', 'tariff']]"
   ]
  },
  {
   "cell_type": "code",
   "execution_count": 50,
   "metadata": {},
   "outputs": [],
   "source": [
    "# напишем функцию, которая будет считать среднее количество, дисперсию и стандартное отклонение по таблицам с разговорами, сообщениями и трафиком\n",
    "# в соответствии с тарифом\n",
    "def mean_var_std(df, tariff):\n",
    "    df = df.merge(user_tariff, on='user_id', how='left')\n",
    "    out = pd.DataFrame({'mean' : df.query('tariff == @tariff').mean(),\n",
    "                        'var': np.var(df.query('tariff == @tariff')),\n",
    "                        'std': np.std(df.query('tariff == @tariff'))\n",
    "                        })\n",
    "    # поскольку user_id имеет тип int, все стат. методы применяются и к нему\n",
    "    # поэтому, в конце удаляем строку user_id\n",
    "    out.drop('user_id', axis=0, inplace=True) \n",
    "    return out\n",
    "\n",
    "# подсчитаем среднее, дисперсию и стандартное отклонение для сводных таблиц по звонкам, сообщениям и трафику\n",
    "calls_stat_smart = mean_var_std(calls_pivot['sum'], 'smart')\n",
    "calls_stat_ultra = mean_var_std(calls_pivot['sum'], 'ultra')\n",
    "\n",
    "messages_stat_smart = mean_var_std(messages_pivot, 'smart')\n",
    "messages_stat_ultra = mean_var_std(messages_pivot, 'ultra')\n",
    "\n",
    "internet_stat_smart = mean_var_std(internet_pivot, 'smart')\n",
    "internet_stat_ultra = mean_var_std(internet_pivot, 'ultra')\n"
   ]
  },
  {
   "cell_type": "markdown",
   "metadata": {},
   "source": [
    "Построим гистограммы распределения вызовов, сообщений и интернет-трафика по месяцам: "
   ]
  },
  {
   "cell_type": "code",
   "execution_count": 51,
   "metadata": {},
   "outputs": [
    {
     "data": {
      "application/vnd.plotly.v1+json": {
       "config": {
        "plotlyServerURL": "https://plot.ly"
       },
       "data": [
        {
         "alignmentgroup": "True",
         "boxpoints": "all",
         "hovertemplate": "value=%{x}<br>variable=%{y}<extra></extra>",
         "legendgroup": "",
         "marker": {
          "color": "#636efa"
         },
         "name": "",
         "notched": false,
         "offsetgroup": "",
         "orientation": "h",
         "showlegend": false,
         "type": "box",
         "x": [
          203.85294117647058,
          298.6896551724138,
          390.05194805194805,
          367.13392857142856,
          387.36170212765956,
          398.0674846625767,
          408.3532338308458,
          423.2692307692308,
          430.26640926640925,
          427.59044368600684,
          436.64761904761906,
          479.98511904761904,
          428.1111111111111,
          297.125,
          489.64864864864865,
          475.3018867924528,
          534.25,
          497.4691358024691,
          564.3977272727273,
          530.6116504854369,
          558.8828828828829,
          581.728813559322,
          562.3643410852713,
          614.9253731343283
         ],
         "x0": " ",
         "xaxis": "x",
         "y": [
          "smart",
          "smart",
          "smart",
          "smart",
          "smart",
          "smart",
          "smart",
          "smart",
          "smart",
          "smart",
          "smart",
          "smart",
          "ultra",
          "ultra",
          "ultra",
          "ultra",
          "ultra",
          "ultra",
          "ultra",
          "ultra",
          "ultra",
          "ultra",
          "ultra",
          "ultra"
         ],
         "y0": " ",
         "yaxis": "y"
        }
       ],
       "layout": {
        "boxmode": "group",
        "height": 300,
        "legend": {
         "tracegroupgap": 0
        },
        "template": {
         "data": {
          "bar": [
           {
            "error_x": {
             "color": "#2a3f5f"
            },
            "error_y": {
             "color": "#2a3f5f"
            },
            "marker": {
             "line": {
              "color": "#E5ECF6",
              "width": 0.5
             },
             "pattern": {
              "fillmode": "overlay",
              "size": 10,
              "solidity": 0.2
             }
            },
            "type": "bar"
           }
          ],
          "barpolar": [
           {
            "marker": {
             "line": {
              "color": "#E5ECF6",
              "width": 0.5
             },
             "pattern": {
              "fillmode": "overlay",
              "size": 10,
              "solidity": 0.2
             }
            },
            "type": "barpolar"
           }
          ],
          "carpet": [
           {
            "aaxis": {
             "endlinecolor": "#2a3f5f",
             "gridcolor": "white",
             "linecolor": "white",
             "minorgridcolor": "white",
             "startlinecolor": "#2a3f5f"
            },
            "baxis": {
             "endlinecolor": "#2a3f5f",
             "gridcolor": "white",
             "linecolor": "white",
             "minorgridcolor": "white",
             "startlinecolor": "#2a3f5f"
            },
            "type": "carpet"
           }
          ],
          "choropleth": [
           {
            "colorbar": {
             "outlinewidth": 0,
             "ticks": ""
            },
            "type": "choropleth"
           }
          ],
          "contour": [
           {
            "colorbar": {
             "outlinewidth": 0,
             "ticks": ""
            },
            "colorscale": [
             [
              0,
              "#0d0887"
             ],
             [
              0.1111111111111111,
              "#46039f"
             ],
             [
              0.2222222222222222,
              "#7201a8"
             ],
             [
              0.3333333333333333,
              "#9c179e"
             ],
             [
              0.4444444444444444,
              "#bd3786"
             ],
             [
              0.5555555555555556,
              "#d8576b"
             ],
             [
              0.6666666666666666,
              "#ed7953"
             ],
             [
              0.7777777777777778,
              "#fb9f3a"
             ],
             [
              0.8888888888888888,
              "#fdca26"
             ],
             [
              1,
              "#f0f921"
             ]
            ],
            "type": "contour"
           }
          ],
          "contourcarpet": [
           {
            "colorbar": {
             "outlinewidth": 0,
             "ticks": ""
            },
            "type": "contourcarpet"
           }
          ],
          "heatmap": [
           {
            "colorbar": {
             "outlinewidth": 0,
             "ticks": ""
            },
            "colorscale": [
             [
              0,
              "#0d0887"
             ],
             [
              0.1111111111111111,
              "#46039f"
             ],
             [
              0.2222222222222222,
              "#7201a8"
             ],
             [
              0.3333333333333333,
              "#9c179e"
             ],
             [
              0.4444444444444444,
              "#bd3786"
             ],
             [
              0.5555555555555556,
              "#d8576b"
             ],
             [
              0.6666666666666666,
              "#ed7953"
             ],
             [
              0.7777777777777778,
              "#fb9f3a"
             ],
             [
              0.8888888888888888,
              "#fdca26"
             ],
             [
              1,
              "#f0f921"
             ]
            ],
            "type": "heatmap"
           }
          ],
          "heatmapgl": [
           {
            "colorbar": {
             "outlinewidth": 0,
             "ticks": ""
            },
            "colorscale": [
             [
              0,
              "#0d0887"
             ],
             [
              0.1111111111111111,
              "#46039f"
             ],
             [
              0.2222222222222222,
              "#7201a8"
             ],
             [
              0.3333333333333333,
              "#9c179e"
             ],
             [
              0.4444444444444444,
              "#bd3786"
             ],
             [
              0.5555555555555556,
              "#d8576b"
             ],
             [
              0.6666666666666666,
              "#ed7953"
             ],
             [
              0.7777777777777778,
              "#fb9f3a"
             ],
             [
              0.8888888888888888,
              "#fdca26"
             ],
             [
              1,
              "#f0f921"
             ]
            ],
            "type": "heatmapgl"
           }
          ],
          "histogram": [
           {
            "marker": {
             "pattern": {
              "fillmode": "overlay",
              "size": 10,
              "solidity": 0.2
             }
            },
            "type": "histogram"
           }
          ],
          "histogram2d": [
           {
            "colorbar": {
             "outlinewidth": 0,
             "ticks": ""
            },
            "colorscale": [
             [
              0,
              "#0d0887"
             ],
             [
              0.1111111111111111,
              "#46039f"
             ],
             [
              0.2222222222222222,
              "#7201a8"
             ],
             [
              0.3333333333333333,
              "#9c179e"
             ],
             [
              0.4444444444444444,
              "#bd3786"
             ],
             [
              0.5555555555555556,
              "#d8576b"
             ],
             [
              0.6666666666666666,
              "#ed7953"
             ],
             [
              0.7777777777777778,
              "#fb9f3a"
             ],
             [
              0.8888888888888888,
              "#fdca26"
             ],
             [
              1,
              "#f0f921"
             ]
            ],
            "type": "histogram2d"
           }
          ],
          "histogram2dcontour": [
           {
            "colorbar": {
             "outlinewidth": 0,
             "ticks": ""
            },
            "colorscale": [
             [
              0,
              "#0d0887"
             ],
             [
              0.1111111111111111,
              "#46039f"
             ],
             [
              0.2222222222222222,
              "#7201a8"
             ],
             [
              0.3333333333333333,
              "#9c179e"
             ],
             [
              0.4444444444444444,
              "#bd3786"
             ],
             [
              0.5555555555555556,
              "#d8576b"
             ],
             [
              0.6666666666666666,
              "#ed7953"
             ],
             [
              0.7777777777777778,
              "#fb9f3a"
             ],
             [
              0.8888888888888888,
              "#fdca26"
             ],
             [
              1,
              "#f0f921"
             ]
            ],
            "type": "histogram2dcontour"
           }
          ],
          "mesh3d": [
           {
            "colorbar": {
             "outlinewidth": 0,
             "ticks": ""
            },
            "type": "mesh3d"
           }
          ],
          "parcoords": [
           {
            "line": {
             "colorbar": {
              "outlinewidth": 0,
              "ticks": ""
             }
            },
            "type": "parcoords"
           }
          ],
          "pie": [
           {
            "automargin": true,
            "type": "pie"
           }
          ],
          "scatter": [
           {
            "fillpattern": {
             "fillmode": "overlay",
             "size": 10,
             "solidity": 0.2
            },
            "type": "scatter"
           }
          ],
          "scatter3d": [
           {
            "line": {
             "colorbar": {
              "outlinewidth": 0,
              "ticks": ""
             }
            },
            "marker": {
             "colorbar": {
              "outlinewidth": 0,
              "ticks": ""
             }
            },
            "type": "scatter3d"
           }
          ],
          "scattercarpet": [
           {
            "marker": {
             "colorbar": {
              "outlinewidth": 0,
              "ticks": ""
             }
            },
            "type": "scattercarpet"
           }
          ],
          "scattergeo": [
           {
            "marker": {
             "colorbar": {
              "outlinewidth": 0,
              "ticks": ""
             }
            },
            "type": "scattergeo"
           }
          ],
          "scattergl": [
           {
            "marker": {
             "colorbar": {
              "outlinewidth": 0,
              "ticks": ""
             }
            },
            "type": "scattergl"
           }
          ],
          "scattermapbox": [
           {
            "marker": {
             "colorbar": {
              "outlinewidth": 0,
              "ticks": ""
             }
            },
            "type": "scattermapbox"
           }
          ],
          "scatterpolar": [
           {
            "marker": {
             "colorbar": {
              "outlinewidth": 0,
              "ticks": ""
             }
            },
            "type": "scatterpolar"
           }
          ],
          "scatterpolargl": [
           {
            "marker": {
             "colorbar": {
              "outlinewidth": 0,
              "ticks": ""
             }
            },
            "type": "scatterpolargl"
           }
          ],
          "scatterternary": [
           {
            "marker": {
             "colorbar": {
              "outlinewidth": 0,
              "ticks": ""
             }
            },
            "type": "scatterternary"
           }
          ],
          "surface": [
           {
            "colorbar": {
             "outlinewidth": 0,
             "ticks": ""
            },
            "colorscale": [
             [
              0,
              "#0d0887"
             ],
             [
              0.1111111111111111,
              "#46039f"
             ],
             [
              0.2222222222222222,
              "#7201a8"
             ],
             [
              0.3333333333333333,
              "#9c179e"
             ],
             [
              0.4444444444444444,
              "#bd3786"
             ],
             [
              0.5555555555555556,
              "#d8576b"
             ],
             [
              0.6666666666666666,
              "#ed7953"
             ],
             [
              0.7777777777777778,
              "#fb9f3a"
             ],
             [
              0.8888888888888888,
              "#fdca26"
             ],
             [
              1,
              "#f0f921"
             ]
            ],
            "type": "surface"
           }
          ],
          "table": [
           {
            "cells": {
             "fill": {
              "color": "#EBF0F8"
             },
             "line": {
              "color": "white"
             }
            },
            "header": {
             "fill": {
              "color": "#C8D4E3"
             },
             "line": {
              "color": "white"
             }
            },
            "type": "table"
           }
          ]
         },
         "layout": {
          "annotationdefaults": {
           "arrowcolor": "#2a3f5f",
           "arrowhead": 0,
           "arrowwidth": 1
          },
          "autotypenumbers": "strict",
          "coloraxis": {
           "colorbar": {
            "outlinewidth": 0,
            "ticks": ""
           }
          },
          "colorscale": {
           "diverging": [
            [
             0,
             "#8e0152"
            ],
            [
             0.1,
             "#c51b7d"
            ],
            [
             0.2,
             "#de77ae"
            ],
            [
             0.3,
             "#f1b6da"
            ],
            [
             0.4,
             "#fde0ef"
            ],
            [
             0.5,
             "#f7f7f7"
            ],
            [
             0.6,
             "#e6f5d0"
            ],
            [
             0.7,
             "#b8e186"
            ],
            [
             0.8,
             "#7fbc41"
            ],
            [
             0.9,
             "#4d9221"
            ],
            [
             1,
             "#276419"
            ]
           ],
           "sequential": [
            [
             0,
             "#0d0887"
            ],
            [
             0.1111111111111111,
             "#46039f"
            ],
            [
             0.2222222222222222,
             "#7201a8"
            ],
            [
             0.3333333333333333,
             "#9c179e"
            ],
            [
             0.4444444444444444,
             "#bd3786"
            ],
            [
             0.5555555555555556,
             "#d8576b"
            ],
            [
             0.6666666666666666,
             "#ed7953"
            ],
            [
             0.7777777777777778,
             "#fb9f3a"
            ],
            [
             0.8888888888888888,
             "#fdca26"
            ],
            [
             1,
             "#f0f921"
            ]
           ],
           "sequentialminus": [
            [
             0,
             "#0d0887"
            ],
            [
             0.1111111111111111,
             "#46039f"
            ],
            [
             0.2222222222222222,
             "#7201a8"
            ],
            [
             0.3333333333333333,
             "#9c179e"
            ],
            [
             0.4444444444444444,
             "#bd3786"
            ],
            [
             0.5555555555555556,
             "#d8576b"
            ],
            [
             0.6666666666666666,
             "#ed7953"
            ],
            [
             0.7777777777777778,
             "#fb9f3a"
            ],
            [
             0.8888888888888888,
             "#fdca26"
            ],
            [
             1,
             "#f0f921"
            ]
           ]
          },
          "colorway": [
           "#636efa",
           "#EF553B",
           "#00cc96",
           "#ab63fa",
           "#FFA15A",
           "#19d3f3",
           "#FF6692",
           "#B6E880",
           "#FF97FF",
           "#FECB52"
          ],
          "font": {
           "color": "#2a3f5f"
          },
          "geo": {
           "bgcolor": "white",
           "lakecolor": "white",
           "landcolor": "#E5ECF6",
           "showlakes": true,
           "showland": true,
           "subunitcolor": "white"
          },
          "hoverlabel": {
           "align": "left"
          },
          "hovermode": "closest",
          "mapbox": {
           "style": "light"
          },
          "paper_bgcolor": "white",
          "plot_bgcolor": "#E5ECF6",
          "polar": {
           "angularaxis": {
            "gridcolor": "white",
            "linecolor": "white",
            "ticks": ""
           },
           "bgcolor": "#E5ECF6",
           "radialaxis": {
            "gridcolor": "white",
            "linecolor": "white",
            "ticks": ""
           }
          },
          "scene": {
           "xaxis": {
            "backgroundcolor": "#E5ECF6",
            "gridcolor": "white",
            "gridwidth": 2,
            "linecolor": "white",
            "showbackground": true,
            "ticks": "",
            "zerolinecolor": "white"
           },
           "yaxis": {
            "backgroundcolor": "#E5ECF6",
            "gridcolor": "white",
            "gridwidth": 2,
            "linecolor": "white",
            "showbackground": true,
            "ticks": "",
            "zerolinecolor": "white"
           },
           "zaxis": {
            "backgroundcolor": "#E5ECF6",
            "gridcolor": "white",
            "gridwidth": 2,
            "linecolor": "white",
            "showbackground": true,
            "ticks": "",
            "zerolinecolor": "white"
           }
          },
          "shapedefaults": {
           "line": {
            "color": "#2a3f5f"
           }
          },
          "ternary": {
           "aaxis": {
            "gridcolor": "white",
            "linecolor": "white",
            "ticks": ""
           },
           "baxis": {
            "gridcolor": "white",
            "linecolor": "white",
            "ticks": ""
           },
           "bgcolor": "#E5ECF6",
           "caxis": {
            "gridcolor": "white",
            "linecolor": "white",
            "ticks": ""
           }
          },
          "title": {
           "x": 0.05
          },
          "xaxis": {
           "automargin": true,
           "gridcolor": "white",
           "linecolor": "white",
           "ticks": "",
           "title": {
            "standoff": 15
           },
           "zerolinecolor": "white",
           "zerolinewidth": 2
          },
          "yaxis": {
           "automargin": true,
           "gridcolor": "white",
           "linecolor": "white",
           "ticks": "",
           "title": {
            "standoff": 15
           },
           "zerolinecolor": "white",
           "zerolinewidth": 2
          }
         }
        },
        "title": {
         "text": "Размах средних значений длительности вызовов в месяц"
        },
        "width": 800,
        "xaxis": {
         "anchor": "y",
         "domain": [
          0,
          1
         ],
         "title": {
          "text": "Минут за месяц"
         }
        },
        "yaxis": {
         "anchor": "x",
         "domain": [
          0,
          1
         ],
         "title": {
          "text": "Тариф"
         }
        }
       }
      }
     },
     "metadata": {},
     "output_type": "display_data"
    }
   ],
   "source": [
    "# функция построения диаграммы размаха\n",
    "def box_plot_mean(df_smart, df_ultra, title, xaxis_title, yaxis_title):\n",
    "    fig = px.box({'smart': df_smart['mean'], 'ultra': df_ultra['mean']},\n",
    "            orientation='h',\n",
    "            points='all', \n",
    "            width=800,\n",
    "            height=300, \n",
    "            title=title)\n",
    "    fig.update_layout(xaxis_title=xaxis_title, yaxis_title=yaxis_title)\n",
    "    fig.show()\n",
    "\n",
    "# строим диаграмму размаха для средних значений вызовов\n",
    "box_plot_mean(calls_stat_smart,\n",
    "              calls_stat_ultra, \n",
    "              'Размах средних значений длительности вызовов в месяц',\n",
    "              'Минут за месяц',\n",
    "              'Тариф')\n"
   ]
  },
  {
   "cell_type": "code",
   "execution_count": 52,
   "metadata": {},
   "outputs": [
    {
     "data": {
      "application/vnd.plotly.v1+json": {
       "config": {
        "plotlyServerURL": "https://plot.ly"
       },
       "data": [
        {
         "alignmentgroup": "True",
         "boxpoints": "all",
         "hovertemplate": "value=%{x}<br>variable=%{y}<extra></extra>",
         "legendgroup": "",
         "marker": {
          "color": "#636efa"
         },
         "name": "",
         "notched": false,
         "offsetgroup": "",
         "orientation": "h",
         "showlegend": false,
         "type": "box",
         "x": [
          20,
          27.94,
          35.55072463768116,
          35.864583333333336,
          39.032786885245905,
          38.57746478873239,
          38.98850574712644,
          38.75,
          39.219730941704036,
          39.08267716535433,
          39.88148148148148,
          42.26480836236934,
          43.42857142857143,
          32.9375,
          47.8,
          44.51282051282051,
          48.76923076923077,
          52.3134328358209,
          62.136986301369866,
          58.89772727272727,
          63.294736842105266,
          69.77669902912622,
          66.15929203539822,
          72.00854700854701
         ],
         "x0": " ",
         "xaxis": "x",
         "y": [
          "smart",
          "smart",
          "smart",
          "smart",
          "smart",
          "smart",
          "smart",
          "smart",
          "smart",
          "smart",
          "smart",
          "smart",
          "ultra",
          "ultra",
          "ultra",
          "ultra",
          "ultra",
          "ultra",
          "ultra",
          "ultra",
          "ultra",
          "ultra",
          "ultra",
          "ultra"
         ],
         "y0": " ",
         "yaxis": "y"
        }
       ],
       "layout": {
        "boxmode": "group",
        "height": 300,
        "legend": {
         "tracegroupgap": 0
        },
        "template": {
         "data": {
          "bar": [
           {
            "error_x": {
             "color": "#2a3f5f"
            },
            "error_y": {
             "color": "#2a3f5f"
            },
            "marker": {
             "line": {
              "color": "#E5ECF6",
              "width": 0.5
             },
             "pattern": {
              "fillmode": "overlay",
              "size": 10,
              "solidity": 0.2
             }
            },
            "type": "bar"
           }
          ],
          "barpolar": [
           {
            "marker": {
             "line": {
              "color": "#E5ECF6",
              "width": 0.5
             },
             "pattern": {
              "fillmode": "overlay",
              "size": 10,
              "solidity": 0.2
             }
            },
            "type": "barpolar"
           }
          ],
          "carpet": [
           {
            "aaxis": {
             "endlinecolor": "#2a3f5f",
             "gridcolor": "white",
             "linecolor": "white",
             "minorgridcolor": "white",
             "startlinecolor": "#2a3f5f"
            },
            "baxis": {
             "endlinecolor": "#2a3f5f",
             "gridcolor": "white",
             "linecolor": "white",
             "minorgridcolor": "white",
             "startlinecolor": "#2a3f5f"
            },
            "type": "carpet"
           }
          ],
          "choropleth": [
           {
            "colorbar": {
             "outlinewidth": 0,
             "ticks": ""
            },
            "type": "choropleth"
           }
          ],
          "contour": [
           {
            "colorbar": {
             "outlinewidth": 0,
             "ticks": ""
            },
            "colorscale": [
             [
              0,
              "#0d0887"
             ],
             [
              0.1111111111111111,
              "#46039f"
             ],
             [
              0.2222222222222222,
              "#7201a8"
             ],
             [
              0.3333333333333333,
              "#9c179e"
             ],
             [
              0.4444444444444444,
              "#bd3786"
             ],
             [
              0.5555555555555556,
              "#d8576b"
             ],
             [
              0.6666666666666666,
              "#ed7953"
             ],
             [
              0.7777777777777778,
              "#fb9f3a"
             ],
             [
              0.8888888888888888,
              "#fdca26"
             ],
             [
              1,
              "#f0f921"
             ]
            ],
            "type": "contour"
           }
          ],
          "contourcarpet": [
           {
            "colorbar": {
             "outlinewidth": 0,
             "ticks": ""
            },
            "type": "contourcarpet"
           }
          ],
          "heatmap": [
           {
            "colorbar": {
             "outlinewidth": 0,
             "ticks": ""
            },
            "colorscale": [
             [
              0,
              "#0d0887"
             ],
             [
              0.1111111111111111,
              "#46039f"
             ],
             [
              0.2222222222222222,
              "#7201a8"
             ],
             [
              0.3333333333333333,
              "#9c179e"
             ],
             [
              0.4444444444444444,
              "#bd3786"
             ],
             [
              0.5555555555555556,
              "#d8576b"
             ],
             [
              0.6666666666666666,
              "#ed7953"
             ],
             [
              0.7777777777777778,
              "#fb9f3a"
             ],
             [
              0.8888888888888888,
              "#fdca26"
             ],
             [
              1,
              "#f0f921"
             ]
            ],
            "type": "heatmap"
           }
          ],
          "heatmapgl": [
           {
            "colorbar": {
             "outlinewidth": 0,
             "ticks": ""
            },
            "colorscale": [
             [
              0,
              "#0d0887"
             ],
             [
              0.1111111111111111,
              "#46039f"
             ],
             [
              0.2222222222222222,
              "#7201a8"
             ],
             [
              0.3333333333333333,
              "#9c179e"
             ],
             [
              0.4444444444444444,
              "#bd3786"
             ],
             [
              0.5555555555555556,
              "#d8576b"
             ],
             [
              0.6666666666666666,
              "#ed7953"
             ],
             [
              0.7777777777777778,
              "#fb9f3a"
             ],
             [
              0.8888888888888888,
              "#fdca26"
             ],
             [
              1,
              "#f0f921"
             ]
            ],
            "type": "heatmapgl"
           }
          ],
          "histogram": [
           {
            "marker": {
             "pattern": {
              "fillmode": "overlay",
              "size": 10,
              "solidity": 0.2
             }
            },
            "type": "histogram"
           }
          ],
          "histogram2d": [
           {
            "colorbar": {
             "outlinewidth": 0,
             "ticks": ""
            },
            "colorscale": [
             [
              0,
              "#0d0887"
             ],
             [
              0.1111111111111111,
              "#46039f"
             ],
             [
              0.2222222222222222,
              "#7201a8"
             ],
             [
              0.3333333333333333,
              "#9c179e"
             ],
             [
              0.4444444444444444,
              "#bd3786"
             ],
             [
              0.5555555555555556,
              "#d8576b"
             ],
             [
              0.6666666666666666,
              "#ed7953"
             ],
             [
              0.7777777777777778,
              "#fb9f3a"
             ],
             [
              0.8888888888888888,
              "#fdca26"
             ],
             [
              1,
              "#f0f921"
             ]
            ],
            "type": "histogram2d"
           }
          ],
          "histogram2dcontour": [
           {
            "colorbar": {
             "outlinewidth": 0,
             "ticks": ""
            },
            "colorscale": [
             [
              0,
              "#0d0887"
             ],
             [
              0.1111111111111111,
              "#46039f"
             ],
             [
              0.2222222222222222,
              "#7201a8"
             ],
             [
              0.3333333333333333,
              "#9c179e"
             ],
             [
              0.4444444444444444,
              "#bd3786"
             ],
             [
              0.5555555555555556,
              "#d8576b"
             ],
             [
              0.6666666666666666,
              "#ed7953"
             ],
             [
              0.7777777777777778,
              "#fb9f3a"
             ],
             [
              0.8888888888888888,
              "#fdca26"
             ],
             [
              1,
              "#f0f921"
             ]
            ],
            "type": "histogram2dcontour"
           }
          ],
          "mesh3d": [
           {
            "colorbar": {
             "outlinewidth": 0,
             "ticks": ""
            },
            "type": "mesh3d"
           }
          ],
          "parcoords": [
           {
            "line": {
             "colorbar": {
              "outlinewidth": 0,
              "ticks": ""
             }
            },
            "type": "parcoords"
           }
          ],
          "pie": [
           {
            "automargin": true,
            "type": "pie"
           }
          ],
          "scatter": [
           {
            "fillpattern": {
             "fillmode": "overlay",
             "size": 10,
             "solidity": 0.2
            },
            "type": "scatter"
           }
          ],
          "scatter3d": [
           {
            "line": {
             "colorbar": {
              "outlinewidth": 0,
              "ticks": ""
             }
            },
            "marker": {
             "colorbar": {
              "outlinewidth": 0,
              "ticks": ""
             }
            },
            "type": "scatter3d"
           }
          ],
          "scattercarpet": [
           {
            "marker": {
             "colorbar": {
              "outlinewidth": 0,
              "ticks": ""
             }
            },
            "type": "scattercarpet"
           }
          ],
          "scattergeo": [
           {
            "marker": {
             "colorbar": {
              "outlinewidth": 0,
              "ticks": ""
             }
            },
            "type": "scattergeo"
           }
          ],
          "scattergl": [
           {
            "marker": {
             "colorbar": {
              "outlinewidth": 0,
              "ticks": ""
             }
            },
            "type": "scattergl"
           }
          ],
          "scattermapbox": [
           {
            "marker": {
             "colorbar": {
              "outlinewidth": 0,
              "ticks": ""
             }
            },
            "type": "scattermapbox"
           }
          ],
          "scatterpolar": [
           {
            "marker": {
             "colorbar": {
              "outlinewidth": 0,
              "ticks": ""
             }
            },
            "type": "scatterpolar"
           }
          ],
          "scatterpolargl": [
           {
            "marker": {
             "colorbar": {
              "outlinewidth": 0,
              "ticks": ""
             }
            },
            "type": "scatterpolargl"
           }
          ],
          "scatterternary": [
           {
            "marker": {
             "colorbar": {
              "outlinewidth": 0,
              "ticks": ""
             }
            },
            "type": "scatterternary"
           }
          ],
          "surface": [
           {
            "colorbar": {
             "outlinewidth": 0,
             "ticks": ""
            },
            "colorscale": [
             [
              0,
              "#0d0887"
             ],
             [
              0.1111111111111111,
              "#46039f"
             ],
             [
              0.2222222222222222,
              "#7201a8"
             ],
             [
              0.3333333333333333,
              "#9c179e"
             ],
             [
              0.4444444444444444,
              "#bd3786"
             ],
             [
              0.5555555555555556,
              "#d8576b"
             ],
             [
              0.6666666666666666,
              "#ed7953"
             ],
             [
              0.7777777777777778,
              "#fb9f3a"
             ],
             [
              0.8888888888888888,
              "#fdca26"
             ],
             [
              1,
              "#f0f921"
             ]
            ],
            "type": "surface"
           }
          ],
          "table": [
           {
            "cells": {
             "fill": {
              "color": "#EBF0F8"
             },
             "line": {
              "color": "white"
             }
            },
            "header": {
             "fill": {
              "color": "#C8D4E3"
             },
             "line": {
              "color": "white"
             }
            },
            "type": "table"
           }
          ]
         },
         "layout": {
          "annotationdefaults": {
           "arrowcolor": "#2a3f5f",
           "arrowhead": 0,
           "arrowwidth": 1
          },
          "autotypenumbers": "strict",
          "coloraxis": {
           "colorbar": {
            "outlinewidth": 0,
            "ticks": ""
           }
          },
          "colorscale": {
           "diverging": [
            [
             0,
             "#8e0152"
            ],
            [
             0.1,
             "#c51b7d"
            ],
            [
             0.2,
             "#de77ae"
            ],
            [
             0.3,
             "#f1b6da"
            ],
            [
             0.4,
             "#fde0ef"
            ],
            [
             0.5,
             "#f7f7f7"
            ],
            [
             0.6,
             "#e6f5d0"
            ],
            [
             0.7,
             "#b8e186"
            ],
            [
             0.8,
             "#7fbc41"
            ],
            [
             0.9,
             "#4d9221"
            ],
            [
             1,
             "#276419"
            ]
           ],
           "sequential": [
            [
             0,
             "#0d0887"
            ],
            [
             0.1111111111111111,
             "#46039f"
            ],
            [
             0.2222222222222222,
             "#7201a8"
            ],
            [
             0.3333333333333333,
             "#9c179e"
            ],
            [
             0.4444444444444444,
             "#bd3786"
            ],
            [
             0.5555555555555556,
             "#d8576b"
            ],
            [
             0.6666666666666666,
             "#ed7953"
            ],
            [
             0.7777777777777778,
             "#fb9f3a"
            ],
            [
             0.8888888888888888,
             "#fdca26"
            ],
            [
             1,
             "#f0f921"
            ]
           ],
           "sequentialminus": [
            [
             0,
             "#0d0887"
            ],
            [
             0.1111111111111111,
             "#46039f"
            ],
            [
             0.2222222222222222,
             "#7201a8"
            ],
            [
             0.3333333333333333,
             "#9c179e"
            ],
            [
             0.4444444444444444,
             "#bd3786"
            ],
            [
             0.5555555555555556,
             "#d8576b"
            ],
            [
             0.6666666666666666,
             "#ed7953"
            ],
            [
             0.7777777777777778,
             "#fb9f3a"
            ],
            [
             0.8888888888888888,
             "#fdca26"
            ],
            [
             1,
             "#f0f921"
            ]
           ]
          },
          "colorway": [
           "#636efa",
           "#EF553B",
           "#00cc96",
           "#ab63fa",
           "#FFA15A",
           "#19d3f3",
           "#FF6692",
           "#B6E880",
           "#FF97FF",
           "#FECB52"
          ],
          "font": {
           "color": "#2a3f5f"
          },
          "geo": {
           "bgcolor": "white",
           "lakecolor": "white",
           "landcolor": "#E5ECF6",
           "showlakes": true,
           "showland": true,
           "subunitcolor": "white"
          },
          "hoverlabel": {
           "align": "left"
          },
          "hovermode": "closest",
          "mapbox": {
           "style": "light"
          },
          "paper_bgcolor": "white",
          "plot_bgcolor": "#E5ECF6",
          "polar": {
           "angularaxis": {
            "gridcolor": "white",
            "linecolor": "white",
            "ticks": ""
           },
           "bgcolor": "#E5ECF6",
           "radialaxis": {
            "gridcolor": "white",
            "linecolor": "white",
            "ticks": ""
           }
          },
          "scene": {
           "xaxis": {
            "backgroundcolor": "#E5ECF6",
            "gridcolor": "white",
            "gridwidth": 2,
            "linecolor": "white",
            "showbackground": true,
            "ticks": "",
            "zerolinecolor": "white"
           },
           "yaxis": {
            "backgroundcolor": "#E5ECF6",
            "gridcolor": "white",
            "gridwidth": 2,
            "linecolor": "white",
            "showbackground": true,
            "ticks": "",
            "zerolinecolor": "white"
           },
           "zaxis": {
            "backgroundcolor": "#E5ECF6",
            "gridcolor": "white",
            "gridwidth": 2,
            "linecolor": "white",
            "showbackground": true,
            "ticks": "",
            "zerolinecolor": "white"
           }
          },
          "shapedefaults": {
           "line": {
            "color": "#2a3f5f"
           }
          },
          "ternary": {
           "aaxis": {
            "gridcolor": "white",
            "linecolor": "white",
            "ticks": ""
           },
           "baxis": {
            "gridcolor": "white",
            "linecolor": "white",
            "ticks": ""
           },
           "bgcolor": "#E5ECF6",
           "caxis": {
            "gridcolor": "white",
            "linecolor": "white",
            "ticks": ""
           }
          },
          "title": {
           "x": 0.05
          },
          "xaxis": {
           "automargin": true,
           "gridcolor": "white",
           "linecolor": "white",
           "ticks": "",
           "title": {
            "standoff": 15
           },
           "zerolinecolor": "white",
           "zerolinewidth": 2
          },
          "yaxis": {
           "automargin": true,
           "gridcolor": "white",
           "linecolor": "white",
           "ticks": "",
           "title": {
            "standoff": 15
           },
           "zerolinecolor": "white",
           "zerolinewidth": 2
          }
         }
        },
        "title": {
         "text": "Размах средних значений количества сообщений в месяц"
        },
        "width": 800,
        "xaxis": {
         "anchor": "y",
         "domain": [
          0,
          1
         ],
         "title": {
          "text": "Сообщений за месяц"
         }
        },
        "yaxis": {
         "anchor": "x",
         "domain": [
          0,
          1
         ],
         "title": {
          "text": "Тариф"
         }
        }
       }
      }
     },
     "metadata": {},
     "output_type": "display_data"
    }
   ],
   "source": [
    "# строим диаграмму размаха для средний значений сообщений\n",
    "box_plot_mean(messages_stat_smart,\n",
    "              messages_stat_ultra, \n",
    "              'Размах средних значений количества сообщений в месяц',\n",
    "              'Сообщений за месяц',\n",
    "              'Тариф')"
   ]
  },
  {
   "cell_type": "code",
   "execution_count": 53,
   "metadata": {},
   "outputs": [
    {
     "data": {
      "application/vnd.plotly.v1+json": {
       "config": {
        "plotlyServerURL": "https://plot.ly"
       },
       "data": [
        {
         "alignmentgroup": "True",
         "boxpoints": "all",
         "hovertemplate": "value=%{x}<br>variable=%{y}<extra></extra>",
         "legendgroup": "",
         "marker": {
          "color": "#636efa"
         },
         "name": "",
         "notched": false,
         "offsetgroup": "",
         "orientation": "h",
         "showlegend": false,
         "type": "box",
         "x": [
          8944.941176470587,
          12129.103448275862,
          15599.376623376624,
          13952,
          16289.588652482269,
          16334.048780487805,
          16256.636815920398,
          17211.076923076922,
          16785.723076923077,
          17286.095238095237,
          17408,
          18638.623145400594,
          13539.555555555555,
          13405.09090909091,
          18072.216216216217,
          17370.763636363637,
          20138.666666666668,
          19628.722891566264,
          21230.933333333334,
          20257.811320754718,
          19878.175438596492,
          20715.016393442624,
          20433.804511278195,
          22424.115942028984
         ],
         "x0": " ",
         "xaxis": "x",
         "y": [
          "smart",
          "smart",
          "smart",
          "smart",
          "smart",
          "smart",
          "smart",
          "smart",
          "smart",
          "smart",
          "smart",
          "smart",
          "ultra",
          "ultra",
          "ultra",
          "ultra",
          "ultra",
          "ultra",
          "ultra",
          "ultra",
          "ultra",
          "ultra",
          "ultra",
          "ultra"
         ],
         "y0": " ",
         "yaxis": "y"
        }
       ],
       "layout": {
        "boxmode": "group",
        "height": 300,
        "legend": {
         "tracegroupgap": 0
        },
        "template": {
         "data": {
          "bar": [
           {
            "error_x": {
             "color": "#2a3f5f"
            },
            "error_y": {
             "color": "#2a3f5f"
            },
            "marker": {
             "line": {
              "color": "#E5ECF6",
              "width": 0.5
             },
             "pattern": {
              "fillmode": "overlay",
              "size": 10,
              "solidity": 0.2
             }
            },
            "type": "bar"
           }
          ],
          "barpolar": [
           {
            "marker": {
             "line": {
              "color": "#E5ECF6",
              "width": 0.5
             },
             "pattern": {
              "fillmode": "overlay",
              "size": 10,
              "solidity": 0.2
             }
            },
            "type": "barpolar"
           }
          ],
          "carpet": [
           {
            "aaxis": {
             "endlinecolor": "#2a3f5f",
             "gridcolor": "white",
             "linecolor": "white",
             "minorgridcolor": "white",
             "startlinecolor": "#2a3f5f"
            },
            "baxis": {
             "endlinecolor": "#2a3f5f",
             "gridcolor": "white",
             "linecolor": "white",
             "minorgridcolor": "white",
             "startlinecolor": "#2a3f5f"
            },
            "type": "carpet"
           }
          ],
          "choropleth": [
           {
            "colorbar": {
             "outlinewidth": 0,
             "ticks": ""
            },
            "type": "choropleth"
           }
          ],
          "contour": [
           {
            "colorbar": {
             "outlinewidth": 0,
             "ticks": ""
            },
            "colorscale": [
             [
              0,
              "#0d0887"
             ],
             [
              0.1111111111111111,
              "#46039f"
             ],
             [
              0.2222222222222222,
              "#7201a8"
             ],
             [
              0.3333333333333333,
              "#9c179e"
             ],
             [
              0.4444444444444444,
              "#bd3786"
             ],
             [
              0.5555555555555556,
              "#d8576b"
             ],
             [
              0.6666666666666666,
              "#ed7953"
             ],
             [
              0.7777777777777778,
              "#fb9f3a"
             ],
             [
              0.8888888888888888,
              "#fdca26"
             ],
             [
              1,
              "#f0f921"
             ]
            ],
            "type": "contour"
           }
          ],
          "contourcarpet": [
           {
            "colorbar": {
             "outlinewidth": 0,
             "ticks": ""
            },
            "type": "contourcarpet"
           }
          ],
          "heatmap": [
           {
            "colorbar": {
             "outlinewidth": 0,
             "ticks": ""
            },
            "colorscale": [
             [
              0,
              "#0d0887"
             ],
             [
              0.1111111111111111,
              "#46039f"
             ],
             [
              0.2222222222222222,
              "#7201a8"
             ],
             [
              0.3333333333333333,
              "#9c179e"
             ],
             [
              0.4444444444444444,
              "#bd3786"
             ],
             [
              0.5555555555555556,
              "#d8576b"
             ],
             [
              0.6666666666666666,
              "#ed7953"
             ],
             [
              0.7777777777777778,
              "#fb9f3a"
             ],
             [
              0.8888888888888888,
              "#fdca26"
             ],
             [
              1,
              "#f0f921"
             ]
            ],
            "type": "heatmap"
           }
          ],
          "heatmapgl": [
           {
            "colorbar": {
             "outlinewidth": 0,
             "ticks": ""
            },
            "colorscale": [
             [
              0,
              "#0d0887"
             ],
             [
              0.1111111111111111,
              "#46039f"
             ],
             [
              0.2222222222222222,
              "#7201a8"
             ],
             [
              0.3333333333333333,
              "#9c179e"
             ],
             [
              0.4444444444444444,
              "#bd3786"
             ],
             [
              0.5555555555555556,
              "#d8576b"
             ],
             [
              0.6666666666666666,
              "#ed7953"
             ],
             [
              0.7777777777777778,
              "#fb9f3a"
             ],
             [
              0.8888888888888888,
              "#fdca26"
             ],
             [
              1,
              "#f0f921"
             ]
            ],
            "type": "heatmapgl"
           }
          ],
          "histogram": [
           {
            "marker": {
             "pattern": {
              "fillmode": "overlay",
              "size": 10,
              "solidity": 0.2
             }
            },
            "type": "histogram"
           }
          ],
          "histogram2d": [
           {
            "colorbar": {
             "outlinewidth": 0,
             "ticks": ""
            },
            "colorscale": [
             [
              0,
              "#0d0887"
             ],
             [
              0.1111111111111111,
              "#46039f"
             ],
             [
              0.2222222222222222,
              "#7201a8"
             ],
             [
              0.3333333333333333,
              "#9c179e"
             ],
             [
              0.4444444444444444,
              "#bd3786"
             ],
             [
              0.5555555555555556,
              "#d8576b"
             ],
             [
              0.6666666666666666,
              "#ed7953"
             ],
             [
              0.7777777777777778,
              "#fb9f3a"
             ],
             [
              0.8888888888888888,
              "#fdca26"
             ],
             [
              1,
              "#f0f921"
             ]
            ],
            "type": "histogram2d"
           }
          ],
          "histogram2dcontour": [
           {
            "colorbar": {
             "outlinewidth": 0,
             "ticks": ""
            },
            "colorscale": [
             [
              0,
              "#0d0887"
             ],
             [
              0.1111111111111111,
              "#46039f"
             ],
             [
              0.2222222222222222,
              "#7201a8"
             ],
             [
              0.3333333333333333,
              "#9c179e"
             ],
             [
              0.4444444444444444,
              "#bd3786"
             ],
             [
              0.5555555555555556,
              "#d8576b"
             ],
             [
              0.6666666666666666,
              "#ed7953"
             ],
             [
              0.7777777777777778,
              "#fb9f3a"
             ],
             [
              0.8888888888888888,
              "#fdca26"
             ],
             [
              1,
              "#f0f921"
             ]
            ],
            "type": "histogram2dcontour"
           }
          ],
          "mesh3d": [
           {
            "colorbar": {
             "outlinewidth": 0,
             "ticks": ""
            },
            "type": "mesh3d"
           }
          ],
          "parcoords": [
           {
            "line": {
             "colorbar": {
              "outlinewidth": 0,
              "ticks": ""
             }
            },
            "type": "parcoords"
           }
          ],
          "pie": [
           {
            "automargin": true,
            "type": "pie"
           }
          ],
          "scatter": [
           {
            "fillpattern": {
             "fillmode": "overlay",
             "size": 10,
             "solidity": 0.2
            },
            "type": "scatter"
           }
          ],
          "scatter3d": [
           {
            "line": {
             "colorbar": {
              "outlinewidth": 0,
              "ticks": ""
             }
            },
            "marker": {
             "colorbar": {
              "outlinewidth": 0,
              "ticks": ""
             }
            },
            "type": "scatter3d"
           }
          ],
          "scattercarpet": [
           {
            "marker": {
             "colorbar": {
              "outlinewidth": 0,
              "ticks": ""
             }
            },
            "type": "scattercarpet"
           }
          ],
          "scattergeo": [
           {
            "marker": {
             "colorbar": {
              "outlinewidth": 0,
              "ticks": ""
             }
            },
            "type": "scattergeo"
           }
          ],
          "scattergl": [
           {
            "marker": {
             "colorbar": {
              "outlinewidth": 0,
              "ticks": ""
             }
            },
            "type": "scattergl"
           }
          ],
          "scattermapbox": [
           {
            "marker": {
             "colorbar": {
              "outlinewidth": 0,
              "ticks": ""
             }
            },
            "type": "scattermapbox"
           }
          ],
          "scatterpolar": [
           {
            "marker": {
             "colorbar": {
              "outlinewidth": 0,
              "ticks": ""
             }
            },
            "type": "scatterpolar"
           }
          ],
          "scatterpolargl": [
           {
            "marker": {
             "colorbar": {
              "outlinewidth": 0,
              "ticks": ""
             }
            },
            "type": "scatterpolargl"
           }
          ],
          "scatterternary": [
           {
            "marker": {
             "colorbar": {
              "outlinewidth": 0,
              "ticks": ""
             }
            },
            "type": "scatterternary"
           }
          ],
          "surface": [
           {
            "colorbar": {
             "outlinewidth": 0,
             "ticks": ""
            },
            "colorscale": [
             [
              0,
              "#0d0887"
             ],
             [
              0.1111111111111111,
              "#46039f"
             ],
             [
              0.2222222222222222,
              "#7201a8"
             ],
             [
              0.3333333333333333,
              "#9c179e"
             ],
             [
              0.4444444444444444,
              "#bd3786"
             ],
             [
              0.5555555555555556,
              "#d8576b"
             ],
             [
              0.6666666666666666,
              "#ed7953"
             ],
             [
              0.7777777777777778,
              "#fb9f3a"
             ],
             [
              0.8888888888888888,
              "#fdca26"
             ],
             [
              1,
              "#f0f921"
             ]
            ],
            "type": "surface"
           }
          ],
          "table": [
           {
            "cells": {
             "fill": {
              "color": "#EBF0F8"
             },
             "line": {
              "color": "white"
             }
            },
            "header": {
             "fill": {
              "color": "#C8D4E3"
             },
             "line": {
              "color": "white"
             }
            },
            "type": "table"
           }
          ]
         },
         "layout": {
          "annotationdefaults": {
           "arrowcolor": "#2a3f5f",
           "arrowhead": 0,
           "arrowwidth": 1
          },
          "autotypenumbers": "strict",
          "coloraxis": {
           "colorbar": {
            "outlinewidth": 0,
            "ticks": ""
           }
          },
          "colorscale": {
           "diverging": [
            [
             0,
             "#8e0152"
            ],
            [
             0.1,
             "#c51b7d"
            ],
            [
             0.2,
             "#de77ae"
            ],
            [
             0.3,
             "#f1b6da"
            ],
            [
             0.4,
             "#fde0ef"
            ],
            [
             0.5,
             "#f7f7f7"
            ],
            [
             0.6,
             "#e6f5d0"
            ],
            [
             0.7,
             "#b8e186"
            ],
            [
             0.8,
             "#7fbc41"
            ],
            [
             0.9,
             "#4d9221"
            ],
            [
             1,
             "#276419"
            ]
           ],
           "sequential": [
            [
             0,
             "#0d0887"
            ],
            [
             0.1111111111111111,
             "#46039f"
            ],
            [
             0.2222222222222222,
             "#7201a8"
            ],
            [
             0.3333333333333333,
             "#9c179e"
            ],
            [
             0.4444444444444444,
             "#bd3786"
            ],
            [
             0.5555555555555556,
             "#d8576b"
            ],
            [
             0.6666666666666666,
             "#ed7953"
            ],
            [
             0.7777777777777778,
             "#fb9f3a"
            ],
            [
             0.8888888888888888,
             "#fdca26"
            ],
            [
             1,
             "#f0f921"
            ]
           ],
           "sequentialminus": [
            [
             0,
             "#0d0887"
            ],
            [
             0.1111111111111111,
             "#46039f"
            ],
            [
             0.2222222222222222,
             "#7201a8"
            ],
            [
             0.3333333333333333,
             "#9c179e"
            ],
            [
             0.4444444444444444,
             "#bd3786"
            ],
            [
             0.5555555555555556,
             "#d8576b"
            ],
            [
             0.6666666666666666,
             "#ed7953"
            ],
            [
             0.7777777777777778,
             "#fb9f3a"
            ],
            [
             0.8888888888888888,
             "#fdca26"
            ],
            [
             1,
             "#f0f921"
            ]
           ]
          },
          "colorway": [
           "#636efa",
           "#EF553B",
           "#00cc96",
           "#ab63fa",
           "#FFA15A",
           "#19d3f3",
           "#FF6692",
           "#B6E880",
           "#FF97FF",
           "#FECB52"
          ],
          "font": {
           "color": "#2a3f5f"
          },
          "geo": {
           "bgcolor": "white",
           "lakecolor": "white",
           "landcolor": "#E5ECF6",
           "showlakes": true,
           "showland": true,
           "subunitcolor": "white"
          },
          "hoverlabel": {
           "align": "left"
          },
          "hovermode": "closest",
          "mapbox": {
           "style": "light"
          },
          "paper_bgcolor": "white",
          "plot_bgcolor": "#E5ECF6",
          "polar": {
           "angularaxis": {
            "gridcolor": "white",
            "linecolor": "white",
            "ticks": ""
           },
           "bgcolor": "#E5ECF6",
           "radialaxis": {
            "gridcolor": "white",
            "linecolor": "white",
            "ticks": ""
           }
          },
          "scene": {
           "xaxis": {
            "backgroundcolor": "#E5ECF6",
            "gridcolor": "white",
            "gridwidth": 2,
            "linecolor": "white",
            "showbackground": true,
            "ticks": "",
            "zerolinecolor": "white"
           },
           "yaxis": {
            "backgroundcolor": "#E5ECF6",
            "gridcolor": "white",
            "gridwidth": 2,
            "linecolor": "white",
            "showbackground": true,
            "ticks": "",
            "zerolinecolor": "white"
           },
           "zaxis": {
            "backgroundcolor": "#E5ECF6",
            "gridcolor": "white",
            "gridwidth": 2,
            "linecolor": "white",
            "showbackground": true,
            "ticks": "",
            "zerolinecolor": "white"
           }
          },
          "shapedefaults": {
           "line": {
            "color": "#2a3f5f"
           }
          },
          "ternary": {
           "aaxis": {
            "gridcolor": "white",
            "linecolor": "white",
            "ticks": ""
           },
           "baxis": {
            "gridcolor": "white",
            "linecolor": "white",
            "ticks": ""
           },
           "bgcolor": "#E5ECF6",
           "caxis": {
            "gridcolor": "white",
            "linecolor": "white",
            "ticks": ""
           }
          },
          "title": {
           "x": 0.05
          },
          "xaxis": {
           "automargin": true,
           "gridcolor": "white",
           "linecolor": "white",
           "ticks": "",
           "title": {
            "standoff": 15
           },
           "zerolinecolor": "white",
           "zerolinewidth": 2
          },
          "yaxis": {
           "automargin": true,
           "gridcolor": "white",
           "linecolor": "white",
           "ticks": "",
           "title": {
            "standoff": 15
           },
           "zerolinecolor": "white",
           "zerolinewidth": 2
          }
         }
        },
        "title": {
         "text": "Размах средних значений использованного интернет-трафика в месяц"
        },
        "width": 800,
        "xaxis": {
         "anchor": "y",
         "domain": [
          0,
          1
         ],
         "title": {
          "text": "МБ использовано"
         }
        },
        "yaxis": {
         "anchor": "x",
         "domain": [
          0,
          1
         ],
         "title": {
          "text": "Тариф"
         }
        }
       }
      }
     },
     "metadata": {},
     "output_type": "display_data"
    }
   ],
   "source": [
    "# строим диаграмму размаха для средний значений сообщений\n",
    "box_plot_mean(internet_stat_smart,\n",
    "              internet_stat_ultra, \n",
    "              'Размах средних значений использованного интернет-трафика в месяц',\n",
    "              'МБ использовано',\n",
    "              'Тариф')"
   ]
  },
  {
   "cell_type": "markdown",
   "metadata": {},
   "source": [
    "Построим гистограмму распределения средней длительности звонков в месяц по тарифам:"
   ]
  },
  {
   "cell_type": "code",
   "execution_count": 54,
   "metadata": {},
   "outputs": [
    {
     "data": {
      "image/png": "[encoded data removed]",
      "text/plain": [
       "<Figure size 864x288 with 1 Axes>"
      ]
     },
     "metadata": {
      "needs_background": "light"
     },
     "output_type": "display_data"
    }
   ],
   "source": [
    "# создадим функцию отрисовки распределений по 2 разным таблицам и параметрам:\n",
    "\n",
    "def distrib_by_tariffs(stat_smart, stat_ultra, column, xlabel, nbins, title):\n",
    "    ax = stat_smart[column].plot(kind='hist', alpha=0.7, bins=nbins, label='smart', legend=True)\n",
    "\n",
    "    stat_ultra[column].plot(kind='hist', alpha=0.7, bins=nbins, label='ultra', ax=ax, figsize=(12,4), legend=True)\n",
    "\n",
    "    plt.title(title)\n",
    "    plt.xlabel(xlabel)\n",
    "    plt.show()\n",
    "\n",
    "distrib_by_tariffs(calls_stat_smart, \n",
    "                   calls_stat_ultra, \n",
    "                   'mean',\n",
    "                   'минуты',\n",
    "                   nbins=10,\n",
    "                   title='Распределение средней длительности звонков в месяц по тарифам'\n",
    ")\n"
   ]
  },
  {
   "cell_type": "markdown",
   "metadata": {},
   "source": [
    "Сделаем то же для сообщений и интернет-трафика:"
   ]
  },
  {
   "cell_type": "code",
   "execution_count": 55,
   "metadata": {},
   "outputs": [
    {
     "data": {
      "image/png": "[encoded data removed]",
      "text/plain": [
       "<Figure size 864x288 with 1 Axes>"
      ]
     },
     "metadata": {
      "needs_background": "light"
     },
     "output_type": "display_data"
    }
   ],
   "source": [
    "distrib_by_tariffs(messages_stat_smart, \n",
    "                   messages_stat_ultra, \n",
    "                   'mean',\n",
    "                   'количество сообщений',\n",
    "                   nbins=15,\n",
    "                   title='Распределение среднего количества сообщений в месяц по тарифам'\n",
    ")"
   ]
  },
  {
   "cell_type": "code",
   "execution_count": 56,
   "metadata": {},
   "outputs": [
    {
     "data": {
      "image/png": "[encoded data removed]",
      "text/plain": [
       "<Figure size 864x288 with 1 Axes>"
      ]
     },
     "metadata": {
      "needs_background": "light"
     },
     "output_type": "display_data"
    }
   ],
   "source": [
    "distrib_by_tariffs(internet_stat_smart, \n",
    "                   internet_stat_ultra, \n",
    "                   'mean',\n",
    "                   'трафик, МБ',\n",
    "                   nbins=10,\n",
    "                   title='Распределение среднего количества МБ трафика в месяц по тарифам'\n",
    ")"
   ]
  },
  {
   "cell_type": "markdown",
   "metadata": {},
   "source": [
    "Посмотрим на стандартные отклонения средних этих же таблиц:"
   ]
  },
  {
   "cell_type": "code",
   "execution_count": 57,
   "metadata": {},
   "outputs": [
    {
     "data": {
      "image/png": "[encoded data removed]",
      "text/plain": [
       "<Figure size 864x288 with 1 Axes>"
      ]
     },
     "metadata": {
      "needs_background": "light"
     },
     "output_type": "display_data"
    }
   ],
   "source": [
    "distrib_by_tariffs(calls_stat_smart, \n",
    "                   calls_stat_ultra, \n",
    "                   'std',\n",
    "                   'минуты',\n",
    "                   nbins=10,\n",
    "                   title='Распределение стандартного отклонения длительности звонков в месяц по тарифам'\n",
    ")"
   ]
  },
  {
   "cell_type": "code",
   "execution_count": 58,
   "metadata": {},
   "outputs": [
    {
     "data": {
      "image/png": "[encoded data removed]",
      "text/plain": [
       "<Figure size 864x288 with 1 Axes>"
      ]
     },
     "metadata": {
      "needs_background": "light"
     },
     "output_type": "display_data"
    }
   ],
   "source": [
    "distrib_by_tariffs(messages_stat_smart, \n",
    "                   messages_stat_ultra, \n",
    "                   'std',\n",
    "                   'сообщения',\n",
    "                   nbins=10,\n",
    "                   title='Распределение стандартного отклонения количества сообщений в месяц по тарифам'\n",
    ")"
   ]
  },
  {
   "cell_type": "code",
   "execution_count": 59,
   "metadata": {},
   "outputs": [
    {
     "data": {
      "image/png": "[encoded data removed]",
      "text/plain": [
       "<Figure size 864x288 with 1 Axes>"
      ]
     },
     "metadata": {
      "needs_background": "light"
     },
     "output_type": "display_data"
    }
   ],
   "source": [
    "distrib_by_tariffs(internet_stat_smart, \n",
    "                   internet_stat_ultra, \n",
    "                   'std',\n",
    "                   'трафик, МБ',\n",
    "                   nbins=10,\n",
    "                   title='Распределение стандартного отклонения количества МБ трафика в месяц по тарифам'\n",
    ")"
   ]
  },
  {
   "cell_type": "markdown",
   "metadata": {},
   "source": [
    "**Выводы:**\n",
    "\n",
    "* вызовы\n",
    "    * средняя длительность разговорв в месяц у пользователей тарифа `smart` около 390 минут, среднее стандартное отклонение 180 минут, больше 480 минут в среднем в месяц никто не разговаривает;\n",
    "    * средняя длительность разговорв в месяц у пользователей тарифа `ultra` около 510 минут, среднее стандартное \n",
    "    отклонение 290 минут, больше 615 минут в среднем в месяц никто не разговаривает.\n",
    "\n",
    "* сообщения\n",
    "    * среднее количество сообщений у пользователей тарифа `smart` около 20 в месяц, среднее стандартное отклонение - 23 сообщения, больше 40 сообщений в среднем в месяц никто не отправляет;\n",
    "    * среднее количество сообщений у пользователей тарифа `ultra` около 32 в месяц, среднее стандартное отклонение - 37 сообщения, больше 67 сообщений в среднем в месяц никто не отправляет.\n",
    "    \n",
    "* интернет-трафик\n",
    "    * средний объем интернет-трафика у пользователей тарифа `smart` около 8 ГБ в месяц, среднее стандартное отклонение - 7 ГБ, больше 18 ГБ в среднем в месяц никто трафика потребляет (а больше 13 ГБ - в среднем менее 25%);\n",
    "    * средний объем интернет-трафика у пользователей тарифа `ultra` около 11 ГБ в месяц, среднее стандартное отклонение - 10 ГБ, больше 21 ГБ в среднем в месяц никто трафика потребляет (а больше 17 ГБ - в среднем меньее 25%)."
   ]
  },
  {
   "cell_type": "markdown",
   "metadata": {},
   "source": [
    "## Проверка гипотез<a name=\"hipotes\"></a>"
   ]
  },
  {
   "cell_type": "markdown",
   "metadata": {},
   "source": [
    "Проверим две гипотезы:\n",
    "\n",
    "* средняя выручка пользователей тарифов \"Ультра\" и \"Смарт\" различаются;\n",
    "* средняя выручка пользователей из Москвы отличается от выручки пользователей из других регионов."
   ]
  },
  {
   "cell_type": "markdown",
   "metadata": {},
   "source": [
    "Дадим описание первой гипотезы как обратное утверждение: определим гипотезу H₀ как среднее генеральной совокупности выручки по тарифу \"Смарт\" равно среднему генеральной совокупности выручки по тарифу \"Ультра\", тогда альтернативная гипотеза H₁ звучит как \"среднее генеральной совокупности выручки по тарифу \"Смарт\" **не** равно среднему генеральной совокупности выручки по тарифу \"Ультра\"."
   ]
  },
  {
   "cell_type": "code",
   "execution_count": 60,
   "metadata": {},
   "outputs": [],
   "source": [
    "# найдем среднюю месячную выручку по каждому тарифу\n",
    "smart_income = total_income.query('tariff == \"smart\"')[[1,2,3,4,5,6,7,8,9,10,11,12]].mean()\n",
    "ultra_income  = total_income.query('tariff == \"ultra\"')[[1,2,3,4,5,6,7,8,9,10,11,12]].mean()"
   ]
  },
  {
   "cell_type": "markdown",
   "metadata": {},
   "source": [
    "Выберем метод `ttest_ind()`, поскольку нам нужно сравнить между собой две генеральные совокупности по независимым выборкам: выборка ежемесячной выручки по тарифу \"Смарт\" и выборка ежемесячной выручки по тарифу \"Ультра\".\n",
    "\n",
    "Уровень значимости `alpha` возьмем в 1%, поскольку выборка из 12 месяцев является небольшой, поэтому нам необходимо быть более уверенными в том, что наблюдаемое на выборке значение попадает зону (0%, 1%), вероятность такого события при верной нулевой гипотезе будет слишком малой, значит, у нас есть основание отвергнуть нулевую гипотезу."
   ]
  },
  {
   "cell_type": "code",
   "execution_count": 61,
   "metadata": {},
   "outputs": [
    {
     "name": "stdout",
     "output_type": "stream",
     "text": [
      "Отвергаем нулевую гипотезу\n"
     ]
    }
   ],
   "source": [
    "# проверим гипотезы о равенстве среднего двух генеральных совокупностей по взятым из них выборкам\n",
    "# дисперсия выборок не равна между собой, потому что события являются независимыми\n",
    "alpha = 0.01\n",
    "results = st.ttest_ind(smart_income, ultra_income, equal_var = False)\n",
    "\n",
    "if results.pvalue < alpha:\n",
    "    print('Отвергаем нулевую гипотезу')\n",
    "else:\n",
    "    print('Не получилось отвергнуть нулевую гипотезу')"
   ]
  },
  {
   "cell_type": "markdown",
   "metadata": {},
   "source": [
    "Отвергаем гипотезу H₀ - среднее генеральной совокупности выручки по тарифу \"Смарт\" **не** равно среднему генеральной совокупности выручки по тарифу \"Ультра\".\n",
    "\n",
    "Поскольку обратное основной гипотезе утверждение оказалось неверным, значит, основную гипотезу мы не можем опровергнуть:\n",
    "\n",
    " **средняя выручка пользователей тарифов \"Ультра\" и \"Смарт\" различаются,** поскольку обратное противоречит полученным данным."
   ]
  },
  {
   "cell_type": "markdown",
   "metadata": {},
   "source": [
    "Дадим описание второй гипотезы как обратное утверждение: определим гипотезу H₀ как среднее генеральной совокупности выручки пользователей из Москвы равно среднему генеральной совокупности выручки пользователей из других городов, тогда альтернативная гипотеза H₁ звучит как \"среднее генеральной совокупности выручки пользователей из Москвы **не** равно среднему генеральной совокупности выручки пользователей из других городов\"."
   ]
  },
  {
   "cell_type": "markdown",
   "metadata": {},
   "source": [
    "Присоединим к таблице с выручкой `total_income` город каждого пользователя? затем создадим два массива со средней месячной выручкой по Москве - `moscow_income`, и остальными городами - `russia_income`:"
   ]
  },
  {
   "cell_type": "code",
   "execution_count": 62,
   "metadata": {},
   "outputs": [
    {
     "data": {
      "text/plain": [
       "1    1020.707071\n",
       "2    1020.222222\n",
       "dtype: float64"
      ]
     },
     "execution_count": 62,
     "metadata": {},
     "output_type": "execute_result"
    }
   ],
   "source": [
    "# присоединяем к total_income города пользователей по user_id, \n",
    "# затем считаем среднемесячную выручку по Москве и другим городам\n",
    "moscow_income = total_income.merge(users[['user_id', 'city']], on='user_id', how='left') \\\n",
    "                            .query('city == \"Москва\"')[[1,2,3,4,5,6,7,8,9,10,11,12]].mean()\n",
    "                            \n",
    "russia_income  = total_income.merge(users[['user_id', 'city']], on='user_id', how='left') \\\n",
    "                             .query('city != \"Москва\"')[[1,2,3,4,5,6,7,8,9,10,11,12]].mean()\n",
    "# проверяем\n",
    "moscow_income.head(2)"
   ]
  },
  {
   "cell_type": "markdown",
   "metadata": {},
   "source": [
    "Выберем метод `ttest_ind()`, поскольку нам нужно сравнить между собой две генеральные совокупности по независимым выборкам: выборка ежемесячной выручки пользователей из Москвы и выборка ежемесячной выручки пользователей из других городов. События независимы, поскольку платежи людей за связь в Москве не зависят от платежей людей за связь в других регионах.\n",
    "\n",
    "Уровень значимости `alpha` возьмем в 1%, поскольку выборка из 12 месяцев является небольшой, поэтому нам необходимо быть более уверенными в том, что наблюдаемое на выборке значение попадает зону (0%, 1%), вероятность такого события при верной нулевой гипотезе будет слишком малой, значит, у нас есть основание отвергнуть нулевую гипотезу."
   ]
  },
  {
   "cell_type": "code",
   "execution_count": 63,
   "metadata": {},
   "outputs": [
    {
     "name": "stdout",
     "output_type": "stream",
     "text": [
      "Не получилось отвергнуть нулевую гипотезу\n"
     ]
    }
   ],
   "source": [
    "# проверим гипотезы о равенстве среднего двух генеральных совокупностей по взятым из них выборкам\n",
    "# дисперсия выборок не равна между собой, потому что события являются независимыми\n",
    "alpha = 0.01\n",
    "results = st.ttest_ind(moscow_income, russia_income, equal_var = False)\n",
    "\n",
    "if results.pvalue < alpha:\n",
    "    print('Отвергаем нулевую гипотезу')\n",
    "else:\n",
    "    print('Не получилось отвергнуть нулевую гипотезу')"
   ]
  },
  {
   "cell_type": "markdown",
   "metadata": {},
   "source": [
    "Отвергнуть гипотезу H₀ на основании данных той выборки, что у нас есть, не удалось. Отбросить её мы не можем. Но у нас нет оснований утверждать, что гипотеза доказана:\n",
    "\n",
    "возожно, средняя выручка пользователей из Москвы **не** отличается от выручки пользователей из других регионов."
   ]
  },
  {
   "cell_type": "markdown",
   "metadata": {},
   "source": [
    "Посмотрим, сколько пользователей в нашей выборки из Москвы:"
   ]
  },
  {
   "cell_type": "code",
   "execution_count": 64,
   "metadata": {},
   "outputs": [
    {
     "data": {
      "text/plain": [
       "99"
      ]
     },
     "execution_count": 64,
     "metadata": {},
     "output_type": "execute_result"
    }
   ],
   "source": [
    "users.query('city == \"Москва\"')['city'].count()"
   ]
  },
  {
   "cell_type": "markdown",
   "metadata": {},
   "source": [
    "Поскольку всего 20% нашей выборки - это пользователи из Москвы, утверждать, что среднемесячная выручка по Москве не отличается от пользователей других регионов вместе взятых, нельзя - эту гипотезу всего лишь нельзя исключать, но это не значит, что она верна.\n",
    "\n",
    "Посмотрим на распределение платежей по всем регионам, построив тепловую карту:"
   ]
  },
  {
   "cell_type": "code",
   "execution_count": 65,
   "metadata": {},
   "outputs": [
    {
     "data": {
      "image/png": "[encoded data removed]",
      "text/plain": [
       "<Figure size 720x1080 with 2 Axes>"
      ]
     },
     "metadata": {},
     "output_type": "display_data"
    }
   ],
   "source": [
    "cities_income = total_income.merge(users[['user_id', 'city']], on='user_id', how='left') \\\n",
    "        .pivot_table(\n",
    "            index = 'city',\n",
    "            #columns=[1,2,3,4,5,6,7,8,9,10,11,12],\n",
    "            values=[1,2,3,4,5,6,7,8,9,10,11,12],\n",
    "            aggfunc='mean'\n",
    ") \n",
    "with sps.axes_style(\"white\"):\n",
    "    f, ax = plt.subplots(figsize=(10, 15))\n",
    "    ax = sps.heatmap(cities_income, cmap='YlGnBu', linewidths=1)\n",
    "    plt.title('Распределение среднемесячной выручки по городам')"
   ]
  },
  {
   "cell_type": "markdown",
   "metadata": {},
   "source": [
    "Выделяются города с большой среднемесячной выручкой: Брянск, Воронеж, Иваново, Нижневартовск, Пенза, Сургут.\n",
    "Но пользователей в таких городах явно немного (меньше коэффициента Стьюдента в 30), чтобы делать выводы об общей выручки:"
   ]
  },
  {
   "cell_type": "code",
   "execution_count": 66,
   "metadata": {},
   "outputs": [
    {
     "data": {
      "text/plain": [
       "city\n",
       "Брянск           3\n",
       "Воронеж          6\n",
       "Иваново          1\n",
       "Нижневартовск    1\n",
       "Пенза            6\n",
       "Сургут           2\n",
       "Name: city, dtype: int64"
      ]
     },
     "execution_count": 66,
     "metadata": {},
     "output_type": "execute_result"
    }
   ],
   "source": [
    "users.query('city in [\"Брянск\", \"Воронеж\", \"Иваново\", \"Нижневартовск\", \"Пенза\", \"Сургут\"]') \\\n",
    "    .groupby(by='city')['city'] \\\n",
    "    .count()"
   ]
  },
  {
   "cell_type": "markdown",
   "metadata": {},
   "source": [
    "Таким образом, для отвержения второй гипотезы необходимо больше данных о пользователях."
   ]
  },
  {
   "cell_type": "markdown",
   "metadata": {},
   "source": [
    "Для финальной рекомендации компании \"Мегалайн\" подсчитаем общую выручку по каждому тарифу:"
   ]
  },
  {
   "cell_type": "code",
   "execution_count": 67,
   "metadata": {},
   "outputs": [
    {
     "data": {
      "text/html": [
       "<div>\n",
       "<style scoped>\n",
       "    .dataframe tbody tr th:only-of-type {\n",
       "        vertical-align: middle;\n",
       "    }\n",
       "\n",
       "    .dataframe tbody tr th {\n",
       "        vertical-align: top;\n",
       "    }\n",
       "\n",
       "    .dataframe thead th {\n",
       "        text-align: right;\n",
       "    }\n",
       "</style>\n",
       "<table border=\"1\" class=\"dataframe\">\n",
       "  <thead>\n",
       "    <tr style=\"text-align: right;\">\n",
       "      <th></th>\n",
       "      <th>1</th>\n",
       "      <th>2</th>\n",
       "      <th>3</th>\n",
       "      <th>4</th>\n",
       "      <th>5</th>\n",
       "      <th>6</th>\n",
       "      <th>7</th>\n",
       "      <th>8</th>\n",
       "      <th>9</th>\n",
       "      <th>10</th>\n",
       "      <th>11</th>\n",
       "      <th>12</th>\n",
       "    </tr>\n",
       "    <tr>\n",
       "      <th>tariff</th>\n",
       "      <th></th>\n",
       "      <th></th>\n",
       "      <th></th>\n",
       "      <th></th>\n",
       "      <th></th>\n",
       "      <th></th>\n",
       "      <th></th>\n",
       "      <th></th>\n",
       "      <th></th>\n",
       "      <th></th>\n",
       "      <th></th>\n",
       "      <th></th>\n",
       "    </tr>\n",
       "  </thead>\n",
       "  <tbody>\n",
       "    <tr>\n",
       "      <th>smart</th>\n",
       "      <td>198875</td>\n",
       "      <td>209151</td>\n",
       "      <td>240376</td>\n",
       "      <td>239316</td>\n",
       "      <td>284349</td>\n",
       "      <td>300309</td>\n",
       "      <td>328514</td>\n",
       "      <td>373590</td>\n",
       "      <td>373936</td>\n",
       "      <td>429317</td>\n",
       "      <td>437053</td>\n",
       "      <td>527565</td>\n",
       "    </tr>\n",
       "    <tr>\n",
       "      <th>ultra</th>\n",
       "      <td>290550</td>\n",
       "      <td>291150</td>\n",
       "      <td>292950</td>\n",
       "      <td>293400</td>\n",
       "      <td>297900</td>\n",
       "      <td>298050</td>\n",
       "      <td>305850</td>\n",
       "      <td>302850</td>\n",
       "      <td>293250</td>\n",
       "      <td>291150</td>\n",
       "      <td>292050</td>\n",
       "      <td>287550</td>\n",
       "    </tr>\n",
       "  </tbody>\n",
       "</table>\n",
       "</div>"
      ],
      "text/plain": [
       "            1       2       3       4       5       6       7       8   \\\n",
       "tariff                                                                   \n",
       "smart   198875  209151  240376  239316  284349  300309  328514  373590   \n",
       "ultra   290550  291150  292950  293400  297900  298050  305850  302850   \n",
       "\n",
       "            9       10      11      12  \n",
       "tariff                                  \n",
       "smart   373936  429317  437053  527565  \n",
       "ultra   293250  291150  292050  287550  "
      ]
     },
     "execution_count": 67,
     "metadata": {},
     "output_type": "execute_result"
    }
   ],
   "source": [
    "income_by_tariff = total_income.pivot_table(\n",
    "    index='tariff',\n",
    "    values=[1,2,3,4,5,6,7,8,9,10,11,12],\n",
    "    aggfunc='sum'\n",
    ")\n",
    "income_by_tariff"
   ]
  },
  {
   "cell_type": "code",
   "execution_count": 68,
   "metadata": {},
   "outputs": [
    {
     "data": {
      "image/png": "[encoded data removed]",
      "text/plain": [
       "<Figure size 864x360 with 1 Axes>"
      ]
     },
     "metadata": {
      "needs_background": "light"
     },
     "output_type": "display_data"
    }
   ],
   "source": [
    "income_by_tariff.plot(\n",
    "    kind='bar', \n",
    "    figsize=(12,5), \n",
    "    rot=0,\n",
    "    title='Распределение выручки по тарифам по месяцам'\n",
    ")\n",
    "None"
   ]
  },
  {
   "cell_type": "code",
   "execution_count": 69,
   "metadata": {},
   "outputs": [
    {
     "data": {
      "text/plain": [
       "tariff\n",
       "smart    3942351\n",
       "ultra    3536700\n",
       "Name: Sum, dtype: int64"
      ]
     },
     "execution_count": 69,
     "metadata": {},
     "output_type": "execute_result"
    }
   ],
   "source": [
    "#Выведем итоговую сумму по каждому тарифу\n",
    "income_by_tariff['Sum'] = income_by_tariff.sum(axis='columns')\n",
    "income_by_tariff['Sum']"
   ]
  },
  {
   "cell_type": "markdown",
   "metadata": {},
   "source": [
    "## Выводы<a name=\"resume\"></a>"
   ]
  },
  {
   "cell_type": "markdown",
   "metadata": {},
   "source": [
    "В нашем распоряжении 5 таблиц: информация о пользователях (`users`), их звонках (`calls`), сообщениях (`messages`), интернет-сессиях (`internet`) и тарифах (`tariffs`).\n",
    "\n",
    "Мы изучили пропуски, аномалии, привели необходимые данных к нужным типам.\n",
    "\n",
    "Затем мы подсчитали выручку по каждому виду услуги для каждого пользователя в месяц (округлили время разговоров до минут вверх, а потраченные мегабайты - до гигабайт в месяц в бо́льшую сторону). При подсчете мы учли несколько пользователей, которые отказались от использования тарифа в течение 2018 года и вычли из общей выручки те ежемесячные суммы, которые клиенты точно не могли платить.\n",
    "\n",
    "Поскольку в условии задачи не указано, в какой день денежные средства списываются со счета пользователя и возвращается ли ему часть средств абонентской платы, мы взяли немного **пессимистичный** сценарий, при котором клиенту возвращаеся вся сумма абонентской платы, если он не израсходовал лимит абонентской платы по своему тарифу в месяц отказа.\n",
    "\n",
    "Для каждого пользователя:\n",
    "* мы подсчитали для каждого пользователя количество сделанных звонков и израсходованных минут - `calls_pivot`;\n",
    "* количество отправленных сообщений по месяцам - `messages_pivot`;\n",
    "* объем израсходованного интернет-трафика по месяцам - `internet_pivot`;\n",
    "* помесячную выручку с каждого пользователя - `total_income`.\n",
    "\n",
    "Построили гистограммы распределения среднемесячной длительности разговоров, количества сообщений и объема интернет-трафика, построили также \"ящик с усами\" по этим значениям. <br>\n",
    "\n",
    "Сделали следующие выводы:\n",
    "* вызовы\n",
    "    * средняя длительность разговорв в месяц у пользователей тарифа `smart` около 390 минут, среднее стандартное отклонение 180 минут, больше 480 минут в среднем в месяц никто не разговаривает;\n",
    "    * средняя длительность разговорв в месяц у пользователей тарифа `ultra` около 510 минут, среднее стандартное \n",
    "    отклонение 290 минут, больше 615 минут в среднем в месяц никто не разговаривает.\n",
    "\n",
    "* сообщения\n",
    "    * среднее количество сообщений у пользователей тарифа `smart` около 20 в месяц, среднее стандартное отклонение - 23 сообщения, больше 40 сообщений в среднем в месяц никто не отправляет;\n",
    "    * среднее количество сообщений у пользователей тарифа `ultra` около 32 в месяц, среднее стандартное отклонение - 37 сообщения, больше 67 сообщений в среднем в месяц никто не отправляет.\n",
    "    \n",
    "* интернет-трафик\n",
    "    * средний объем интернет-трафика у пользователей тарифа `smart` около 8 ГБ в месяц, среднее стандартное отклонение - 7 ГБ, больше 18 ГБ в среднем в месяц никто трафика потребляет (а больше 13 ГБ - в среднем менее 25%);\n",
    "    * средний объем интернет-трафика у пользователей тарифа `ultra` около 11 ГБ в месяц, среднее стандартное отклонение - 10 ГБ, больше 21 ГБ в среднем в месяц никто трафика потребляет (а больше 17 ГБ - в среднем меньее 25%).\n",
    "\n",
    "Проверили две гипотезы и сделали следующие выводы:\n",
    "\n",
    "* **средняя выручка пользователей тарифов \"Ультра\" и \"Смарт\" различаются,** поскольку обратное противоречит полученным в ходе анализа данным.\n",
    "* возожно, средняя выручка пользователей из Москвы **не** отличается от выручки пользователей из других регионов вместе взятых. Это может быть связано как с количеством пользователей из Москвы (в выборке их всего 99 против 401 из других городов), а также разнородностью потребления услуг в разных регионах. Для более точного приближения к достоверности гипотезы необходимо провести анализ на большем количестве пользователей.\n",
    "\n",
    "**Финальная рекомендация компании Мегалайн:**\n",
    "\n",
    "По результатам проведенной работы по предоставленной выборке при планировании рекламного бюджета можно дать 2 рекомендации:\n",
    "1. Тариф \"Смарт\" приносит больше выручки, чем \"Ультра\", при этом пользователи \"Ультры\" в среднем обходятся лимитами \"Смарта\". Соответственно, для увеличения выручки можно больше сконцентрировать внимание на рекламе тарифа \"Смарт\": таких пользователей в течение года становится больше и они начинают обгонять по выручке \"Смарт\". *(Самые доступные для людей тарифы часто - самые прибыльные)*\n",
    "2. По региональному охвату можно распределить рекламный бюджет на регионы, приведя его к пропорции \"Москва-регионы\" - \"20/80\" *(мы не знаем как сейчас распределен бюджет)*, поскольку в среднем ежемесячная выручка пользователей из Москвы скорее всего не отличается от среднемесячной выручки пользователей из других городов, а по количеству - пользователей из Москвы 20% от общего числа клиентов Мегалайна."
   ]
  }
 ],
 "metadata": {
  "ExecuteTimeLog": [
   {
    "duration": 1179,
    "start_time": "2022-05-09T15:33:03.278Z"
   },
   {
    "duration": 360,
    "start_time": "2022-05-09T15:33:04.459Z"
   },
   {
    "duration": 13,
    "start_time": "2022-05-09T15:33:04.820Z"
   },
   {
    "duration": 17,
    "start_time": "2022-05-09T15:33:04.835Z"
   },
   {
    "duration": 12,
    "start_time": "2022-05-09T15:33:04.854Z"
   },
   {
    "duration": 12,
    "start_time": "2022-05-09T15:33:04.868Z"
   },
   {
    "duration": 9,
    "start_time": "2022-05-09T15:33:04.882Z"
   },
   {
    "duration": 20,
    "start_time": "2022-05-09T15:33:04.893Z"
   },
   {
    "duration": 8,
    "start_time": "2022-05-09T15:33:04.915Z"
   },
   {
    "duration": 21,
    "start_time": "2022-05-09T15:33:04.925Z"
   },
   {
    "duration": 29,
    "start_time": "2022-05-09T15:33:04.947Z"
   },
   {
    "duration": 27,
    "start_time": "2022-05-09T15:33:04.978Z"
   },
   {
    "duration": 92,
    "start_time": "2022-05-09T15:33:05.006Z"
   },
   {
    "duration": 27,
    "start_time": "2022-05-09T15:33:05.100Z"
   },
   {
    "duration": 4,
    "start_time": "2022-05-09T15:33:05.129Z"
   },
   {
    "duration": 7,
    "start_time": "2022-05-09T15:33:05.134Z"
   },
   {
    "duration": 35,
    "start_time": "2022-05-09T15:33:05.142Z"
   },
   {
    "duration": 17,
    "start_time": "2022-05-09T15:33:05.178Z"
   },
   {
    "duration": 251,
    "start_time": "2022-05-09T15:33:05.196Z"
   },
   {
    "duration": 232,
    "start_time": "2022-05-09T15:33:05.449Z"
   },
   {
    "duration": 4,
    "start_time": "2022-05-09T15:33:05.683Z"
   },
   {
    "duration": 61,
    "start_time": "2022-05-09T15:33:05.689Z"
   },
   {
    "duration": 4,
    "start_time": "2022-05-09T15:33:05.752Z"
   },
   {
    "duration": 209,
    "start_time": "2022-05-09T15:33:05.773Z"
   },
   {
    "duration": 179,
    "start_time": "2022-05-09T15:33:05.984Z"
   },
   {
    "duration": 24,
    "start_time": "2022-05-09T15:33:06.165Z"
   },
   {
    "duration": 238,
    "start_time": "2022-05-09T15:33:06.190Z"
   },
   {
    "duration": 29,
    "start_time": "2022-05-09T15:33:06.432Z"
   },
   {
    "duration": 5,
    "start_time": "2022-05-09T15:33:06.473Z"
   },
   {
    "duration": 337,
    "start_time": "2022-05-09T15:33:06.479Z"
   },
   {
    "duration": 25,
    "start_time": "2022-05-09T15:33:06.818Z"
   },
   {
    "duration": 235,
    "start_time": "2022-05-09T15:33:06.844Z"
   },
   {
    "duration": 252,
    "start_time": "2022-05-09T15:33:07.081Z"
   },
   {
    "duration": 261,
    "start_time": "2022-05-09T15:33:07.335Z"
   },
   {
    "duration": 21,
    "start_time": "2022-05-09T15:33:07.597Z"
   },
   {
    "duration": 4,
    "start_time": "2022-05-09T15:33:07.619Z"
   },
   {
    "duration": 95,
    "start_time": "2022-05-09T15:33:07.625Z"
   },
   {
    "duration": 14,
    "start_time": "2022-05-09T15:33:07.721Z"
   },
   {
    "duration": 50,
    "start_time": "2022-05-09T15:33:07.737Z"
   },
   {
    "duration": 16,
    "start_time": "2022-05-09T15:33:07.789Z"
   },
   {
    "duration": 42,
    "start_time": "2022-05-09T15:33:07.807Z"
   },
   {
    "duration": 1309,
    "start_time": "2022-05-09T15:33:07.851Z"
   },
   {
    "duration": 1267,
    "start_time": "2022-05-09T15:33:09.161Z"
   },
   {
    "duration": 1298,
    "start_time": "2022-05-09T15:33:10.430Z"
   },
   {
    "duration": 49,
    "start_time": "2022-05-09T15:33:11.729Z"
   },
   {
    "duration": 7,
    "start_time": "2022-05-09T15:33:11.779Z"
   },
   {
    "duration": 15,
    "start_time": "2022-05-09T15:33:11.788Z"
   },
   {
    "duration": 51,
    "start_time": "2022-05-09T15:33:11.805Z"
   },
   {
    "duration": 15,
    "start_time": "2022-05-09T15:33:11.858Z"
   },
   {
    "duration": 73,
    "start_time": "2022-05-09T15:33:11.875Z"
   },
   {
    "duration": 448,
    "start_time": "2022-05-09T15:33:11.949Z"
   },
   {
    "duration": 99,
    "start_time": "2022-05-09T15:33:12.399Z"
   },
   {
    "duration": 90,
    "start_time": "2022-05-09T15:33:12.499Z"
   },
   {
    "duration": 210,
    "start_time": "2022-05-09T15:33:12.591Z"
   },
   {
    "duration": 197,
    "start_time": "2022-05-09T15:33:12.803Z"
   },
   {
    "duration": 197,
    "start_time": "2022-05-09T15:33:13.002Z"
   },
   {
    "duration": 205,
    "start_time": "2022-05-09T15:33:13.200Z"
   },
   {
    "duration": 189,
    "start_time": "2022-05-09T15:33:13.406Z"
   },
   {
    "duration": 187,
    "start_time": "2022-05-09T15:33:13.597Z"
   },
   {
    "duration": 9,
    "start_time": "2022-05-09T15:33:13.786Z"
   },
   {
    "duration": 8,
    "start_time": "2022-05-09T15:33:13.797Z"
   },
   {
    "duration": 143,
    "start_time": "2022-05-09T15:33:13.806Z"
   },
   {
    "duration": 4,
    "start_time": "2022-05-09T15:33:13.951Z"
   },
   {
    "duration": 21,
    "start_time": "2022-05-09T15:33:13.957Z"
   },
   {
    "duration": 1589,
    "start_time": "2022-05-09T15:33:13.980Z"
   },
   {
    "duration": 9,
    "start_time": "2022-05-09T15:33:15.571Z"
   },
   {
    "duration": 1700,
    "start_time": "2022-05-09T15:37:28.316Z"
   },
   {
    "duration": 16,
    "start_time": "2022-05-09T15:39:46.367Z"
   },
   {
    "duration": 10,
    "start_time": "2022-05-09T15:40:18.701Z"
   }
  ],
  "interpreter": {
   "hash": "d324301cd382ad6af500ace760f9f3e8618ce9ec083e2ad9c3dfebb03da845cd"
  },
  "kernelspec": {
   "display_name": "Python 3 (ipykernel)",
   "language": "python",
   "name": "python3"
  },
  "language_info": {
   "codemirror_mode": {
    "name": "ipython",
    "version": 3
   },
   "file_extension": ".py",
   "mimetype": "text/x-python",
   "name": "python",
   "nbconvert_exporter": "python",
   "pygments_lexer": "ipython3",
   "version": "3.9.5"
  },
  "toc": {
   "base_numbering": 1,
   "nav_menu": {},
   "number_sections": true,
   "sideBar": true,
   "skip_h1_title": true,
   "title_cell": "Table of Contents",
   "title_sidebar": "Contents",
   "toc_cell": false,
   "toc_position": {},
   "toc_section_display": true,
   "toc_window_display": true
  }
 },
 "nbformat": 4,
 "nbformat_minor": 4
}
